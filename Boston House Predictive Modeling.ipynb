{
 "cells": [
  {
   "cell_type": "markdown",
   "id": "71e838b0",
   "metadata": {
    "deletable": false,
    "editable": false,
    "run_control": {
     "frozen": true
    }
   },
   "source": [
    "https://www.kaggle.com/datasets/vikrishnan/boston-house-prices"
   ]
  },
  {
   "cell_type": "code",
   "execution_count": 1,
   "id": "b185f5de",
   "metadata": {
    "ExecuteTime": {
     "end_time": "2024-06-25T09:31:28.921893Z",
     "start_time": "2024-06-25T09:31:28.246344Z"
    },
    "deletable": false,
    "editable": false
   },
   "outputs": [],
   "source": [
    "import pandas as pd\n",
    "import numpy as np"
   ]
  },
  {
   "cell_type": "code",
   "execution_count": 2,
   "id": "68039049",
   "metadata": {
    "ExecuteTime": {
     "end_time": "2024-06-25T09:31:30.091197Z",
     "start_time": "2024-06-25T09:31:28.994509Z"
    },
    "deletable": false,
    "editable": false
   },
   "outputs": [],
   "source": [
    "from sklearn.preprocessing import PowerTransformer, StandardScaler\n",
    "from sklearn.metrics import r2_score, mean_absolute_error\n",
    "from sklearn.model_selection import train_test_split, KFold, cross_val_score, RandomizedSearchCV\n",
    "from sklearn.pipeline import Pipeline\n",
    "from sklearn.base import TransformerMixin, BaseEstimator"
   ]
  },
  {
   "cell_type": "code",
   "execution_count": 3,
   "id": "3ca8e7a9",
   "metadata": {
    "ExecuteTime": {
     "end_time": "2024-06-25T09:31:48.274802Z",
     "start_time": "2024-06-25T09:31:48.156240Z"
    },
    "deletable": false,
    "editable": false
   },
   "outputs": [],
   "source": [
    "from sklearn.linear_model import LinearRegression\n",
    "from sklearn.svm import SVR\n",
    "from xgboost import XGBRegressor"
   ]
  },
  {
   "cell_type": "code",
   "execution_count": 4,
   "id": "36023aca",
   "metadata": {
    "ExecuteTime": {
     "end_time": "2024-06-25T09:31:49.013645Z",
     "start_time": "2024-06-25T09:31:48.596195Z"
    },
    "deletable": false,
    "editable": false
   },
   "outputs": [],
   "source": [
    "from plots.error_line import error_line\n",
    "from plots.error_scatter import error_scatter"
   ]
  },
  {
   "cell_type": "markdown",
   "id": "76dc1d0b",
   "metadata": {
    "ExecuteTime": {
     "end_time": "2024-06-25T02:32:19.888068Z",
     "start_time": "2024-06-25T02:32:19.882070Z"
    },
    "deletable": false,
    "editable": false,
    "heading_collapsed": true,
    "run_control": {
     "frozen": true
    }
   },
   "source": [
    "### Data Preparation"
   ]
  },
  {
   "cell_type": "code",
   "execution_count": 5,
   "id": "1f148029",
   "metadata": {
    "ExecuteTime": {
     "end_time": "2024-06-25T09:31:51.657709Z",
     "start_time": "2024-06-25T09:31:51.639517Z"
    },
    "deletable": false,
    "editable": false,
    "hidden": true
   },
   "outputs": [],
   "source": [
    "column_names = ['CRIM', 'ZN', 'INDUS', 'CHAS', 'NOX', 'RM', 'AGE', 'DIS', 'RAD', 'TAX', 'PTRATIO', 'B', 'LSTAT', 'MEDV']\n",
    "df = pd.read_csv(\"F:/Data/datas/housing.csv\", delimiter=r\"\\s+\", names=column_names)"
   ]
  },
  {
   "cell_type": "code",
   "execution_count": 6,
   "id": "b4660b6c",
   "metadata": {
    "ExecuteTime": {
     "end_time": "2024-06-25T09:31:52.109192Z",
     "start_time": "2024-06-25T09:31:52.093533Z"
    },
    "deletable": false,
    "editable": false,
    "hidden": true
   },
   "outputs": [],
   "source": [
    "CAT_COLS = ['CHAS', 'RAD']\n",
    "NUM_COLS = df.columns[~df.columns.isin(CAT_COLS)].to_list()\n",
    "NUM_COLS.remove('MEDV')"
   ]
  },
  {
   "cell_type": "code",
   "execution_count": 7,
   "id": "6c1c4fed",
   "metadata": {
    "ExecuteTime": {
     "end_time": "2024-06-25T09:31:52.677210Z",
     "start_time": "2024-06-25T09:31:52.652817Z"
    },
    "deletable": false,
    "editable": false,
    "hidden": true
   },
   "outputs": [
    {
     "data": {
      "text/plain": [
       "CRIM       0\n",
       "ZN         0\n",
       "INDUS      0\n",
       "CHAS       0\n",
       "NOX        0\n",
       "RM         0\n",
       "AGE        0\n",
       "DIS        0\n",
       "RAD        0\n",
       "TAX        0\n",
       "PTRATIO    0\n",
       "B          0\n",
       "LSTAT      0\n",
       "MEDV       0\n",
       "dtype: int64"
      ]
     },
     "execution_count": 7,
     "metadata": {},
     "output_type": "execute_result"
    }
   ],
   "source": [
    "df.isna().sum()"
   ]
  },
  {
   "cell_type": "markdown",
   "id": "41f7c363",
   "metadata": {
    "ExecuteTime": {
     "end_time": "2024-06-25T02:32:55.419262Z",
     "start_time": "2024-06-25T02:32:55.411099Z"
    },
    "deletable": false,
    "editable": false,
    "run_control": {
     "frozen": true
    }
   },
   "source": [
    "### Data Preprocessing"
   ]
  },
  {
   "cell_type": "code",
   "execution_count": 8,
   "id": "cc5cc096",
   "metadata": {
    "ExecuteTime": {
     "end_time": "2024-06-25T09:31:57.310924Z",
     "start_time": "2024-06-25T09:31:57.250635Z"
    },
    "collapsed": true,
    "deletable": false,
    "editable": false
   },
   "outputs": [
    {
     "name": "stdout",
     "output_type": "stream",
     "text": [
      "skewness\n",
      "yeo-johnson:  4.604747305574276\n",
      "sqrt:  10.816156352028656\n",
      "cbrt:  10.102657627038495\n",
      "log:  10.0233009903071\n",
      "log1p:  11.56286085253241\n"
     ]
    },
    {
     "name": "stderr",
     "output_type": "stream",
     "text": [
      "F:\\Python\\tester\\lib\\site-packages\\pandas\\core\\internals\\blocks.py:366: RuntimeWarning: divide by zero encountered in log\n",
      "  result = func(self.values, **kwargs)\n",
      "F:\\Python\\tester\\lib\\site-packages\\pandas\\core\\nanops.py:1248: RuntimeWarning: invalid value encountered in subtract\n",
      "  adjusted = values - mean\n"
     ]
    }
   ],
   "source": [
    "print(\"skewness\")\n",
    "print('yeo-johnson: ', pd.DataFrame(PowerTransformer(method='yeo-johnson').fit_transform(df[NUM_COLS])).skew().abs().sum())\n",
    "print('sqrt: ', np.sqrt(df[NUM_COLS]).skew().abs().sum())\n",
    "print('cbrt: ', np.cbrt(df[NUM_COLS]).skew().abs().sum())\n",
    "print('log: ', np.log(df[NUM_COLS]).skew().abs().sum())\n",
    "print('log1p: ', np.log1p(df[NUM_COLS]).skew().abs().sum())"
   ]
  },
  {
   "cell_type": "markdown",
   "id": "99094f6d",
   "metadata": {
    "deletable": false,
    "editable": false,
    "run_control": {
     "frozen": true
    }
   },
   "source": [
    "Since the yeo-johnson technique results in the lowest skew value, we will further use the \"yeo-johnson\" transformation technique in our model pipeline."
   ]
  },
  {
   "cell_type": "markdown",
   "id": "50dbcd53",
   "metadata": {
    "ExecuteTime": {
     "end_time": "2024-06-25T02:32:41.120416Z",
     "start_time": "2024-06-25T02:32:41.113504Z"
    },
    "deletable": false,
    "editable": false,
    "run_control": {
     "frozen": true
    }
   },
   "source": [
    "### Predictive Modeling using Sklearn"
   ]
  },
  {
   "cell_type": "code",
   "execution_count": 9,
   "id": "77ef418e",
   "metadata": {
    "ExecuteTime": {
     "end_time": "2024-06-25T09:32:00.502666Z",
     "start_time": "2024-06-25T09:32:00.488477Z"
    },
    "code_folding": [
     0
    ],
    "deletable": false,
    "editable": false
   },
   "outputs": [],
   "source": [
    "class WinsorizingOutlier(BaseEstimator, TransformerMixin):\n",
    "    def __init__(self, columns):\n",
    "        self.columns = columns\n",
    "        self.winsorizing_outliers = {}\n",
    "\n",
    "    def fit(self, X: pd.DataFrame, y=None):        \n",
    "        self.winsorizing_outliers = self.get_outliers_caps(X)\n",
    "        \n",
    "        return self\n",
    "\n",
    "    def transform(self, X: pd.DataFrame) -> pd.DataFrame:    \n",
    "        X_transformed = X.copy()\n",
    "        \n",
    "        for col in self.columns:\n",
    "            top_cap = self.winsorizing_outliers[col]['top_cap']\n",
    "            bottom_cap = self.winsorizing_outliers[col]['bottom_cap']\n",
    "            X_transformed[col] = X_transformed[col].clip(lower=bottom_cap, upper=top_cap)\n",
    "        \n",
    "        return X_transformed\n",
    "\n",
    "    def get_outliers_caps(self, df: pd.DataFrame) -> dict:\n",
    "        outliers = {}\n",
    "        for col in self.columns:\n",
    "            Q1 = df[col].quantile(0.25)\n",
    "            Q3 = df[col].quantile(0.75)\n",
    "            IQR = Q3 - Q1\n",
    "\n",
    "            top_cap = Q3 + (IQR * 1.5)\n",
    "            bottom_cap = Q1 - (IQR * 1.5)\n",
    "            \n",
    "            outliers[col] = {\"top_cap\": top_cap, \"bottom_cap\": bottom_cap}\n",
    "        \n",
    "        return outliers"
   ]
  },
  {
   "cell_type": "code",
   "execution_count": 10,
   "id": "82d4c050",
   "metadata": {
    "ExecuteTime": {
     "end_time": "2024-06-25T09:32:01.912823Z",
     "start_time": "2024-06-25T09:32:01.902727Z"
    },
    "deletable": false,
    "editable": false
   },
   "outputs": [],
   "source": [
    "target_caps = WinsorizingOutlier(['MEDV']).get_outliers_caps(df)['MEDV']"
   ]
  },
  {
   "cell_type": "code",
   "execution_count": 11,
   "id": "2831ada6",
   "metadata": {
    "ExecuteTime": {
     "end_time": "2024-06-25T09:32:02.752320Z",
     "start_time": "2024-06-25T09:32:02.742052Z"
    },
    "deletable": false,
    "editable": false
   },
   "outputs": [],
   "source": [
    "X = df.drop(['MEDV'], axis = 1)\n",
    "y = df['MEDV']\n",
    "\n",
    "y_transformed = df['MEDV'].clip(lower=target_caps['top_cap'], upper=target_caps['bottom_cap'])"
   ]
  },
  {
   "cell_type": "code",
   "execution_count": 12,
   "id": "04689406",
   "metadata": {
    "ExecuteTime": {
     "end_time": "2024-06-25T09:32:03.704777Z",
     "start_time": "2024-06-25T09:32:03.694832Z"
    },
    "deletable": false,
    "editable": false
   },
   "outputs": [],
   "source": [
    "X_train, X_test, y_train, y_test = train_test_split(X, y_transformed, test_size=0.3, random_state=42)\n",
    "kf = KFold(n_splits=5, shuffle=True, random_state=42)"
   ]
  },
  {
   "cell_type": "code",
   "execution_count": 13,
   "id": "64b34b7e",
   "metadata": {
    "ExecuteTime": {
     "end_time": "2024-06-25T09:32:05.836889Z",
     "start_time": "2024-06-25T09:32:05.827916Z"
    },
    "deletable": false,
    "editable": false
   },
   "outputs": [],
   "source": [
    "preprocessed = [\n",
    "    ('outlier_imputer', WinsorizingOutlier(columns=NUM_COLS)),\n",
    "    ('power_transformer', PowerTransformer(method='yeo-johnson')), \n",
    "    ('scaler', StandardScaler()),    \n",
    "]"
   ]
  },
  {
   "cell_type": "markdown",
   "id": "40b42b00",
   "metadata": {
    "ExecuteTime": {
     "end_time": "2024-06-25T02:55:00.379187Z",
     "start_time": "2024-06-25T02:55:00.373204Z"
    },
    "deletable": false,
    "editable": false,
    "run_control": {
     "frozen": true
    }
   },
   "source": [
    "#### Linear Regression"
   ]
  },
  {
   "cell_type": "code",
   "execution_count": 14,
   "id": "0d763d82",
   "metadata": {
    "ExecuteTime": {
     "end_time": "2024-06-25T09:32:07.704365Z",
     "start_time": "2024-06-25T09:32:07.600226Z"
    },
    "deletable": false,
    "editable": false
   },
   "outputs": [
    {
     "data": {
      "text/html": [
       "<style>#sk-container-id-1 {\n",
       "  /* Definition of color scheme common for light and dark mode */\n",
       "  --sklearn-color-text: black;\n",
       "  --sklearn-color-line: gray;\n",
       "  /* Definition of color scheme for unfitted estimators */\n",
       "  --sklearn-color-unfitted-level-0: #fff5e6;\n",
       "  --sklearn-color-unfitted-level-1: #f6e4d2;\n",
       "  --sklearn-color-unfitted-level-2: #ffe0b3;\n",
       "  --sklearn-color-unfitted-level-3: chocolate;\n",
       "  /* Definition of color scheme for fitted estimators */\n",
       "  --sklearn-color-fitted-level-0: #f0f8ff;\n",
       "  --sklearn-color-fitted-level-1: #d4ebff;\n",
       "  --sklearn-color-fitted-level-2: #b3dbfd;\n",
       "  --sklearn-color-fitted-level-3: cornflowerblue;\n",
       "\n",
       "  /* Specific color for light theme */\n",
       "  --sklearn-color-text-on-default-background: var(--sg-text-color, var(--theme-code-foreground, var(--jp-content-font-color1, black)));\n",
       "  --sklearn-color-background: var(--sg-background-color, var(--theme-background, var(--jp-layout-color0, white)));\n",
       "  --sklearn-color-border-box: var(--sg-text-color, var(--theme-code-foreground, var(--jp-content-font-color1, black)));\n",
       "  --sklearn-color-icon: #696969;\n",
       "\n",
       "  @media (prefers-color-scheme: dark) {\n",
       "    /* Redefinition of color scheme for dark theme */\n",
       "    --sklearn-color-text-on-default-background: var(--sg-text-color, var(--theme-code-foreground, var(--jp-content-font-color1, white)));\n",
       "    --sklearn-color-background: var(--sg-background-color, var(--theme-background, var(--jp-layout-color0, #111)));\n",
       "    --sklearn-color-border-box: var(--sg-text-color, var(--theme-code-foreground, var(--jp-content-font-color1, white)));\n",
       "    --sklearn-color-icon: #878787;\n",
       "  }\n",
       "}\n",
       "\n",
       "#sk-container-id-1 {\n",
       "  color: var(--sklearn-color-text);\n",
       "}\n",
       "\n",
       "#sk-container-id-1 pre {\n",
       "  padding: 0;\n",
       "}\n",
       "\n",
       "#sk-container-id-1 input.sk-hidden--visually {\n",
       "  border: 0;\n",
       "  clip: rect(1px 1px 1px 1px);\n",
       "  clip: rect(1px, 1px, 1px, 1px);\n",
       "  height: 1px;\n",
       "  margin: -1px;\n",
       "  overflow: hidden;\n",
       "  padding: 0;\n",
       "  position: absolute;\n",
       "  width: 1px;\n",
       "}\n",
       "\n",
       "#sk-container-id-1 div.sk-dashed-wrapped {\n",
       "  border: 1px dashed var(--sklearn-color-line);\n",
       "  margin: 0 0.4em 0.5em 0.4em;\n",
       "  box-sizing: border-box;\n",
       "  padding-bottom: 0.4em;\n",
       "  background-color: var(--sklearn-color-background);\n",
       "}\n",
       "\n",
       "#sk-container-id-1 div.sk-container {\n",
       "  /* jupyter's `normalize.less` sets `[hidden] { display: none; }`\n",
       "     but bootstrap.min.css set `[hidden] { display: none !important; }`\n",
       "     so we also need the `!important` here to be able to override the\n",
       "     default hidden behavior on the sphinx rendered scikit-learn.org.\n",
       "     See: https://github.com/scikit-learn/scikit-learn/issues/21755 */\n",
       "  display: inline-block !important;\n",
       "  position: relative;\n",
       "}\n",
       "\n",
       "#sk-container-id-1 div.sk-text-repr-fallback {\n",
       "  display: none;\n",
       "}\n",
       "\n",
       "div.sk-parallel-item,\n",
       "div.sk-serial,\n",
       "div.sk-item {\n",
       "  /* draw centered vertical line to link estimators */\n",
       "  background-image: linear-gradient(var(--sklearn-color-text-on-default-background), var(--sklearn-color-text-on-default-background));\n",
       "  background-size: 2px 100%;\n",
       "  background-repeat: no-repeat;\n",
       "  background-position: center center;\n",
       "}\n",
       "\n",
       "/* Parallel-specific style estimator block */\n",
       "\n",
       "#sk-container-id-1 div.sk-parallel-item::after {\n",
       "  content: \"\";\n",
       "  width: 100%;\n",
       "  border-bottom: 2px solid var(--sklearn-color-text-on-default-background);\n",
       "  flex-grow: 1;\n",
       "}\n",
       "\n",
       "#sk-container-id-1 div.sk-parallel {\n",
       "  display: flex;\n",
       "  align-items: stretch;\n",
       "  justify-content: center;\n",
       "  background-color: var(--sklearn-color-background);\n",
       "  position: relative;\n",
       "}\n",
       "\n",
       "#sk-container-id-1 div.sk-parallel-item {\n",
       "  display: flex;\n",
       "  flex-direction: column;\n",
       "}\n",
       "\n",
       "#sk-container-id-1 div.sk-parallel-item:first-child::after {\n",
       "  align-self: flex-end;\n",
       "  width: 50%;\n",
       "}\n",
       "\n",
       "#sk-container-id-1 div.sk-parallel-item:last-child::after {\n",
       "  align-self: flex-start;\n",
       "  width: 50%;\n",
       "}\n",
       "\n",
       "#sk-container-id-1 div.sk-parallel-item:only-child::after {\n",
       "  width: 0;\n",
       "}\n",
       "\n",
       "/* Serial-specific style estimator block */\n",
       "\n",
       "#sk-container-id-1 div.sk-serial {\n",
       "  display: flex;\n",
       "  flex-direction: column;\n",
       "  align-items: center;\n",
       "  background-color: var(--sklearn-color-background);\n",
       "  padding-right: 1em;\n",
       "  padding-left: 1em;\n",
       "}\n",
       "\n",
       "\n",
       "/* Toggleable style: style used for estimator/Pipeline/ColumnTransformer box that is\n",
       "clickable and can be expanded/collapsed.\n",
       "- Pipeline and ColumnTransformer use this feature and define the default style\n",
       "- Estimators will overwrite some part of the style using the `sk-estimator` class\n",
       "*/\n",
       "\n",
       "/* Pipeline and ColumnTransformer style (default) */\n",
       "\n",
       "#sk-container-id-1 div.sk-toggleable {\n",
       "  /* Default theme specific background. It is overwritten whether we have a\n",
       "  specific estimator or a Pipeline/ColumnTransformer */\n",
       "  background-color: var(--sklearn-color-background);\n",
       "}\n",
       "\n",
       "/* Toggleable label */\n",
       "#sk-container-id-1 label.sk-toggleable__label {\n",
       "  cursor: pointer;\n",
       "  display: block;\n",
       "  width: 100%;\n",
       "  margin-bottom: 0;\n",
       "  padding: 0.5em;\n",
       "  box-sizing: border-box;\n",
       "  text-align: center;\n",
       "}\n",
       "\n",
       "#sk-container-id-1 label.sk-toggleable__label-arrow:before {\n",
       "  /* Arrow on the left of the label */\n",
       "  content: \"▸\";\n",
       "  float: left;\n",
       "  margin-right: 0.25em;\n",
       "  color: var(--sklearn-color-icon);\n",
       "}\n",
       "\n",
       "#sk-container-id-1 label.sk-toggleable__label-arrow:hover:before {\n",
       "  color: var(--sklearn-color-text);\n",
       "}\n",
       "\n",
       "/* Toggleable content - dropdown */\n",
       "\n",
       "#sk-container-id-1 div.sk-toggleable__content {\n",
       "  max-height: 0;\n",
       "  max-width: 0;\n",
       "  overflow: hidden;\n",
       "  text-align: left;\n",
       "  /* unfitted */\n",
       "  background-color: var(--sklearn-color-unfitted-level-0);\n",
       "}\n",
       "\n",
       "#sk-container-id-1 div.sk-toggleable__content.fitted {\n",
       "  /* fitted */\n",
       "  background-color: var(--sklearn-color-fitted-level-0);\n",
       "}\n",
       "\n",
       "#sk-container-id-1 div.sk-toggleable__content pre {\n",
       "  margin: 0.2em;\n",
       "  border-radius: 0.25em;\n",
       "  color: var(--sklearn-color-text);\n",
       "  /* unfitted */\n",
       "  background-color: var(--sklearn-color-unfitted-level-0);\n",
       "}\n",
       "\n",
       "#sk-container-id-1 div.sk-toggleable__content.fitted pre {\n",
       "  /* unfitted */\n",
       "  background-color: var(--sklearn-color-fitted-level-0);\n",
       "}\n",
       "\n",
       "#sk-container-id-1 input.sk-toggleable__control:checked~div.sk-toggleable__content {\n",
       "  /* Expand drop-down */\n",
       "  max-height: 200px;\n",
       "  max-width: 100%;\n",
       "  overflow: auto;\n",
       "}\n",
       "\n",
       "#sk-container-id-1 input.sk-toggleable__control:checked~label.sk-toggleable__label-arrow:before {\n",
       "  content: \"▾\";\n",
       "}\n",
       "\n",
       "/* Pipeline/ColumnTransformer-specific style */\n",
       "\n",
       "#sk-container-id-1 div.sk-label input.sk-toggleable__control:checked~label.sk-toggleable__label {\n",
       "  color: var(--sklearn-color-text);\n",
       "  background-color: var(--sklearn-color-unfitted-level-2);\n",
       "}\n",
       "\n",
       "#sk-container-id-1 div.sk-label.fitted input.sk-toggleable__control:checked~label.sk-toggleable__label {\n",
       "  background-color: var(--sklearn-color-fitted-level-2);\n",
       "}\n",
       "\n",
       "/* Estimator-specific style */\n",
       "\n",
       "/* Colorize estimator box */\n",
       "#sk-container-id-1 div.sk-estimator input.sk-toggleable__control:checked~label.sk-toggleable__label {\n",
       "  /* unfitted */\n",
       "  background-color: var(--sklearn-color-unfitted-level-2);\n",
       "}\n",
       "\n",
       "#sk-container-id-1 div.sk-estimator.fitted input.sk-toggleable__control:checked~label.sk-toggleable__label {\n",
       "  /* fitted */\n",
       "  background-color: var(--sklearn-color-fitted-level-2);\n",
       "}\n",
       "\n",
       "#sk-container-id-1 div.sk-label label.sk-toggleable__label,\n",
       "#sk-container-id-1 div.sk-label label {\n",
       "  /* The background is the default theme color */\n",
       "  color: var(--sklearn-color-text-on-default-background);\n",
       "}\n",
       "\n",
       "/* On hover, darken the color of the background */\n",
       "#sk-container-id-1 div.sk-label:hover label.sk-toggleable__label {\n",
       "  color: var(--sklearn-color-text);\n",
       "  background-color: var(--sklearn-color-unfitted-level-2);\n",
       "}\n",
       "\n",
       "/* Label box, darken color on hover, fitted */\n",
       "#sk-container-id-1 div.sk-label.fitted:hover label.sk-toggleable__label.fitted {\n",
       "  color: var(--sklearn-color-text);\n",
       "  background-color: var(--sklearn-color-fitted-level-2);\n",
       "}\n",
       "\n",
       "/* Estimator label */\n",
       "\n",
       "#sk-container-id-1 div.sk-label label {\n",
       "  font-family: monospace;\n",
       "  font-weight: bold;\n",
       "  display: inline-block;\n",
       "  line-height: 1.2em;\n",
       "}\n",
       "\n",
       "#sk-container-id-1 div.sk-label-container {\n",
       "  text-align: center;\n",
       "}\n",
       "\n",
       "/* Estimator-specific */\n",
       "#sk-container-id-1 div.sk-estimator {\n",
       "  font-family: monospace;\n",
       "  border: 1px dotted var(--sklearn-color-border-box);\n",
       "  border-radius: 0.25em;\n",
       "  box-sizing: border-box;\n",
       "  margin-bottom: 0.5em;\n",
       "  /* unfitted */\n",
       "  background-color: var(--sklearn-color-unfitted-level-0);\n",
       "}\n",
       "\n",
       "#sk-container-id-1 div.sk-estimator.fitted {\n",
       "  /* fitted */\n",
       "  background-color: var(--sklearn-color-fitted-level-0);\n",
       "}\n",
       "\n",
       "/* on hover */\n",
       "#sk-container-id-1 div.sk-estimator:hover {\n",
       "  /* unfitted */\n",
       "  background-color: var(--sklearn-color-unfitted-level-2);\n",
       "}\n",
       "\n",
       "#sk-container-id-1 div.sk-estimator.fitted:hover {\n",
       "  /* fitted */\n",
       "  background-color: var(--sklearn-color-fitted-level-2);\n",
       "}\n",
       "\n",
       "/* Specification for estimator info (e.g. \"i\" and \"?\") */\n",
       "\n",
       "/* Common style for \"i\" and \"?\" */\n",
       "\n",
       ".sk-estimator-doc-link,\n",
       "a:link.sk-estimator-doc-link,\n",
       "a:visited.sk-estimator-doc-link {\n",
       "  float: right;\n",
       "  font-size: smaller;\n",
       "  line-height: 1em;\n",
       "  font-family: monospace;\n",
       "  background-color: var(--sklearn-color-background);\n",
       "  border-radius: 1em;\n",
       "  height: 1em;\n",
       "  width: 1em;\n",
       "  text-decoration: none !important;\n",
       "  margin-left: 1ex;\n",
       "  /* unfitted */\n",
       "  border: var(--sklearn-color-unfitted-level-1) 1pt solid;\n",
       "  color: var(--sklearn-color-unfitted-level-1);\n",
       "}\n",
       "\n",
       ".sk-estimator-doc-link.fitted,\n",
       "a:link.sk-estimator-doc-link.fitted,\n",
       "a:visited.sk-estimator-doc-link.fitted {\n",
       "  /* fitted */\n",
       "  border: var(--sklearn-color-fitted-level-1) 1pt solid;\n",
       "  color: var(--sklearn-color-fitted-level-1);\n",
       "}\n",
       "\n",
       "/* On hover */\n",
       "div.sk-estimator:hover .sk-estimator-doc-link:hover,\n",
       ".sk-estimator-doc-link:hover,\n",
       "div.sk-label-container:hover .sk-estimator-doc-link:hover,\n",
       ".sk-estimator-doc-link:hover {\n",
       "  /* unfitted */\n",
       "  background-color: var(--sklearn-color-unfitted-level-3);\n",
       "  color: var(--sklearn-color-background);\n",
       "  text-decoration: none;\n",
       "}\n",
       "\n",
       "div.sk-estimator.fitted:hover .sk-estimator-doc-link.fitted:hover,\n",
       ".sk-estimator-doc-link.fitted:hover,\n",
       "div.sk-label-container:hover .sk-estimator-doc-link.fitted:hover,\n",
       ".sk-estimator-doc-link.fitted:hover {\n",
       "  /* fitted */\n",
       "  background-color: var(--sklearn-color-fitted-level-3);\n",
       "  color: var(--sklearn-color-background);\n",
       "  text-decoration: none;\n",
       "}\n",
       "\n",
       "/* Span, style for the box shown on hovering the info icon */\n",
       ".sk-estimator-doc-link span {\n",
       "  display: none;\n",
       "  z-index: 9999;\n",
       "  position: relative;\n",
       "  font-weight: normal;\n",
       "  right: .2ex;\n",
       "  padding: .5ex;\n",
       "  margin: .5ex;\n",
       "  width: min-content;\n",
       "  min-width: 20ex;\n",
       "  max-width: 50ex;\n",
       "  color: var(--sklearn-color-text);\n",
       "  box-shadow: 2pt 2pt 4pt #999;\n",
       "  /* unfitted */\n",
       "  background: var(--sklearn-color-unfitted-level-0);\n",
       "  border: .5pt solid var(--sklearn-color-unfitted-level-3);\n",
       "}\n",
       "\n",
       ".sk-estimator-doc-link.fitted span {\n",
       "  /* fitted */\n",
       "  background: var(--sklearn-color-fitted-level-0);\n",
       "  border: var(--sklearn-color-fitted-level-3);\n",
       "}\n",
       "\n",
       ".sk-estimator-doc-link:hover span {\n",
       "  display: block;\n",
       "}\n",
       "\n",
       "/* \"?\"-specific style due to the `<a>` HTML tag */\n",
       "\n",
       "#sk-container-id-1 a.estimator_doc_link {\n",
       "  float: right;\n",
       "  font-size: 1rem;\n",
       "  line-height: 1em;\n",
       "  font-family: monospace;\n",
       "  background-color: var(--sklearn-color-background);\n",
       "  border-radius: 1rem;\n",
       "  height: 1rem;\n",
       "  width: 1rem;\n",
       "  text-decoration: none;\n",
       "  /* unfitted */\n",
       "  color: var(--sklearn-color-unfitted-level-1);\n",
       "  border: var(--sklearn-color-unfitted-level-1) 1pt solid;\n",
       "}\n",
       "\n",
       "#sk-container-id-1 a.estimator_doc_link.fitted {\n",
       "  /* fitted */\n",
       "  border: var(--sklearn-color-fitted-level-1) 1pt solid;\n",
       "  color: var(--sklearn-color-fitted-level-1);\n",
       "}\n",
       "\n",
       "/* On hover */\n",
       "#sk-container-id-1 a.estimator_doc_link:hover {\n",
       "  /* unfitted */\n",
       "  background-color: var(--sklearn-color-unfitted-level-3);\n",
       "  color: var(--sklearn-color-background);\n",
       "  text-decoration: none;\n",
       "}\n",
       "\n",
       "#sk-container-id-1 a.estimator_doc_link.fitted:hover {\n",
       "  /* fitted */\n",
       "  background-color: var(--sklearn-color-fitted-level-3);\n",
       "}\n",
       "</style><div id=\"sk-container-id-1\" class=\"sk-top-container\"><div class=\"sk-text-repr-fallback\"><pre>Pipeline(steps=[(&#x27;outlier_imputer&#x27;,\n",
       "                 WinsorizingOutlier(columns=[&#x27;CRIM&#x27;, &#x27;ZN&#x27;, &#x27;INDUS&#x27;, &#x27;NOX&#x27;, &#x27;RM&#x27;,\n",
       "                                             &#x27;AGE&#x27;, &#x27;DIS&#x27;, &#x27;TAX&#x27;, &#x27;PTRATIO&#x27;,\n",
       "                                             &#x27;B&#x27;, &#x27;LSTAT&#x27;])),\n",
       "                (&#x27;power_transformer&#x27;, PowerTransformer()),\n",
       "                (&#x27;scaler&#x27;, StandardScaler()),\n",
       "                (&#x27;regressor&#x27;, LinearRegression())])</pre><b>In a Jupyter environment, please rerun this cell to show the HTML representation or trust the notebook. <br />On GitHub, the HTML representation is unable to render, please try loading this page with nbviewer.org.</b></div><div class=\"sk-container\" hidden><div class=\"sk-item sk-dashed-wrapped\"><div class=\"sk-label-container\"><div class=\"sk-label fitted sk-toggleable\"><input class=\"sk-toggleable__control sk-hidden--visually\" id=\"sk-estimator-id-1\" type=\"checkbox\" ><label for=\"sk-estimator-id-1\" class=\"sk-toggleable__label fitted sk-toggleable__label-arrow fitted\">&nbsp;&nbsp;Pipeline<a class=\"sk-estimator-doc-link fitted\" rel=\"noreferrer\" target=\"_blank\" href=\"https://scikit-learn.org/1.4/modules/generated/sklearn.pipeline.Pipeline.html\">?<span>Documentation for Pipeline</span></a><span class=\"sk-estimator-doc-link fitted\">i<span>Fitted</span></span></label><div class=\"sk-toggleable__content fitted\"><pre>Pipeline(steps=[(&#x27;outlier_imputer&#x27;,\n",
       "                 WinsorizingOutlier(columns=[&#x27;CRIM&#x27;, &#x27;ZN&#x27;, &#x27;INDUS&#x27;, &#x27;NOX&#x27;, &#x27;RM&#x27;,\n",
       "                                             &#x27;AGE&#x27;, &#x27;DIS&#x27;, &#x27;TAX&#x27;, &#x27;PTRATIO&#x27;,\n",
       "                                             &#x27;B&#x27;, &#x27;LSTAT&#x27;])),\n",
       "                (&#x27;power_transformer&#x27;, PowerTransformer()),\n",
       "                (&#x27;scaler&#x27;, StandardScaler()),\n",
       "                (&#x27;regressor&#x27;, LinearRegression())])</pre></div> </div></div><div class=\"sk-serial\"><div class=\"sk-item\"><div class=\"sk-estimator fitted sk-toggleable\"><input class=\"sk-toggleable__control sk-hidden--visually\" id=\"sk-estimator-id-2\" type=\"checkbox\" ><label for=\"sk-estimator-id-2\" class=\"sk-toggleable__label fitted sk-toggleable__label-arrow fitted\">WinsorizingOutlier</label><div class=\"sk-toggleable__content fitted\"><pre>WinsorizingOutlier(columns=[&#x27;CRIM&#x27;, &#x27;ZN&#x27;, &#x27;INDUS&#x27;, &#x27;NOX&#x27;, &#x27;RM&#x27;, &#x27;AGE&#x27;, &#x27;DIS&#x27;,\n",
       "                            &#x27;TAX&#x27;, &#x27;PTRATIO&#x27;, &#x27;B&#x27;, &#x27;LSTAT&#x27;])</pre></div> </div></div><div class=\"sk-item\"><div class=\"sk-estimator fitted sk-toggleable\"><input class=\"sk-toggleable__control sk-hidden--visually\" id=\"sk-estimator-id-3\" type=\"checkbox\" ><label for=\"sk-estimator-id-3\" class=\"sk-toggleable__label fitted sk-toggleable__label-arrow fitted\">&nbsp;PowerTransformer<a class=\"sk-estimator-doc-link fitted\" rel=\"noreferrer\" target=\"_blank\" href=\"https://scikit-learn.org/1.4/modules/generated/sklearn.preprocessing.PowerTransformer.html\">?<span>Documentation for PowerTransformer</span></a></label><div class=\"sk-toggleable__content fitted\"><pre>PowerTransformer()</pre></div> </div></div><div class=\"sk-item\"><div class=\"sk-estimator fitted sk-toggleable\"><input class=\"sk-toggleable__control sk-hidden--visually\" id=\"sk-estimator-id-4\" type=\"checkbox\" ><label for=\"sk-estimator-id-4\" class=\"sk-toggleable__label fitted sk-toggleable__label-arrow fitted\">&nbsp;StandardScaler<a class=\"sk-estimator-doc-link fitted\" rel=\"noreferrer\" target=\"_blank\" href=\"https://scikit-learn.org/1.4/modules/generated/sklearn.preprocessing.StandardScaler.html\">?<span>Documentation for StandardScaler</span></a></label><div class=\"sk-toggleable__content fitted\"><pre>StandardScaler()</pre></div> </div></div><div class=\"sk-item\"><div class=\"sk-estimator fitted sk-toggleable\"><input class=\"sk-toggleable__control sk-hidden--visually\" id=\"sk-estimator-id-5\" type=\"checkbox\" ><label for=\"sk-estimator-id-5\" class=\"sk-toggleable__label fitted sk-toggleable__label-arrow fitted\">&nbsp;LinearRegression<a class=\"sk-estimator-doc-link fitted\" rel=\"noreferrer\" target=\"_blank\" href=\"https://scikit-learn.org/1.4/modules/generated/sklearn.linear_model.LinearRegression.html\">?<span>Documentation for LinearRegression</span></a></label><div class=\"sk-toggleable__content fitted\"><pre>LinearRegression()</pre></div> </div></div></div></div></div></div>"
      ],
      "text/plain": [
       "Pipeline(steps=[('outlier_imputer',\n",
       "                 WinsorizingOutlier(columns=['CRIM', 'ZN', 'INDUS', 'NOX', 'RM',\n",
       "                                             'AGE', 'DIS', 'TAX', 'PTRATIO',\n",
       "                                             'B', 'LSTAT'])),\n",
       "                ('power_transformer', PowerTransformer()),\n",
       "                ('scaler', StandardScaler()),\n",
       "                ('regressor', LinearRegression())])"
      ]
     },
     "execution_count": 14,
     "metadata": {},
     "output_type": "execute_result"
    }
   ],
   "source": [
    "pipeline_lr = Pipeline(preprocessed + [('regressor', LinearRegression())])\n",
    "pipeline_lr.fit(X_train, y_train)"
   ]
  },
  {
   "cell_type": "code",
   "execution_count": 15,
   "id": "1379535d",
   "metadata": {
    "ExecuteTime": {
     "end_time": "2024-06-25T09:32:08.964886Z",
     "start_time": "2024-06-25T09:32:08.557570Z"
    },
    "deletable": false,
    "editable": false
   },
   "outputs": [
    {
     "name": "stdout",
     "output_type": "stream",
     "text": [
      "r2-cv: 0.7733018589121157\n",
      "r2-test: 0.7870359181579546\n"
     ]
    }
   ],
   "source": [
    "cv_scores = cross_val_score(pipeline_lr, X_train, y_train, cv=kf, scoring=\"r2\")\n",
    "test_score = pipeline_lr.score(X_test, y_test)\n",
    "print(f\"r2-cv: {cv_scores.mean()}\")\n",
    "print(f\"r2-test: {test_score.mean()}\")"
   ]
  },
  {
   "cell_type": "markdown",
   "id": "34850d9a",
   "metadata": {
    "ExecuteTime": {
     "end_time": "2024-06-25T02:55:12.190960Z",
     "start_time": "2024-06-25T02:55:12.182996Z"
    },
    "deletable": false,
    "editable": false,
    "run_control": {
     "frozen": true
    }
   },
   "source": [
    "#### SVR"
   ]
  },
  {
   "cell_type": "code",
   "execution_count": 16,
   "id": "9bcb7db7",
   "metadata": {
    "ExecuteTime": {
     "end_time": "2024-06-25T09:32:10.859427Z",
     "start_time": "2024-06-25T09:32:10.759132Z"
    },
    "deletable": false,
    "editable": false
   },
   "outputs": [
    {
     "data": {
      "text/html": [
       "<style>#sk-container-id-2 {\n",
       "  /* Definition of color scheme common for light and dark mode */\n",
       "  --sklearn-color-text: black;\n",
       "  --sklearn-color-line: gray;\n",
       "  /* Definition of color scheme for unfitted estimators */\n",
       "  --sklearn-color-unfitted-level-0: #fff5e6;\n",
       "  --sklearn-color-unfitted-level-1: #f6e4d2;\n",
       "  --sklearn-color-unfitted-level-2: #ffe0b3;\n",
       "  --sklearn-color-unfitted-level-3: chocolate;\n",
       "  /* Definition of color scheme for fitted estimators */\n",
       "  --sklearn-color-fitted-level-0: #f0f8ff;\n",
       "  --sklearn-color-fitted-level-1: #d4ebff;\n",
       "  --sklearn-color-fitted-level-2: #b3dbfd;\n",
       "  --sklearn-color-fitted-level-3: cornflowerblue;\n",
       "\n",
       "  /* Specific color for light theme */\n",
       "  --sklearn-color-text-on-default-background: var(--sg-text-color, var(--theme-code-foreground, var(--jp-content-font-color1, black)));\n",
       "  --sklearn-color-background: var(--sg-background-color, var(--theme-background, var(--jp-layout-color0, white)));\n",
       "  --sklearn-color-border-box: var(--sg-text-color, var(--theme-code-foreground, var(--jp-content-font-color1, black)));\n",
       "  --sklearn-color-icon: #696969;\n",
       "\n",
       "  @media (prefers-color-scheme: dark) {\n",
       "    /* Redefinition of color scheme for dark theme */\n",
       "    --sklearn-color-text-on-default-background: var(--sg-text-color, var(--theme-code-foreground, var(--jp-content-font-color1, white)));\n",
       "    --sklearn-color-background: var(--sg-background-color, var(--theme-background, var(--jp-layout-color0, #111)));\n",
       "    --sklearn-color-border-box: var(--sg-text-color, var(--theme-code-foreground, var(--jp-content-font-color1, white)));\n",
       "    --sklearn-color-icon: #878787;\n",
       "  }\n",
       "}\n",
       "\n",
       "#sk-container-id-2 {\n",
       "  color: var(--sklearn-color-text);\n",
       "}\n",
       "\n",
       "#sk-container-id-2 pre {\n",
       "  padding: 0;\n",
       "}\n",
       "\n",
       "#sk-container-id-2 input.sk-hidden--visually {\n",
       "  border: 0;\n",
       "  clip: rect(1px 1px 1px 1px);\n",
       "  clip: rect(1px, 1px, 1px, 1px);\n",
       "  height: 1px;\n",
       "  margin: -1px;\n",
       "  overflow: hidden;\n",
       "  padding: 0;\n",
       "  position: absolute;\n",
       "  width: 1px;\n",
       "}\n",
       "\n",
       "#sk-container-id-2 div.sk-dashed-wrapped {\n",
       "  border: 1px dashed var(--sklearn-color-line);\n",
       "  margin: 0 0.4em 0.5em 0.4em;\n",
       "  box-sizing: border-box;\n",
       "  padding-bottom: 0.4em;\n",
       "  background-color: var(--sklearn-color-background);\n",
       "}\n",
       "\n",
       "#sk-container-id-2 div.sk-container {\n",
       "  /* jupyter's `normalize.less` sets `[hidden] { display: none; }`\n",
       "     but bootstrap.min.css set `[hidden] { display: none !important; }`\n",
       "     so we also need the `!important` here to be able to override the\n",
       "     default hidden behavior on the sphinx rendered scikit-learn.org.\n",
       "     See: https://github.com/scikit-learn/scikit-learn/issues/21755 */\n",
       "  display: inline-block !important;\n",
       "  position: relative;\n",
       "}\n",
       "\n",
       "#sk-container-id-2 div.sk-text-repr-fallback {\n",
       "  display: none;\n",
       "}\n",
       "\n",
       "div.sk-parallel-item,\n",
       "div.sk-serial,\n",
       "div.sk-item {\n",
       "  /* draw centered vertical line to link estimators */\n",
       "  background-image: linear-gradient(var(--sklearn-color-text-on-default-background), var(--sklearn-color-text-on-default-background));\n",
       "  background-size: 2px 100%;\n",
       "  background-repeat: no-repeat;\n",
       "  background-position: center center;\n",
       "}\n",
       "\n",
       "/* Parallel-specific style estimator block */\n",
       "\n",
       "#sk-container-id-2 div.sk-parallel-item::after {\n",
       "  content: \"\";\n",
       "  width: 100%;\n",
       "  border-bottom: 2px solid var(--sklearn-color-text-on-default-background);\n",
       "  flex-grow: 1;\n",
       "}\n",
       "\n",
       "#sk-container-id-2 div.sk-parallel {\n",
       "  display: flex;\n",
       "  align-items: stretch;\n",
       "  justify-content: center;\n",
       "  background-color: var(--sklearn-color-background);\n",
       "  position: relative;\n",
       "}\n",
       "\n",
       "#sk-container-id-2 div.sk-parallel-item {\n",
       "  display: flex;\n",
       "  flex-direction: column;\n",
       "}\n",
       "\n",
       "#sk-container-id-2 div.sk-parallel-item:first-child::after {\n",
       "  align-self: flex-end;\n",
       "  width: 50%;\n",
       "}\n",
       "\n",
       "#sk-container-id-2 div.sk-parallel-item:last-child::after {\n",
       "  align-self: flex-start;\n",
       "  width: 50%;\n",
       "}\n",
       "\n",
       "#sk-container-id-2 div.sk-parallel-item:only-child::after {\n",
       "  width: 0;\n",
       "}\n",
       "\n",
       "/* Serial-specific style estimator block */\n",
       "\n",
       "#sk-container-id-2 div.sk-serial {\n",
       "  display: flex;\n",
       "  flex-direction: column;\n",
       "  align-items: center;\n",
       "  background-color: var(--sklearn-color-background);\n",
       "  padding-right: 1em;\n",
       "  padding-left: 1em;\n",
       "}\n",
       "\n",
       "\n",
       "/* Toggleable style: style used for estimator/Pipeline/ColumnTransformer box that is\n",
       "clickable and can be expanded/collapsed.\n",
       "- Pipeline and ColumnTransformer use this feature and define the default style\n",
       "- Estimators will overwrite some part of the style using the `sk-estimator` class\n",
       "*/\n",
       "\n",
       "/* Pipeline and ColumnTransformer style (default) */\n",
       "\n",
       "#sk-container-id-2 div.sk-toggleable {\n",
       "  /* Default theme specific background. It is overwritten whether we have a\n",
       "  specific estimator or a Pipeline/ColumnTransformer */\n",
       "  background-color: var(--sklearn-color-background);\n",
       "}\n",
       "\n",
       "/* Toggleable label */\n",
       "#sk-container-id-2 label.sk-toggleable__label {\n",
       "  cursor: pointer;\n",
       "  display: block;\n",
       "  width: 100%;\n",
       "  margin-bottom: 0;\n",
       "  padding: 0.5em;\n",
       "  box-sizing: border-box;\n",
       "  text-align: center;\n",
       "}\n",
       "\n",
       "#sk-container-id-2 label.sk-toggleable__label-arrow:before {\n",
       "  /* Arrow on the left of the label */\n",
       "  content: \"▸\";\n",
       "  float: left;\n",
       "  margin-right: 0.25em;\n",
       "  color: var(--sklearn-color-icon);\n",
       "}\n",
       "\n",
       "#sk-container-id-2 label.sk-toggleable__label-arrow:hover:before {\n",
       "  color: var(--sklearn-color-text);\n",
       "}\n",
       "\n",
       "/* Toggleable content - dropdown */\n",
       "\n",
       "#sk-container-id-2 div.sk-toggleable__content {\n",
       "  max-height: 0;\n",
       "  max-width: 0;\n",
       "  overflow: hidden;\n",
       "  text-align: left;\n",
       "  /* unfitted */\n",
       "  background-color: var(--sklearn-color-unfitted-level-0);\n",
       "}\n",
       "\n",
       "#sk-container-id-2 div.sk-toggleable__content.fitted {\n",
       "  /* fitted */\n",
       "  background-color: var(--sklearn-color-fitted-level-0);\n",
       "}\n",
       "\n",
       "#sk-container-id-2 div.sk-toggleable__content pre {\n",
       "  margin: 0.2em;\n",
       "  border-radius: 0.25em;\n",
       "  color: var(--sklearn-color-text);\n",
       "  /* unfitted */\n",
       "  background-color: var(--sklearn-color-unfitted-level-0);\n",
       "}\n",
       "\n",
       "#sk-container-id-2 div.sk-toggleable__content.fitted pre {\n",
       "  /* unfitted */\n",
       "  background-color: var(--sklearn-color-fitted-level-0);\n",
       "}\n",
       "\n",
       "#sk-container-id-2 input.sk-toggleable__control:checked~div.sk-toggleable__content {\n",
       "  /* Expand drop-down */\n",
       "  max-height: 200px;\n",
       "  max-width: 100%;\n",
       "  overflow: auto;\n",
       "}\n",
       "\n",
       "#sk-container-id-2 input.sk-toggleable__control:checked~label.sk-toggleable__label-arrow:before {\n",
       "  content: \"▾\";\n",
       "}\n",
       "\n",
       "/* Pipeline/ColumnTransformer-specific style */\n",
       "\n",
       "#sk-container-id-2 div.sk-label input.sk-toggleable__control:checked~label.sk-toggleable__label {\n",
       "  color: var(--sklearn-color-text);\n",
       "  background-color: var(--sklearn-color-unfitted-level-2);\n",
       "}\n",
       "\n",
       "#sk-container-id-2 div.sk-label.fitted input.sk-toggleable__control:checked~label.sk-toggleable__label {\n",
       "  background-color: var(--sklearn-color-fitted-level-2);\n",
       "}\n",
       "\n",
       "/* Estimator-specific style */\n",
       "\n",
       "/* Colorize estimator box */\n",
       "#sk-container-id-2 div.sk-estimator input.sk-toggleable__control:checked~label.sk-toggleable__label {\n",
       "  /* unfitted */\n",
       "  background-color: var(--sklearn-color-unfitted-level-2);\n",
       "}\n",
       "\n",
       "#sk-container-id-2 div.sk-estimator.fitted input.sk-toggleable__control:checked~label.sk-toggleable__label {\n",
       "  /* fitted */\n",
       "  background-color: var(--sklearn-color-fitted-level-2);\n",
       "}\n",
       "\n",
       "#sk-container-id-2 div.sk-label label.sk-toggleable__label,\n",
       "#sk-container-id-2 div.sk-label label {\n",
       "  /* The background is the default theme color */\n",
       "  color: var(--sklearn-color-text-on-default-background);\n",
       "}\n",
       "\n",
       "/* On hover, darken the color of the background */\n",
       "#sk-container-id-2 div.sk-label:hover label.sk-toggleable__label {\n",
       "  color: var(--sklearn-color-text);\n",
       "  background-color: var(--sklearn-color-unfitted-level-2);\n",
       "}\n",
       "\n",
       "/* Label box, darken color on hover, fitted */\n",
       "#sk-container-id-2 div.sk-label.fitted:hover label.sk-toggleable__label.fitted {\n",
       "  color: var(--sklearn-color-text);\n",
       "  background-color: var(--sklearn-color-fitted-level-2);\n",
       "}\n",
       "\n",
       "/* Estimator label */\n",
       "\n",
       "#sk-container-id-2 div.sk-label label {\n",
       "  font-family: monospace;\n",
       "  font-weight: bold;\n",
       "  display: inline-block;\n",
       "  line-height: 1.2em;\n",
       "}\n",
       "\n",
       "#sk-container-id-2 div.sk-label-container {\n",
       "  text-align: center;\n",
       "}\n",
       "\n",
       "/* Estimator-specific */\n",
       "#sk-container-id-2 div.sk-estimator {\n",
       "  font-family: monospace;\n",
       "  border: 1px dotted var(--sklearn-color-border-box);\n",
       "  border-radius: 0.25em;\n",
       "  box-sizing: border-box;\n",
       "  margin-bottom: 0.5em;\n",
       "  /* unfitted */\n",
       "  background-color: var(--sklearn-color-unfitted-level-0);\n",
       "}\n",
       "\n",
       "#sk-container-id-2 div.sk-estimator.fitted {\n",
       "  /* fitted */\n",
       "  background-color: var(--sklearn-color-fitted-level-0);\n",
       "}\n",
       "\n",
       "/* on hover */\n",
       "#sk-container-id-2 div.sk-estimator:hover {\n",
       "  /* unfitted */\n",
       "  background-color: var(--sklearn-color-unfitted-level-2);\n",
       "}\n",
       "\n",
       "#sk-container-id-2 div.sk-estimator.fitted:hover {\n",
       "  /* fitted */\n",
       "  background-color: var(--sklearn-color-fitted-level-2);\n",
       "}\n",
       "\n",
       "/* Specification for estimator info (e.g. \"i\" and \"?\") */\n",
       "\n",
       "/* Common style for \"i\" and \"?\" */\n",
       "\n",
       ".sk-estimator-doc-link,\n",
       "a:link.sk-estimator-doc-link,\n",
       "a:visited.sk-estimator-doc-link {\n",
       "  float: right;\n",
       "  font-size: smaller;\n",
       "  line-height: 1em;\n",
       "  font-family: monospace;\n",
       "  background-color: var(--sklearn-color-background);\n",
       "  border-radius: 1em;\n",
       "  height: 1em;\n",
       "  width: 1em;\n",
       "  text-decoration: none !important;\n",
       "  margin-left: 1ex;\n",
       "  /* unfitted */\n",
       "  border: var(--sklearn-color-unfitted-level-1) 1pt solid;\n",
       "  color: var(--sklearn-color-unfitted-level-1);\n",
       "}\n",
       "\n",
       ".sk-estimator-doc-link.fitted,\n",
       "a:link.sk-estimator-doc-link.fitted,\n",
       "a:visited.sk-estimator-doc-link.fitted {\n",
       "  /* fitted */\n",
       "  border: var(--sklearn-color-fitted-level-1) 1pt solid;\n",
       "  color: var(--sklearn-color-fitted-level-1);\n",
       "}\n",
       "\n",
       "/* On hover */\n",
       "div.sk-estimator:hover .sk-estimator-doc-link:hover,\n",
       ".sk-estimator-doc-link:hover,\n",
       "div.sk-label-container:hover .sk-estimator-doc-link:hover,\n",
       ".sk-estimator-doc-link:hover {\n",
       "  /* unfitted */\n",
       "  background-color: var(--sklearn-color-unfitted-level-3);\n",
       "  color: var(--sklearn-color-background);\n",
       "  text-decoration: none;\n",
       "}\n",
       "\n",
       "div.sk-estimator.fitted:hover .sk-estimator-doc-link.fitted:hover,\n",
       ".sk-estimator-doc-link.fitted:hover,\n",
       "div.sk-label-container:hover .sk-estimator-doc-link.fitted:hover,\n",
       ".sk-estimator-doc-link.fitted:hover {\n",
       "  /* fitted */\n",
       "  background-color: var(--sklearn-color-fitted-level-3);\n",
       "  color: var(--sklearn-color-background);\n",
       "  text-decoration: none;\n",
       "}\n",
       "\n",
       "/* Span, style for the box shown on hovering the info icon */\n",
       ".sk-estimator-doc-link span {\n",
       "  display: none;\n",
       "  z-index: 9999;\n",
       "  position: relative;\n",
       "  font-weight: normal;\n",
       "  right: .2ex;\n",
       "  padding: .5ex;\n",
       "  margin: .5ex;\n",
       "  width: min-content;\n",
       "  min-width: 20ex;\n",
       "  max-width: 50ex;\n",
       "  color: var(--sklearn-color-text);\n",
       "  box-shadow: 2pt 2pt 4pt #999;\n",
       "  /* unfitted */\n",
       "  background: var(--sklearn-color-unfitted-level-0);\n",
       "  border: .5pt solid var(--sklearn-color-unfitted-level-3);\n",
       "}\n",
       "\n",
       ".sk-estimator-doc-link.fitted span {\n",
       "  /* fitted */\n",
       "  background: var(--sklearn-color-fitted-level-0);\n",
       "  border: var(--sklearn-color-fitted-level-3);\n",
       "}\n",
       "\n",
       ".sk-estimator-doc-link:hover span {\n",
       "  display: block;\n",
       "}\n",
       "\n",
       "/* \"?\"-specific style due to the `<a>` HTML tag */\n",
       "\n",
       "#sk-container-id-2 a.estimator_doc_link {\n",
       "  float: right;\n",
       "  font-size: 1rem;\n",
       "  line-height: 1em;\n",
       "  font-family: monospace;\n",
       "  background-color: var(--sklearn-color-background);\n",
       "  border-radius: 1rem;\n",
       "  height: 1rem;\n",
       "  width: 1rem;\n",
       "  text-decoration: none;\n",
       "  /* unfitted */\n",
       "  color: var(--sklearn-color-unfitted-level-1);\n",
       "  border: var(--sklearn-color-unfitted-level-1) 1pt solid;\n",
       "}\n",
       "\n",
       "#sk-container-id-2 a.estimator_doc_link.fitted {\n",
       "  /* fitted */\n",
       "  border: var(--sklearn-color-fitted-level-1) 1pt solid;\n",
       "  color: var(--sklearn-color-fitted-level-1);\n",
       "}\n",
       "\n",
       "/* On hover */\n",
       "#sk-container-id-2 a.estimator_doc_link:hover {\n",
       "  /* unfitted */\n",
       "  background-color: var(--sklearn-color-unfitted-level-3);\n",
       "  color: var(--sklearn-color-background);\n",
       "  text-decoration: none;\n",
       "}\n",
       "\n",
       "#sk-container-id-2 a.estimator_doc_link.fitted:hover {\n",
       "  /* fitted */\n",
       "  background-color: var(--sklearn-color-fitted-level-3);\n",
       "}\n",
       "</style><div id=\"sk-container-id-2\" class=\"sk-top-container\"><div class=\"sk-text-repr-fallback\"><pre>Pipeline(steps=[(&#x27;outlier_imputer&#x27;,\n",
       "                 WinsorizingOutlier(columns=[&#x27;CRIM&#x27;, &#x27;ZN&#x27;, &#x27;INDUS&#x27;, &#x27;NOX&#x27;, &#x27;RM&#x27;,\n",
       "                                             &#x27;AGE&#x27;, &#x27;DIS&#x27;, &#x27;TAX&#x27;, &#x27;PTRATIO&#x27;,\n",
       "                                             &#x27;B&#x27;, &#x27;LSTAT&#x27;])),\n",
       "                (&#x27;power_transformer&#x27;, PowerTransformer()),\n",
       "                (&#x27;scaler&#x27;, StandardScaler()), (&#x27;regressor&#x27;, SVR())])</pre><b>In a Jupyter environment, please rerun this cell to show the HTML representation or trust the notebook. <br />On GitHub, the HTML representation is unable to render, please try loading this page with nbviewer.org.</b></div><div class=\"sk-container\" hidden><div class=\"sk-item sk-dashed-wrapped\"><div class=\"sk-label-container\"><div class=\"sk-label fitted sk-toggleable\"><input class=\"sk-toggleable__control sk-hidden--visually\" id=\"sk-estimator-id-6\" type=\"checkbox\" ><label for=\"sk-estimator-id-6\" class=\"sk-toggleable__label fitted sk-toggleable__label-arrow fitted\">&nbsp;&nbsp;Pipeline<a class=\"sk-estimator-doc-link fitted\" rel=\"noreferrer\" target=\"_blank\" href=\"https://scikit-learn.org/1.4/modules/generated/sklearn.pipeline.Pipeline.html\">?<span>Documentation for Pipeline</span></a><span class=\"sk-estimator-doc-link fitted\">i<span>Fitted</span></span></label><div class=\"sk-toggleable__content fitted\"><pre>Pipeline(steps=[(&#x27;outlier_imputer&#x27;,\n",
       "                 WinsorizingOutlier(columns=[&#x27;CRIM&#x27;, &#x27;ZN&#x27;, &#x27;INDUS&#x27;, &#x27;NOX&#x27;, &#x27;RM&#x27;,\n",
       "                                             &#x27;AGE&#x27;, &#x27;DIS&#x27;, &#x27;TAX&#x27;, &#x27;PTRATIO&#x27;,\n",
       "                                             &#x27;B&#x27;, &#x27;LSTAT&#x27;])),\n",
       "                (&#x27;power_transformer&#x27;, PowerTransformer()),\n",
       "                (&#x27;scaler&#x27;, StandardScaler()), (&#x27;regressor&#x27;, SVR())])</pre></div> </div></div><div class=\"sk-serial\"><div class=\"sk-item\"><div class=\"sk-estimator fitted sk-toggleable\"><input class=\"sk-toggleable__control sk-hidden--visually\" id=\"sk-estimator-id-7\" type=\"checkbox\" ><label for=\"sk-estimator-id-7\" class=\"sk-toggleable__label fitted sk-toggleable__label-arrow fitted\">WinsorizingOutlier</label><div class=\"sk-toggleable__content fitted\"><pre>WinsorizingOutlier(columns=[&#x27;CRIM&#x27;, &#x27;ZN&#x27;, &#x27;INDUS&#x27;, &#x27;NOX&#x27;, &#x27;RM&#x27;, &#x27;AGE&#x27;, &#x27;DIS&#x27;,\n",
       "                            &#x27;TAX&#x27;, &#x27;PTRATIO&#x27;, &#x27;B&#x27;, &#x27;LSTAT&#x27;])</pre></div> </div></div><div class=\"sk-item\"><div class=\"sk-estimator fitted sk-toggleable\"><input class=\"sk-toggleable__control sk-hidden--visually\" id=\"sk-estimator-id-8\" type=\"checkbox\" ><label for=\"sk-estimator-id-8\" class=\"sk-toggleable__label fitted sk-toggleable__label-arrow fitted\">&nbsp;PowerTransformer<a class=\"sk-estimator-doc-link fitted\" rel=\"noreferrer\" target=\"_blank\" href=\"https://scikit-learn.org/1.4/modules/generated/sklearn.preprocessing.PowerTransformer.html\">?<span>Documentation for PowerTransformer</span></a></label><div class=\"sk-toggleable__content fitted\"><pre>PowerTransformer()</pre></div> </div></div><div class=\"sk-item\"><div class=\"sk-estimator fitted sk-toggleable\"><input class=\"sk-toggleable__control sk-hidden--visually\" id=\"sk-estimator-id-9\" type=\"checkbox\" ><label for=\"sk-estimator-id-9\" class=\"sk-toggleable__label fitted sk-toggleable__label-arrow fitted\">&nbsp;StandardScaler<a class=\"sk-estimator-doc-link fitted\" rel=\"noreferrer\" target=\"_blank\" href=\"https://scikit-learn.org/1.4/modules/generated/sklearn.preprocessing.StandardScaler.html\">?<span>Documentation for StandardScaler</span></a></label><div class=\"sk-toggleable__content fitted\"><pre>StandardScaler()</pre></div> </div></div><div class=\"sk-item\"><div class=\"sk-estimator fitted sk-toggleable\"><input class=\"sk-toggleable__control sk-hidden--visually\" id=\"sk-estimator-id-10\" type=\"checkbox\" ><label for=\"sk-estimator-id-10\" class=\"sk-toggleable__label fitted sk-toggleable__label-arrow fitted\">&nbsp;SVR<a class=\"sk-estimator-doc-link fitted\" rel=\"noreferrer\" target=\"_blank\" href=\"https://scikit-learn.org/1.4/modules/generated/sklearn.svm.SVR.html\">?<span>Documentation for SVR</span></a></label><div class=\"sk-toggleable__content fitted\"><pre>SVR()</pre></div> </div></div></div></div></div></div>"
      ],
      "text/plain": [
       "Pipeline(steps=[('outlier_imputer',\n",
       "                 WinsorizingOutlier(columns=['CRIM', 'ZN', 'INDUS', 'NOX', 'RM',\n",
       "                                             'AGE', 'DIS', 'TAX', 'PTRATIO',\n",
       "                                             'B', 'LSTAT'])),\n",
       "                ('power_transformer', PowerTransformer()),\n",
       "                ('scaler', StandardScaler()), ('regressor', SVR())])"
      ]
     },
     "execution_count": 16,
     "metadata": {},
     "output_type": "execute_result"
    }
   ],
   "source": [
    "pipeline_svr = Pipeline(preprocessed + [('regressor', SVR())])\n",
    "pipeline_svr.fit(X_train, y_train)"
   ]
  },
  {
   "cell_type": "code",
   "execution_count": 17,
   "id": "dd248d8c",
   "metadata": {
    "ExecuteTime": {
     "end_time": "2024-06-25T09:32:11.947472Z",
     "start_time": "2024-06-25T09:32:11.473830Z"
    },
    "deletable": false,
    "editable": false
   },
   "outputs": [
    {
     "name": "stdout",
     "output_type": "stream",
     "text": [
      "r2-cv: 0.7520452186347681\n",
      "r2-test: 0.7748363302115993\n"
     ]
    }
   ],
   "source": [
    "cv_scores = cross_val_score(pipeline_svr, X_train, y_train, cv=kf, scoring=\"r2\")\n",
    "test_score = pipeline_svr.score(X_test, y_test)\n",
    "print(f\"r2-cv: {cv_scores.mean()}\")\n",
    "print(f\"r2-test: {test_score.mean()}\")"
   ]
  },
  {
   "cell_type": "markdown",
   "id": "07fe46ed",
   "metadata": {
    "ExecuteTime": {
     "end_time": "2024-06-25T02:55:20.615484Z",
     "start_time": "2024-06-25T02:55:20.606186Z"
    },
    "deletable": false,
    "editable": false,
    "run_control": {
     "frozen": true
    }
   },
   "source": [
    "#### XGBRegressor"
   ]
  },
  {
   "cell_type": "code",
   "execution_count": 18,
   "id": "8eeae173",
   "metadata": {
    "ExecuteTime": {
     "end_time": "2024-06-25T09:32:13.877086Z",
     "start_time": "2024-06-25T09:32:13.544302Z"
    },
    "deletable": false,
    "editable": false
   },
   "outputs": [
    {
     "data": {
      "text/html": [
       "<style>#sk-container-id-3 {\n",
       "  /* Definition of color scheme common for light and dark mode */\n",
       "  --sklearn-color-text: black;\n",
       "  --sklearn-color-line: gray;\n",
       "  /* Definition of color scheme for unfitted estimators */\n",
       "  --sklearn-color-unfitted-level-0: #fff5e6;\n",
       "  --sklearn-color-unfitted-level-1: #f6e4d2;\n",
       "  --sklearn-color-unfitted-level-2: #ffe0b3;\n",
       "  --sklearn-color-unfitted-level-3: chocolate;\n",
       "  /* Definition of color scheme for fitted estimators */\n",
       "  --sklearn-color-fitted-level-0: #f0f8ff;\n",
       "  --sklearn-color-fitted-level-1: #d4ebff;\n",
       "  --sklearn-color-fitted-level-2: #b3dbfd;\n",
       "  --sklearn-color-fitted-level-3: cornflowerblue;\n",
       "\n",
       "  /* Specific color for light theme */\n",
       "  --sklearn-color-text-on-default-background: var(--sg-text-color, var(--theme-code-foreground, var(--jp-content-font-color1, black)));\n",
       "  --sklearn-color-background: var(--sg-background-color, var(--theme-background, var(--jp-layout-color0, white)));\n",
       "  --sklearn-color-border-box: var(--sg-text-color, var(--theme-code-foreground, var(--jp-content-font-color1, black)));\n",
       "  --sklearn-color-icon: #696969;\n",
       "\n",
       "  @media (prefers-color-scheme: dark) {\n",
       "    /* Redefinition of color scheme for dark theme */\n",
       "    --sklearn-color-text-on-default-background: var(--sg-text-color, var(--theme-code-foreground, var(--jp-content-font-color1, white)));\n",
       "    --sklearn-color-background: var(--sg-background-color, var(--theme-background, var(--jp-layout-color0, #111)));\n",
       "    --sklearn-color-border-box: var(--sg-text-color, var(--theme-code-foreground, var(--jp-content-font-color1, white)));\n",
       "    --sklearn-color-icon: #878787;\n",
       "  }\n",
       "}\n",
       "\n",
       "#sk-container-id-3 {\n",
       "  color: var(--sklearn-color-text);\n",
       "}\n",
       "\n",
       "#sk-container-id-3 pre {\n",
       "  padding: 0;\n",
       "}\n",
       "\n",
       "#sk-container-id-3 input.sk-hidden--visually {\n",
       "  border: 0;\n",
       "  clip: rect(1px 1px 1px 1px);\n",
       "  clip: rect(1px, 1px, 1px, 1px);\n",
       "  height: 1px;\n",
       "  margin: -1px;\n",
       "  overflow: hidden;\n",
       "  padding: 0;\n",
       "  position: absolute;\n",
       "  width: 1px;\n",
       "}\n",
       "\n",
       "#sk-container-id-3 div.sk-dashed-wrapped {\n",
       "  border: 1px dashed var(--sklearn-color-line);\n",
       "  margin: 0 0.4em 0.5em 0.4em;\n",
       "  box-sizing: border-box;\n",
       "  padding-bottom: 0.4em;\n",
       "  background-color: var(--sklearn-color-background);\n",
       "}\n",
       "\n",
       "#sk-container-id-3 div.sk-container {\n",
       "  /* jupyter's `normalize.less` sets `[hidden] { display: none; }`\n",
       "     but bootstrap.min.css set `[hidden] { display: none !important; }`\n",
       "     so we also need the `!important` here to be able to override the\n",
       "     default hidden behavior on the sphinx rendered scikit-learn.org.\n",
       "     See: https://github.com/scikit-learn/scikit-learn/issues/21755 */\n",
       "  display: inline-block !important;\n",
       "  position: relative;\n",
       "}\n",
       "\n",
       "#sk-container-id-3 div.sk-text-repr-fallback {\n",
       "  display: none;\n",
       "}\n",
       "\n",
       "div.sk-parallel-item,\n",
       "div.sk-serial,\n",
       "div.sk-item {\n",
       "  /* draw centered vertical line to link estimators */\n",
       "  background-image: linear-gradient(var(--sklearn-color-text-on-default-background), var(--sklearn-color-text-on-default-background));\n",
       "  background-size: 2px 100%;\n",
       "  background-repeat: no-repeat;\n",
       "  background-position: center center;\n",
       "}\n",
       "\n",
       "/* Parallel-specific style estimator block */\n",
       "\n",
       "#sk-container-id-3 div.sk-parallel-item::after {\n",
       "  content: \"\";\n",
       "  width: 100%;\n",
       "  border-bottom: 2px solid var(--sklearn-color-text-on-default-background);\n",
       "  flex-grow: 1;\n",
       "}\n",
       "\n",
       "#sk-container-id-3 div.sk-parallel {\n",
       "  display: flex;\n",
       "  align-items: stretch;\n",
       "  justify-content: center;\n",
       "  background-color: var(--sklearn-color-background);\n",
       "  position: relative;\n",
       "}\n",
       "\n",
       "#sk-container-id-3 div.sk-parallel-item {\n",
       "  display: flex;\n",
       "  flex-direction: column;\n",
       "}\n",
       "\n",
       "#sk-container-id-3 div.sk-parallel-item:first-child::after {\n",
       "  align-self: flex-end;\n",
       "  width: 50%;\n",
       "}\n",
       "\n",
       "#sk-container-id-3 div.sk-parallel-item:last-child::after {\n",
       "  align-self: flex-start;\n",
       "  width: 50%;\n",
       "}\n",
       "\n",
       "#sk-container-id-3 div.sk-parallel-item:only-child::after {\n",
       "  width: 0;\n",
       "}\n",
       "\n",
       "/* Serial-specific style estimator block */\n",
       "\n",
       "#sk-container-id-3 div.sk-serial {\n",
       "  display: flex;\n",
       "  flex-direction: column;\n",
       "  align-items: center;\n",
       "  background-color: var(--sklearn-color-background);\n",
       "  padding-right: 1em;\n",
       "  padding-left: 1em;\n",
       "}\n",
       "\n",
       "\n",
       "/* Toggleable style: style used for estimator/Pipeline/ColumnTransformer box that is\n",
       "clickable and can be expanded/collapsed.\n",
       "- Pipeline and ColumnTransformer use this feature and define the default style\n",
       "- Estimators will overwrite some part of the style using the `sk-estimator` class\n",
       "*/\n",
       "\n",
       "/* Pipeline and ColumnTransformer style (default) */\n",
       "\n",
       "#sk-container-id-3 div.sk-toggleable {\n",
       "  /* Default theme specific background. It is overwritten whether we have a\n",
       "  specific estimator or a Pipeline/ColumnTransformer */\n",
       "  background-color: var(--sklearn-color-background);\n",
       "}\n",
       "\n",
       "/* Toggleable label */\n",
       "#sk-container-id-3 label.sk-toggleable__label {\n",
       "  cursor: pointer;\n",
       "  display: block;\n",
       "  width: 100%;\n",
       "  margin-bottom: 0;\n",
       "  padding: 0.5em;\n",
       "  box-sizing: border-box;\n",
       "  text-align: center;\n",
       "}\n",
       "\n",
       "#sk-container-id-3 label.sk-toggleable__label-arrow:before {\n",
       "  /* Arrow on the left of the label */\n",
       "  content: \"▸\";\n",
       "  float: left;\n",
       "  margin-right: 0.25em;\n",
       "  color: var(--sklearn-color-icon);\n",
       "}\n",
       "\n",
       "#sk-container-id-3 label.sk-toggleable__label-arrow:hover:before {\n",
       "  color: var(--sklearn-color-text);\n",
       "}\n",
       "\n",
       "/* Toggleable content - dropdown */\n",
       "\n",
       "#sk-container-id-3 div.sk-toggleable__content {\n",
       "  max-height: 0;\n",
       "  max-width: 0;\n",
       "  overflow: hidden;\n",
       "  text-align: left;\n",
       "  /* unfitted */\n",
       "  background-color: var(--sklearn-color-unfitted-level-0);\n",
       "}\n",
       "\n",
       "#sk-container-id-3 div.sk-toggleable__content.fitted {\n",
       "  /* fitted */\n",
       "  background-color: var(--sklearn-color-fitted-level-0);\n",
       "}\n",
       "\n",
       "#sk-container-id-3 div.sk-toggleable__content pre {\n",
       "  margin: 0.2em;\n",
       "  border-radius: 0.25em;\n",
       "  color: var(--sklearn-color-text);\n",
       "  /* unfitted */\n",
       "  background-color: var(--sklearn-color-unfitted-level-0);\n",
       "}\n",
       "\n",
       "#sk-container-id-3 div.sk-toggleable__content.fitted pre {\n",
       "  /* unfitted */\n",
       "  background-color: var(--sklearn-color-fitted-level-0);\n",
       "}\n",
       "\n",
       "#sk-container-id-3 input.sk-toggleable__control:checked~div.sk-toggleable__content {\n",
       "  /* Expand drop-down */\n",
       "  max-height: 200px;\n",
       "  max-width: 100%;\n",
       "  overflow: auto;\n",
       "}\n",
       "\n",
       "#sk-container-id-3 input.sk-toggleable__control:checked~label.sk-toggleable__label-arrow:before {\n",
       "  content: \"▾\";\n",
       "}\n",
       "\n",
       "/* Pipeline/ColumnTransformer-specific style */\n",
       "\n",
       "#sk-container-id-3 div.sk-label input.sk-toggleable__control:checked~label.sk-toggleable__label {\n",
       "  color: var(--sklearn-color-text);\n",
       "  background-color: var(--sklearn-color-unfitted-level-2);\n",
       "}\n",
       "\n",
       "#sk-container-id-3 div.sk-label.fitted input.sk-toggleable__control:checked~label.sk-toggleable__label {\n",
       "  background-color: var(--sklearn-color-fitted-level-2);\n",
       "}\n",
       "\n",
       "/* Estimator-specific style */\n",
       "\n",
       "/* Colorize estimator box */\n",
       "#sk-container-id-3 div.sk-estimator input.sk-toggleable__control:checked~label.sk-toggleable__label {\n",
       "  /* unfitted */\n",
       "  background-color: var(--sklearn-color-unfitted-level-2);\n",
       "}\n",
       "\n",
       "#sk-container-id-3 div.sk-estimator.fitted input.sk-toggleable__control:checked~label.sk-toggleable__label {\n",
       "  /* fitted */\n",
       "  background-color: var(--sklearn-color-fitted-level-2);\n",
       "}\n",
       "\n",
       "#sk-container-id-3 div.sk-label label.sk-toggleable__label,\n",
       "#sk-container-id-3 div.sk-label label {\n",
       "  /* The background is the default theme color */\n",
       "  color: var(--sklearn-color-text-on-default-background);\n",
       "}\n",
       "\n",
       "/* On hover, darken the color of the background */\n",
       "#sk-container-id-3 div.sk-label:hover label.sk-toggleable__label {\n",
       "  color: var(--sklearn-color-text);\n",
       "  background-color: var(--sklearn-color-unfitted-level-2);\n",
       "}\n",
       "\n",
       "/* Label box, darken color on hover, fitted */\n",
       "#sk-container-id-3 div.sk-label.fitted:hover label.sk-toggleable__label.fitted {\n",
       "  color: var(--sklearn-color-text);\n",
       "  background-color: var(--sklearn-color-fitted-level-2);\n",
       "}\n",
       "\n",
       "/* Estimator label */\n",
       "\n",
       "#sk-container-id-3 div.sk-label label {\n",
       "  font-family: monospace;\n",
       "  font-weight: bold;\n",
       "  display: inline-block;\n",
       "  line-height: 1.2em;\n",
       "}\n",
       "\n",
       "#sk-container-id-3 div.sk-label-container {\n",
       "  text-align: center;\n",
       "}\n",
       "\n",
       "/* Estimator-specific */\n",
       "#sk-container-id-3 div.sk-estimator {\n",
       "  font-family: monospace;\n",
       "  border: 1px dotted var(--sklearn-color-border-box);\n",
       "  border-radius: 0.25em;\n",
       "  box-sizing: border-box;\n",
       "  margin-bottom: 0.5em;\n",
       "  /* unfitted */\n",
       "  background-color: var(--sklearn-color-unfitted-level-0);\n",
       "}\n",
       "\n",
       "#sk-container-id-3 div.sk-estimator.fitted {\n",
       "  /* fitted */\n",
       "  background-color: var(--sklearn-color-fitted-level-0);\n",
       "}\n",
       "\n",
       "/* on hover */\n",
       "#sk-container-id-3 div.sk-estimator:hover {\n",
       "  /* unfitted */\n",
       "  background-color: var(--sklearn-color-unfitted-level-2);\n",
       "}\n",
       "\n",
       "#sk-container-id-3 div.sk-estimator.fitted:hover {\n",
       "  /* fitted */\n",
       "  background-color: var(--sklearn-color-fitted-level-2);\n",
       "}\n",
       "\n",
       "/* Specification for estimator info (e.g. \"i\" and \"?\") */\n",
       "\n",
       "/* Common style for \"i\" and \"?\" */\n",
       "\n",
       ".sk-estimator-doc-link,\n",
       "a:link.sk-estimator-doc-link,\n",
       "a:visited.sk-estimator-doc-link {\n",
       "  float: right;\n",
       "  font-size: smaller;\n",
       "  line-height: 1em;\n",
       "  font-family: monospace;\n",
       "  background-color: var(--sklearn-color-background);\n",
       "  border-radius: 1em;\n",
       "  height: 1em;\n",
       "  width: 1em;\n",
       "  text-decoration: none !important;\n",
       "  margin-left: 1ex;\n",
       "  /* unfitted */\n",
       "  border: var(--sklearn-color-unfitted-level-1) 1pt solid;\n",
       "  color: var(--sklearn-color-unfitted-level-1);\n",
       "}\n",
       "\n",
       ".sk-estimator-doc-link.fitted,\n",
       "a:link.sk-estimator-doc-link.fitted,\n",
       "a:visited.sk-estimator-doc-link.fitted {\n",
       "  /* fitted */\n",
       "  border: var(--sklearn-color-fitted-level-1) 1pt solid;\n",
       "  color: var(--sklearn-color-fitted-level-1);\n",
       "}\n",
       "\n",
       "/* On hover */\n",
       "div.sk-estimator:hover .sk-estimator-doc-link:hover,\n",
       ".sk-estimator-doc-link:hover,\n",
       "div.sk-label-container:hover .sk-estimator-doc-link:hover,\n",
       ".sk-estimator-doc-link:hover {\n",
       "  /* unfitted */\n",
       "  background-color: var(--sklearn-color-unfitted-level-3);\n",
       "  color: var(--sklearn-color-background);\n",
       "  text-decoration: none;\n",
       "}\n",
       "\n",
       "div.sk-estimator.fitted:hover .sk-estimator-doc-link.fitted:hover,\n",
       ".sk-estimator-doc-link.fitted:hover,\n",
       "div.sk-label-container:hover .sk-estimator-doc-link.fitted:hover,\n",
       ".sk-estimator-doc-link.fitted:hover {\n",
       "  /* fitted */\n",
       "  background-color: var(--sklearn-color-fitted-level-3);\n",
       "  color: var(--sklearn-color-background);\n",
       "  text-decoration: none;\n",
       "}\n",
       "\n",
       "/* Span, style for the box shown on hovering the info icon */\n",
       ".sk-estimator-doc-link span {\n",
       "  display: none;\n",
       "  z-index: 9999;\n",
       "  position: relative;\n",
       "  font-weight: normal;\n",
       "  right: .2ex;\n",
       "  padding: .5ex;\n",
       "  margin: .5ex;\n",
       "  width: min-content;\n",
       "  min-width: 20ex;\n",
       "  max-width: 50ex;\n",
       "  color: var(--sklearn-color-text);\n",
       "  box-shadow: 2pt 2pt 4pt #999;\n",
       "  /* unfitted */\n",
       "  background: var(--sklearn-color-unfitted-level-0);\n",
       "  border: .5pt solid var(--sklearn-color-unfitted-level-3);\n",
       "}\n",
       "\n",
       ".sk-estimator-doc-link.fitted span {\n",
       "  /* fitted */\n",
       "  background: var(--sklearn-color-fitted-level-0);\n",
       "  border: var(--sklearn-color-fitted-level-3);\n",
       "}\n",
       "\n",
       ".sk-estimator-doc-link:hover span {\n",
       "  display: block;\n",
       "}\n",
       "\n",
       "/* \"?\"-specific style due to the `<a>` HTML tag */\n",
       "\n",
       "#sk-container-id-3 a.estimator_doc_link {\n",
       "  float: right;\n",
       "  font-size: 1rem;\n",
       "  line-height: 1em;\n",
       "  font-family: monospace;\n",
       "  background-color: var(--sklearn-color-background);\n",
       "  border-radius: 1rem;\n",
       "  height: 1rem;\n",
       "  width: 1rem;\n",
       "  text-decoration: none;\n",
       "  /* unfitted */\n",
       "  color: var(--sklearn-color-unfitted-level-1);\n",
       "  border: var(--sklearn-color-unfitted-level-1) 1pt solid;\n",
       "}\n",
       "\n",
       "#sk-container-id-3 a.estimator_doc_link.fitted {\n",
       "  /* fitted */\n",
       "  border: var(--sklearn-color-fitted-level-1) 1pt solid;\n",
       "  color: var(--sklearn-color-fitted-level-1);\n",
       "}\n",
       "\n",
       "/* On hover */\n",
       "#sk-container-id-3 a.estimator_doc_link:hover {\n",
       "  /* unfitted */\n",
       "  background-color: var(--sklearn-color-unfitted-level-3);\n",
       "  color: var(--sklearn-color-background);\n",
       "  text-decoration: none;\n",
       "}\n",
       "\n",
       "#sk-container-id-3 a.estimator_doc_link.fitted:hover {\n",
       "  /* fitted */\n",
       "  background-color: var(--sklearn-color-fitted-level-3);\n",
       "}\n",
       "</style><div id=\"sk-container-id-3\" class=\"sk-top-container\"><div class=\"sk-text-repr-fallback\"><pre>Pipeline(steps=[(&#x27;outlier_imputer&#x27;,\n",
       "                 WinsorizingOutlier(columns=[&#x27;CRIM&#x27;, &#x27;ZN&#x27;, &#x27;INDUS&#x27;, &#x27;NOX&#x27;, &#x27;RM&#x27;,\n",
       "                                             &#x27;AGE&#x27;, &#x27;DIS&#x27;, &#x27;TAX&#x27;, &#x27;PTRATIO&#x27;,\n",
       "                                             &#x27;B&#x27;, &#x27;LSTAT&#x27;])),\n",
       "                (&#x27;power_transformer&#x27;, PowerTransformer()),\n",
       "                (&#x27;scaler&#x27;, StandardScaler()),\n",
       "                (&#x27;regressor&#x27;,\n",
       "                 XGBRegressor(base_score=None, booster=None, callbacks=None,\n",
       "                              colsample_bylevel=None, colsample_bynode=None,\n",
       "                              colsample_bytree=None, device=...\n",
       "                              feature_types=None, gamma=None, grow_policy=None,\n",
       "                              importance_type=None,\n",
       "                              interaction_constraints=None, learning_rate=None,\n",
       "                              max_bin=None, max_cat_threshold=None,\n",
       "                              max_cat_to_onehot=None, max_delta_step=None,\n",
       "                              max_depth=None, max_leaves=None,\n",
       "                              min_child_weight=None, missing=nan,\n",
       "                              monotone_constraints=None, multi_strategy=None,\n",
       "                              n_estimators=None, n_jobs=None,\n",
       "                              num_parallel_tree=None, random_state=None, ...))])</pre><b>In a Jupyter environment, please rerun this cell to show the HTML representation or trust the notebook. <br />On GitHub, the HTML representation is unable to render, please try loading this page with nbviewer.org.</b></div><div class=\"sk-container\" hidden><div class=\"sk-item sk-dashed-wrapped\"><div class=\"sk-label-container\"><div class=\"sk-label fitted sk-toggleable\"><input class=\"sk-toggleable__control sk-hidden--visually\" id=\"sk-estimator-id-11\" type=\"checkbox\" ><label for=\"sk-estimator-id-11\" class=\"sk-toggleable__label fitted sk-toggleable__label-arrow fitted\">&nbsp;&nbsp;Pipeline<a class=\"sk-estimator-doc-link fitted\" rel=\"noreferrer\" target=\"_blank\" href=\"https://scikit-learn.org/1.4/modules/generated/sklearn.pipeline.Pipeline.html\">?<span>Documentation for Pipeline</span></a><span class=\"sk-estimator-doc-link fitted\">i<span>Fitted</span></span></label><div class=\"sk-toggleable__content fitted\"><pre>Pipeline(steps=[(&#x27;outlier_imputer&#x27;,\n",
       "                 WinsorizingOutlier(columns=[&#x27;CRIM&#x27;, &#x27;ZN&#x27;, &#x27;INDUS&#x27;, &#x27;NOX&#x27;, &#x27;RM&#x27;,\n",
       "                                             &#x27;AGE&#x27;, &#x27;DIS&#x27;, &#x27;TAX&#x27;, &#x27;PTRATIO&#x27;,\n",
       "                                             &#x27;B&#x27;, &#x27;LSTAT&#x27;])),\n",
       "                (&#x27;power_transformer&#x27;, PowerTransformer()),\n",
       "                (&#x27;scaler&#x27;, StandardScaler()),\n",
       "                (&#x27;regressor&#x27;,\n",
       "                 XGBRegressor(base_score=None, booster=None, callbacks=None,\n",
       "                              colsample_bylevel=None, colsample_bynode=None,\n",
       "                              colsample_bytree=None, device=...\n",
       "                              feature_types=None, gamma=None, grow_policy=None,\n",
       "                              importance_type=None,\n",
       "                              interaction_constraints=None, learning_rate=None,\n",
       "                              max_bin=None, max_cat_threshold=None,\n",
       "                              max_cat_to_onehot=None, max_delta_step=None,\n",
       "                              max_depth=None, max_leaves=None,\n",
       "                              min_child_weight=None, missing=nan,\n",
       "                              monotone_constraints=None, multi_strategy=None,\n",
       "                              n_estimators=None, n_jobs=None,\n",
       "                              num_parallel_tree=None, random_state=None, ...))])</pre></div> </div></div><div class=\"sk-serial\"><div class=\"sk-item\"><div class=\"sk-estimator fitted sk-toggleable\"><input class=\"sk-toggleable__control sk-hidden--visually\" id=\"sk-estimator-id-12\" type=\"checkbox\" ><label for=\"sk-estimator-id-12\" class=\"sk-toggleable__label fitted sk-toggleable__label-arrow fitted\">WinsorizingOutlier</label><div class=\"sk-toggleable__content fitted\"><pre>WinsorizingOutlier(columns=[&#x27;CRIM&#x27;, &#x27;ZN&#x27;, &#x27;INDUS&#x27;, &#x27;NOX&#x27;, &#x27;RM&#x27;, &#x27;AGE&#x27;, &#x27;DIS&#x27;,\n",
       "                            &#x27;TAX&#x27;, &#x27;PTRATIO&#x27;, &#x27;B&#x27;, &#x27;LSTAT&#x27;])</pre></div> </div></div><div class=\"sk-item\"><div class=\"sk-estimator fitted sk-toggleable\"><input class=\"sk-toggleable__control sk-hidden--visually\" id=\"sk-estimator-id-13\" type=\"checkbox\" ><label for=\"sk-estimator-id-13\" class=\"sk-toggleable__label fitted sk-toggleable__label-arrow fitted\">&nbsp;PowerTransformer<a class=\"sk-estimator-doc-link fitted\" rel=\"noreferrer\" target=\"_blank\" href=\"https://scikit-learn.org/1.4/modules/generated/sklearn.preprocessing.PowerTransformer.html\">?<span>Documentation for PowerTransformer</span></a></label><div class=\"sk-toggleable__content fitted\"><pre>PowerTransformer()</pre></div> </div></div><div class=\"sk-item\"><div class=\"sk-estimator fitted sk-toggleable\"><input class=\"sk-toggleable__control sk-hidden--visually\" id=\"sk-estimator-id-14\" type=\"checkbox\" ><label for=\"sk-estimator-id-14\" class=\"sk-toggleable__label fitted sk-toggleable__label-arrow fitted\">&nbsp;StandardScaler<a class=\"sk-estimator-doc-link fitted\" rel=\"noreferrer\" target=\"_blank\" href=\"https://scikit-learn.org/1.4/modules/generated/sklearn.preprocessing.StandardScaler.html\">?<span>Documentation for StandardScaler</span></a></label><div class=\"sk-toggleable__content fitted\"><pre>StandardScaler()</pre></div> </div></div><div class=\"sk-item\"><div class=\"sk-estimator fitted sk-toggleable\"><input class=\"sk-toggleable__control sk-hidden--visually\" id=\"sk-estimator-id-15\" type=\"checkbox\" ><label for=\"sk-estimator-id-15\" class=\"sk-toggleable__label fitted sk-toggleable__label-arrow fitted\">XGBRegressor</label><div class=\"sk-toggleable__content fitted\"><pre>XGBRegressor(base_score=None, booster=None, callbacks=None,\n",
       "             colsample_bylevel=None, colsample_bynode=None,\n",
       "             colsample_bytree=None, device=None, early_stopping_rounds=None,\n",
       "             enable_categorical=False, eval_metric=None, feature_types=None,\n",
       "             gamma=None, grow_policy=None, importance_type=None,\n",
       "             interaction_constraints=None, learning_rate=None, max_bin=None,\n",
       "             max_cat_threshold=None, max_cat_to_onehot=None,\n",
       "             max_delta_step=None, max_depth=None, max_leaves=None,\n",
       "             min_child_weight=None, missing=nan, monotone_constraints=None,\n",
       "             multi_strategy=None, n_estimators=None, n_jobs=None,\n",
       "             num_parallel_tree=None, random_state=None, ...)</pre></div> </div></div></div></div></div></div>"
      ],
      "text/plain": [
       "Pipeline(steps=[('outlier_imputer',\n",
       "                 WinsorizingOutlier(columns=['CRIM', 'ZN', 'INDUS', 'NOX', 'RM',\n",
       "                                             'AGE', 'DIS', 'TAX', 'PTRATIO',\n",
       "                                             'B', 'LSTAT'])),\n",
       "                ('power_transformer', PowerTransformer()),\n",
       "                ('scaler', StandardScaler()),\n",
       "                ('regressor',\n",
       "                 XGBRegressor(base_score=None, booster=None, callbacks=None,\n",
       "                              colsample_bylevel=None, colsample_bynode=None,\n",
       "                              colsample_bytree=None, device=...\n",
       "                              feature_types=None, gamma=None, grow_policy=None,\n",
       "                              importance_type=None,\n",
       "                              interaction_constraints=None, learning_rate=None,\n",
       "                              max_bin=None, max_cat_threshold=None,\n",
       "                              max_cat_to_onehot=None, max_delta_step=None,\n",
       "                              max_depth=None, max_leaves=None,\n",
       "                              min_child_weight=None, missing=nan,\n",
       "                              monotone_constraints=None, multi_strategy=None,\n",
       "                              n_estimators=None, n_jobs=None,\n",
       "                              num_parallel_tree=None, random_state=None, ...))])"
      ]
     },
     "execution_count": 18,
     "metadata": {},
     "output_type": "execute_result"
    }
   ],
   "source": [
    "pipeline_xgb = Pipeline(preprocessed + [('regressor', XGBRegressor())])\n",
    "pipeline_xgb.fit(X_train, y_train)"
   ]
  },
  {
   "cell_type": "code",
   "execution_count": 19,
   "id": "6dd85f44",
   "metadata": {
    "ExecuteTime": {
     "end_time": "2024-06-25T09:32:16.000299Z",
     "start_time": "2024-06-25T09:32:14.432368Z"
    },
    "deletable": false,
    "editable": false
   },
   "outputs": [
    {
     "name": "stdout",
     "output_type": "stream",
     "text": [
      "r2-cv: 0.8341838171285738\n",
      "r2-test: 0.8519529471138473\n"
     ]
    }
   ],
   "source": [
    "cv_scores = cross_val_score(pipeline_xgb, X_train, y_train, cv=kf, scoring=\"r2\")\n",
    "test_score = pipeline_xgb.score(X_test, y_test)\n",
    "print(f\"r2-cv: {cv_scores.mean()}\")\n",
    "print(f\"r2-test: {test_score.mean()}\")"
   ]
  },
  {
   "cell_type": "markdown",
   "id": "d0e916c0",
   "metadata": {
    "ExecuteTime": {
     "end_time": "2024-06-25T04:00:35.856038Z",
     "start_time": "2024-06-25T04:00:35.850052Z"
    },
    "deletable": false,
    "editable": false,
    "run_control": {
     "frozen": true
    }
   },
   "source": [
    "### Model Comparisons using PyCaret"
   ]
  },
  {
   "cell_type": "code",
   "execution_count": 20,
   "id": "e984eb1b",
   "metadata": {
    "ExecuteTime": {
     "end_time": "2024-06-25T09:32:20.883261Z",
     "start_time": "2024-06-25T09:32:18.690594Z"
    },
    "deletable": false,
    "editable": false
   },
   "outputs": [],
   "source": [
    "from pycaret.regression import *"
   ]
  },
  {
   "cell_type": "code",
   "execution_count": 21,
   "id": "fc641596",
   "metadata": {
    "ExecuteTime": {
     "end_time": "2024-06-25T09:32:24.320830Z",
     "start_time": "2024-06-25T09:32:21.438919Z"
    },
    "collapsed": true,
    "deletable": false,
    "editable": false
   },
   "outputs": [
    {
     "data": {
      "text/html": [
       "<style type=\"text/css\">\n",
       "#T_4174b_row8_col1, #T_4174b_row12_col1, #T_4174b_row14_col1 {\n",
       "  background-color: lightgreen;\n",
       "}\n",
       "</style>\n",
       "<table id=\"T_4174b\">\n",
       "  <thead>\n",
       "    <tr>\n",
       "      <th class=\"blank level0\" >&nbsp;</th>\n",
       "      <th id=\"T_4174b_level0_col0\" class=\"col_heading level0 col0\" >Description</th>\n",
       "      <th id=\"T_4174b_level0_col1\" class=\"col_heading level0 col1\" >Value</th>\n",
       "    </tr>\n",
       "  </thead>\n",
       "  <tbody>\n",
       "    <tr>\n",
       "      <th id=\"T_4174b_level0_row0\" class=\"row_heading level0 row0\" >0</th>\n",
       "      <td id=\"T_4174b_row0_col0\" class=\"data row0 col0\" >Session id</td>\n",
       "      <td id=\"T_4174b_row0_col1\" class=\"data row0 col1\" >42</td>\n",
       "    </tr>\n",
       "    <tr>\n",
       "      <th id=\"T_4174b_level0_row1\" class=\"row_heading level0 row1\" >1</th>\n",
       "      <td id=\"T_4174b_row1_col0\" class=\"data row1 col0\" >Target</td>\n",
       "      <td id=\"T_4174b_row1_col1\" class=\"data row1 col1\" >MEDV</td>\n",
       "    </tr>\n",
       "    <tr>\n",
       "      <th id=\"T_4174b_level0_row2\" class=\"row_heading level0 row2\" >2</th>\n",
       "      <td id=\"T_4174b_row2_col0\" class=\"data row2 col0\" >Target type</td>\n",
       "      <td id=\"T_4174b_row2_col1\" class=\"data row2 col1\" >Regression</td>\n",
       "    </tr>\n",
       "    <tr>\n",
       "      <th id=\"T_4174b_level0_row3\" class=\"row_heading level0 row3\" >3</th>\n",
       "      <td id=\"T_4174b_row3_col0\" class=\"data row3 col0\" >Original data shape</td>\n",
       "      <td id=\"T_4174b_row3_col1\" class=\"data row3 col1\" >(354, 14)</td>\n",
       "    </tr>\n",
       "    <tr>\n",
       "      <th id=\"T_4174b_level0_row4\" class=\"row_heading level0 row4\" >4</th>\n",
       "      <td id=\"T_4174b_row4_col0\" class=\"data row4 col0\" >Transformed data shape</td>\n",
       "      <td id=\"T_4174b_row4_col1\" class=\"data row4 col1\" >(341, 14)</td>\n",
       "    </tr>\n",
       "    <tr>\n",
       "      <th id=\"T_4174b_level0_row5\" class=\"row_heading level0 row5\" >5</th>\n",
       "      <td id=\"T_4174b_row5_col0\" class=\"data row5 col0\" >Transformed train set shape</td>\n",
       "      <td id=\"T_4174b_row5_col1\" class=\"data row5 col1\" >(234, 14)</td>\n",
       "    </tr>\n",
       "    <tr>\n",
       "      <th id=\"T_4174b_level0_row6\" class=\"row_heading level0 row6\" >6</th>\n",
       "      <td id=\"T_4174b_row6_col0\" class=\"data row6 col0\" >Transformed test set shape</td>\n",
       "      <td id=\"T_4174b_row6_col1\" class=\"data row6 col1\" >(107, 14)</td>\n",
       "    </tr>\n",
       "    <tr>\n",
       "      <th id=\"T_4174b_level0_row7\" class=\"row_heading level0 row7\" >7</th>\n",
       "      <td id=\"T_4174b_row7_col0\" class=\"data row7 col0\" >Numeric features</td>\n",
       "      <td id=\"T_4174b_row7_col1\" class=\"data row7 col1\" >13</td>\n",
       "    </tr>\n",
       "    <tr>\n",
       "      <th id=\"T_4174b_level0_row8\" class=\"row_heading level0 row8\" >8</th>\n",
       "      <td id=\"T_4174b_row8_col0\" class=\"data row8 col0\" >Preprocess</td>\n",
       "      <td id=\"T_4174b_row8_col1\" class=\"data row8 col1\" >True</td>\n",
       "    </tr>\n",
       "    <tr>\n",
       "      <th id=\"T_4174b_level0_row9\" class=\"row_heading level0 row9\" >9</th>\n",
       "      <td id=\"T_4174b_row9_col0\" class=\"data row9 col0\" >Imputation type</td>\n",
       "      <td id=\"T_4174b_row9_col1\" class=\"data row9 col1\" >simple</td>\n",
       "    </tr>\n",
       "    <tr>\n",
       "      <th id=\"T_4174b_level0_row10\" class=\"row_heading level0 row10\" >10</th>\n",
       "      <td id=\"T_4174b_row10_col0\" class=\"data row10 col0\" >Numeric imputation</td>\n",
       "      <td id=\"T_4174b_row10_col1\" class=\"data row10 col1\" >mean</td>\n",
       "    </tr>\n",
       "    <tr>\n",
       "      <th id=\"T_4174b_level0_row11\" class=\"row_heading level0 row11\" >11</th>\n",
       "      <td id=\"T_4174b_row11_col0\" class=\"data row11 col0\" >Categorical imputation</td>\n",
       "      <td id=\"T_4174b_row11_col1\" class=\"data row11 col1\" >mode</td>\n",
       "    </tr>\n",
       "    <tr>\n",
       "      <th id=\"T_4174b_level0_row12\" class=\"row_heading level0 row12\" >12</th>\n",
       "      <td id=\"T_4174b_row12_col0\" class=\"data row12 col0\" >Remove outliers</td>\n",
       "      <td id=\"T_4174b_row12_col1\" class=\"data row12 col1\" >True</td>\n",
       "    </tr>\n",
       "    <tr>\n",
       "      <th id=\"T_4174b_level0_row13\" class=\"row_heading level0 row13\" >13</th>\n",
       "      <td id=\"T_4174b_row13_col0\" class=\"data row13 col0\" >Outliers threshold</td>\n",
       "      <td id=\"T_4174b_row13_col1\" class=\"data row13 col1\" >0.050000</td>\n",
       "    </tr>\n",
       "    <tr>\n",
       "      <th id=\"T_4174b_level0_row14\" class=\"row_heading level0 row14\" >14</th>\n",
       "      <td id=\"T_4174b_row14_col0\" class=\"data row14 col0\" >Transformation</td>\n",
       "      <td id=\"T_4174b_row14_col1\" class=\"data row14 col1\" >True</td>\n",
       "    </tr>\n",
       "    <tr>\n",
       "      <th id=\"T_4174b_level0_row15\" class=\"row_heading level0 row15\" >15</th>\n",
       "      <td id=\"T_4174b_row15_col0\" class=\"data row15 col0\" >Transformation method</td>\n",
       "      <td id=\"T_4174b_row15_col1\" class=\"data row15 col1\" >yeo-johnson</td>\n",
       "    </tr>\n",
       "    <tr>\n",
       "      <th id=\"T_4174b_level0_row16\" class=\"row_heading level0 row16\" >16</th>\n",
       "      <td id=\"T_4174b_row16_col0\" class=\"data row16 col0\" >Fold Generator</td>\n",
       "      <td id=\"T_4174b_row16_col1\" class=\"data row16 col1\" >KFold</td>\n",
       "    </tr>\n",
       "    <tr>\n",
       "      <th id=\"T_4174b_level0_row17\" class=\"row_heading level0 row17\" >17</th>\n",
       "      <td id=\"T_4174b_row17_col0\" class=\"data row17 col0\" >Fold Number</td>\n",
       "      <td id=\"T_4174b_row17_col1\" class=\"data row17 col1\" >5</td>\n",
       "    </tr>\n",
       "    <tr>\n",
       "      <th id=\"T_4174b_level0_row18\" class=\"row_heading level0 row18\" >18</th>\n",
       "      <td id=\"T_4174b_row18_col0\" class=\"data row18 col0\" >CPU Jobs</td>\n",
       "      <td id=\"T_4174b_row18_col1\" class=\"data row18 col1\" >-1</td>\n",
       "    </tr>\n",
       "    <tr>\n",
       "      <th id=\"T_4174b_level0_row19\" class=\"row_heading level0 row19\" >19</th>\n",
       "      <td id=\"T_4174b_row19_col0\" class=\"data row19 col0\" >Use GPU</td>\n",
       "      <td id=\"T_4174b_row19_col1\" class=\"data row19 col1\" >False</td>\n",
       "    </tr>\n",
       "    <tr>\n",
       "      <th id=\"T_4174b_level0_row20\" class=\"row_heading level0 row20\" >20</th>\n",
       "      <td id=\"T_4174b_row20_col0\" class=\"data row20 col0\" >Log Experiment</td>\n",
       "      <td id=\"T_4174b_row20_col1\" class=\"data row20 col1\" >False</td>\n",
       "    </tr>\n",
       "    <tr>\n",
       "      <th id=\"T_4174b_level0_row21\" class=\"row_heading level0 row21\" >21</th>\n",
       "      <td id=\"T_4174b_row21_col0\" class=\"data row21 col0\" >Experiment Name</td>\n",
       "      <td id=\"T_4174b_row21_col1\" class=\"data row21 col1\" >reg-default-name</td>\n",
       "    </tr>\n",
       "    <tr>\n",
       "      <th id=\"T_4174b_level0_row22\" class=\"row_heading level0 row22\" >22</th>\n",
       "      <td id=\"T_4174b_row22_col0\" class=\"data row22 col0\" >USI</td>\n",
       "      <td id=\"T_4174b_row22_col1\" class=\"data row22 col1\" >888f</td>\n",
       "    </tr>\n",
       "  </tbody>\n",
       "</table>\n"
      ],
      "text/plain": [
       "<pandas.io.formats.style.Styler at 0x1675ac37760>"
      ]
     },
     "metadata": {},
     "output_type": "display_data"
    }
   ],
   "source": [
    "regression_setup = setup(\n",
    "    data=X_train, \n",
    "    target=y_train, \n",
    "    train_size=0.7, \n",
    "    remove_outliers=True, \n",
    "    transformation=True,\n",
    "    normalize=False,  \n",
    "    fold=5, \n",
    "    session_id=42\n",
    ")"
   ]
  },
  {
   "cell_type": "code",
   "execution_count": 22,
   "id": "d2c63dc1",
   "metadata": {
    "ExecuteTime": {
     "end_time": "2024-06-25T09:32:27.690856Z",
     "start_time": "2024-06-25T09:32:27.634033Z"
    },
    "deletable": false,
    "editable": false
   },
   "outputs": [],
   "source": [
    "X_test_transformed, y_test_transformed = regression_setup.pipeline.transform(X_test, y_test)"
   ]
  },
  {
   "cell_type": "code",
   "execution_count": 23,
   "id": "c515505d",
   "metadata": {
    "ExecuteTime": {
     "end_time": "2024-06-25T09:33:05.008542Z",
     "start_time": "2024-06-25T09:32:28.774142Z"
    },
    "collapsed": true,
    "deletable": false,
    "editable": false
   },
   "outputs": [
    {
     "data": {
      "text/html": [],
      "text/plain": [
       "<IPython.core.display.HTML object>"
      ]
     },
     "metadata": {},
     "output_type": "display_data"
    },
    {
     "data": {
      "text/html": [
       "<style type=\"text/css\">\n",
       "#T_656cc th {\n",
       "  text-align: left;\n",
       "}\n",
       "#T_656cc_row0_col0, #T_656cc_row1_col0, #T_656cc_row1_col1, #T_656cc_row1_col2, #T_656cc_row1_col3, #T_656cc_row1_col4, #T_656cc_row1_col5, #T_656cc_row1_col6, #T_656cc_row2_col0, #T_656cc_row2_col1, #T_656cc_row2_col2, #T_656cc_row2_col3, #T_656cc_row2_col4, #T_656cc_row2_col5, #T_656cc_row2_col6, #T_656cc_row3_col0, #T_656cc_row3_col1, #T_656cc_row3_col2, #T_656cc_row3_col3, #T_656cc_row3_col4, #T_656cc_row3_col5, #T_656cc_row3_col6, #T_656cc_row4_col0, #T_656cc_row4_col1, #T_656cc_row4_col2, #T_656cc_row4_col3, #T_656cc_row4_col4, #T_656cc_row4_col5, #T_656cc_row4_col6, #T_656cc_row5_col0, #T_656cc_row5_col1, #T_656cc_row5_col2, #T_656cc_row5_col3, #T_656cc_row5_col4, #T_656cc_row5_col5, #T_656cc_row5_col6, #T_656cc_row6_col0, #T_656cc_row6_col1, #T_656cc_row6_col2, #T_656cc_row6_col3, #T_656cc_row6_col4, #T_656cc_row6_col5, #T_656cc_row6_col6, #T_656cc_row7_col0, #T_656cc_row7_col1, #T_656cc_row7_col2, #T_656cc_row7_col3, #T_656cc_row7_col4, #T_656cc_row7_col5, #T_656cc_row7_col6, #T_656cc_row8_col0, #T_656cc_row8_col1, #T_656cc_row8_col2, #T_656cc_row8_col3, #T_656cc_row8_col4, #T_656cc_row8_col5, #T_656cc_row8_col6, #T_656cc_row9_col0, #T_656cc_row9_col1, #T_656cc_row9_col2, #T_656cc_row9_col3, #T_656cc_row9_col4, #T_656cc_row9_col5, #T_656cc_row9_col6, #T_656cc_row10_col0, #T_656cc_row10_col1, #T_656cc_row10_col2, #T_656cc_row10_col3, #T_656cc_row10_col4, #T_656cc_row10_col5, #T_656cc_row10_col6, #T_656cc_row11_col0, #T_656cc_row11_col1, #T_656cc_row11_col2, #T_656cc_row11_col3, #T_656cc_row11_col4, #T_656cc_row11_col5, #T_656cc_row11_col6, #T_656cc_row12_col0, #T_656cc_row12_col1, #T_656cc_row12_col2, #T_656cc_row12_col3, #T_656cc_row12_col4, #T_656cc_row12_col5, #T_656cc_row12_col6, #T_656cc_row13_col0, #T_656cc_row13_col1, #T_656cc_row13_col2, #T_656cc_row13_col3, #T_656cc_row13_col4, #T_656cc_row13_col5, #T_656cc_row13_col6, #T_656cc_row14_col0, #T_656cc_row14_col1, #T_656cc_row14_col2, #T_656cc_row14_col3, #T_656cc_row14_col4, #T_656cc_row14_col5, #T_656cc_row14_col6, #T_656cc_row15_col0, #T_656cc_row15_col1, #T_656cc_row15_col2, #T_656cc_row15_col3, #T_656cc_row15_col4, #T_656cc_row15_col5, #T_656cc_row15_col6, #T_656cc_row16_col0, #T_656cc_row16_col1, #T_656cc_row16_col2, #T_656cc_row16_col3, #T_656cc_row16_col4, #T_656cc_row16_col5, #T_656cc_row16_col6, #T_656cc_row17_col0, #T_656cc_row17_col1, #T_656cc_row17_col2, #T_656cc_row17_col3, #T_656cc_row17_col4, #T_656cc_row17_col5, #T_656cc_row17_col6, #T_656cc_row18_col0, #T_656cc_row18_col1, #T_656cc_row18_col2, #T_656cc_row18_col3, #T_656cc_row18_col4, #T_656cc_row18_col5, #T_656cc_row18_col6, #T_656cc_row19_col0, #T_656cc_row19_col1, #T_656cc_row19_col2, #T_656cc_row19_col3, #T_656cc_row19_col4, #T_656cc_row19_col5, #T_656cc_row19_col6 {\n",
       "  text-align: left;\n",
       "}\n",
       "#T_656cc_row0_col1, #T_656cc_row0_col2, #T_656cc_row0_col3, #T_656cc_row0_col4, #T_656cc_row0_col5, #T_656cc_row0_col6 {\n",
       "  text-align: left;\n",
       "  background-color: yellow;\n",
       "}\n",
       "#T_656cc_row0_col7, #T_656cc_row1_col7, #T_656cc_row2_col7, #T_656cc_row3_col7, #T_656cc_row4_col7, #T_656cc_row5_col7, #T_656cc_row6_col7, #T_656cc_row7_col7, #T_656cc_row8_col7, #T_656cc_row9_col7, #T_656cc_row10_col7, #T_656cc_row11_col7, #T_656cc_row12_col7, #T_656cc_row13_col7, #T_656cc_row14_col7, #T_656cc_row15_col7, #T_656cc_row17_col7, #T_656cc_row18_col7, #T_656cc_row19_col7 {\n",
       "  text-align: left;\n",
       "  background-color: lightgrey;\n",
       "}\n",
       "#T_656cc_row16_col7 {\n",
       "  text-align: left;\n",
       "  background-color: yellow;\n",
       "  background-color: lightgrey;\n",
       "}\n",
       "</style>\n",
       "<table id=\"T_656cc\">\n",
       "  <thead>\n",
       "    <tr>\n",
       "      <th class=\"blank level0\" >&nbsp;</th>\n",
       "      <th id=\"T_656cc_level0_col0\" class=\"col_heading level0 col0\" >Model</th>\n",
       "      <th id=\"T_656cc_level0_col1\" class=\"col_heading level0 col1\" >MAE</th>\n",
       "      <th id=\"T_656cc_level0_col2\" class=\"col_heading level0 col2\" >MSE</th>\n",
       "      <th id=\"T_656cc_level0_col3\" class=\"col_heading level0 col3\" >RMSE</th>\n",
       "      <th id=\"T_656cc_level0_col4\" class=\"col_heading level0 col4\" >R2</th>\n",
       "      <th id=\"T_656cc_level0_col5\" class=\"col_heading level0 col5\" >RMSLE</th>\n",
       "      <th id=\"T_656cc_level0_col6\" class=\"col_heading level0 col6\" >MAPE</th>\n",
       "      <th id=\"T_656cc_level0_col7\" class=\"col_heading level0 col7\" >TT (Sec)</th>\n",
       "    </tr>\n",
       "  </thead>\n",
       "  <tbody>\n",
       "    <tr>\n",
       "      <th id=\"T_656cc_level0_row0\" class=\"row_heading level0 row0\" >gbr</th>\n",
       "      <td id=\"T_656cc_row0_col0\" class=\"data row0 col0\" >Gradient Boosting Regressor</td>\n",
       "      <td id=\"T_656cc_row0_col1\" class=\"data row0 col1\" >1.8927</td>\n",
       "      <td id=\"T_656cc_row0_col2\" class=\"data row0 col2\" >6.9431</td>\n",
       "      <td id=\"T_656cc_row0_col3\" class=\"data row0 col3\" >2.6287</td>\n",
       "      <td id=\"T_656cc_row0_col4\" class=\"data row0 col4\" >0.8740</td>\n",
       "      <td id=\"T_656cc_row0_col5\" class=\"data row0 col5\" >0.1247</td>\n",
       "      <td id=\"T_656cc_row0_col6\" class=\"data row0 col6\" >0.0971</td>\n",
       "      <td id=\"T_656cc_row0_col7\" class=\"data row0 col7\" >0.1940</td>\n",
       "    </tr>\n",
       "    <tr>\n",
       "      <th id=\"T_656cc_level0_row1\" class=\"row_heading level0 row1\" >catboost</th>\n",
       "      <td id=\"T_656cc_row1_col0\" class=\"data row1 col0\" >CatBoost Regressor</td>\n",
       "      <td id=\"T_656cc_row1_col1\" class=\"data row1 col1\" >1.9880</td>\n",
       "      <td id=\"T_656cc_row1_col2\" class=\"data row1 col2\" >7.6957</td>\n",
       "      <td id=\"T_656cc_row1_col3\" class=\"data row1 col3\" >2.7641</td>\n",
       "      <td id=\"T_656cc_row1_col4\" class=\"data row1 col4\" >0.8636</td>\n",
       "      <td id=\"T_656cc_row1_col5\" class=\"data row1 col5\" >0.1349</td>\n",
       "      <td id=\"T_656cc_row1_col6\" class=\"data row1 col6\" >0.1051</td>\n",
       "      <td id=\"T_656cc_row1_col7\" class=\"data row1 col7\" >1.7120</td>\n",
       "    </tr>\n",
       "    <tr>\n",
       "      <th id=\"T_656cc_level0_row2\" class=\"row_heading level0 row2\" >et</th>\n",
       "      <td id=\"T_656cc_row2_col0\" class=\"data row2 col0\" >Extra Trees Regressor</td>\n",
       "      <td id=\"T_656cc_row2_col1\" class=\"data row2 col1\" >2.0567</td>\n",
       "      <td id=\"T_656cc_row2_col2\" class=\"data row2 col2\" >8.2296</td>\n",
       "      <td id=\"T_656cc_row2_col3\" class=\"data row2 col3\" >2.8359</td>\n",
       "      <td id=\"T_656cc_row2_col4\" class=\"data row2 col4\" >0.8558</td>\n",
       "      <td id=\"T_656cc_row2_col5\" class=\"data row2 col5\" >0.1319</td>\n",
       "      <td id=\"T_656cc_row2_col6\" class=\"data row2 col6\" >0.1064</td>\n",
       "      <td id=\"T_656cc_row2_col7\" class=\"data row2 col7\" >0.2360</td>\n",
       "    </tr>\n",
       "    <tr>\n",
       "      <th id=\"T_656cc_level0_row3\" class=\"row_heading level0 row3\" >lightgbm</th>\n",
       "      <td id=\"T_656cc_row3_col0\" class=\"data row3 col0\" >Light Gradient Boosting Machine</td>\n",
       "      <td id=\"T_656cc_row3_col1\" class=\"data row3 col1\" >2.1021</td>\n",
       "      <td id=\"T_656cc_row3_col2\" class=\"data row3 col2\" >8.2645</td>\n",
       "      <td id=\"T_656cc_row3_col3\" class=\"data row3 col3\" >2.8578</td>\n",
       "      <td id=\"T_656cc_row3_col4\" class=\"data row3 col4\" >0.8529</td>\n",
       "      <td id=\"T_656cc_row3_col5\" class=\"data row3 col5\" >0.1328</td>\n",
       "      <td id=\"T_656cc_row3_col6\" class=\"data row3 col6\" >0.1091</td>\n",
       "      <td id=\"T_656cc_row3_col7\" class=\"data row3 col7\" >0.2100</td>\n",
       "    </tr>\n",
       "    <tr>\n",
       "      <th id=\"T_656cc_level0_row4\" class=\"row_heading level0 row4\" >rf</th>\n",
       "      <td id=\"T_656cc_row4_col0\" class=\"data row4 col0\" >Random Forest Regressor</td>\n",
       "      <td id=\"T_656cc_row4_col1\" class=\"data row4 col1\" >2.1433</td>\n",
       "      <td id=\"T_656cc_row4_col2\" class=\"data row4 col2\" >8.4270</td>\n",
       "      <td id=\"T_656cc_row4_col3\" class=\"data row4 col3\" >2.8857</td>\n",
       "      <td id=\"T_656cc_row4_col4\" class=\"data row4 col4\" >0.8486</td>\n",
       "      <td id=\"T_656cc_row4_col5\" class=\"data row4 col5\" >0.1409</td>\n",
       "      <td id=\"T_656cc_row4_col6\" class=\"data row4 col6\" >0.1150</td>\n",
       "      <td id=\"T_656cc_row4_col7\" class=\"data row4 col7\" >0.2960</td>\n",
       "    </tr>\n",
       "    <tr>\n",
       "      <th id=\"T_656cc_level0_row5\" class=\"row_heading level0 row5\" >xgboost</th>\n",
       "      <td id=\"T_656cc_row5_col0\" class=\"data row5 col0\" >Extreme Gradient Boosting</td>\n",
       "      <td id=\"T_656cc_row5_col1\" class=\"data row5 col1\" >2.2072</td>\n",
       "      <td id=\"T_656cc_row5_col2\" class=\"data row5 col2\" >9.0698</td>\n",
       "      <td id=\"T_656cc_row5_col3\" class=\"data row5 col3\" >2.9845</td>\n",
       "      <td id=\"T_656cc_row5_col4\" class=\"data row5 col4\" >0.8403</td>\n",
       "      <td id=\"T_656cc_row5_col5\" class=\"data row5 col5\" >0.1412</td>\n",
       "      <td id=\"T_656cc_row5_col6\" class=\"data row5 col6\" >0.1146</td>\n",
       "      <td id=\"T_656cc_row5_col7\" class=\"data row5 col7\" >0.1980</td>\n",
       "    </tr>\n",
       "    <tr>\n",
       "      <th id=\"T_656cc_level0_row6\" class=\"row_heading level0 row6\" >ada</th>\n",
       "      <td id=\"T_656cc_row6_col0\" class=\"data row6 col0\" >AdaBoost Regressor</td>\n",
       "      <td id=\"T_656cc_row6_col1\" class=\"data row6 col1\" >2.3220</td>\n",
       "      <td id=\"T_656cc_row6_col2\" class=\"data row6 col2\" >9.0268</td>\n",
       "      <td id=\"T_656cc_row6_col3\" class=\"data row6 col3\" >2.9959</td>\n",
       "      <td id=\"T_656cc_row6_col4\" class=\"data row6 col4\" >0.8392</td>\n",
       "      <td id=\"T_656cc_row6_col5\" class=\"data row6 col5\" >0.1416</td>\n",
       "      <td id=\"T_656cc_row6_col6\" class=\"data row6 col6\" >0.1204</td>\n",
       "      <td id=\"T_656cc_row6_col7\" class=\"data row6 col7\" >0.2140</td>\n",
       "    </tr>\n",
       "    <tr>\n",
       "      <th id=\"T_656cc_level0_row7\" class=\"row_heading level0 row7\" >lar</th>\n",
       "      <td id=\"T_656cc_row7_col0\" class=\"data row7 col0\" >Least Angle Regression</td>\n",
       "      <td id=\"T_656cc_row7_col1\" class=\"data row7 col1\" >2.7002</td>\n",
       "      <td id=\"T_656cc_row7_col2\" class=\"data row7 col2\" >11.5606</td>\n",
       "      <td id=\"T_656cc_row7_col3\" class=\"data row7 col3\" >3.3830</td>\n",
       "      <td id=\"T_656cc_row7_col4\" class=\"data row7 col4\" >0.7930</td>\n",
       "      <td id=\"T_656cc_row7_col5\" class=\"data row7 col5\" >0.1863</td>\n",
       "      <td id=\"T_656cc_row7_col6\" class=\"data row7 col6\" >0.1456</td>\n",
       "      <td id=\"T_656cc_row7_col7\" class=\"data row7 col7\" >0.1580</td>\n",
       "    </tr>\n",
       "    <tr>\n",
       "      <th id=\"T_656cc_level0_row8\" class=\"row_heading level0 row8\" >ridge</th>\n",
       "      <td id=\"T_656cc_row8_col0\" class=\"data row8 col0\" >Ridge Regression</td>\n",
       "      <td id=\"T_656cc_row8_col1\" class=\"data row8 col1\" >2.8727</td>\n",
       "      <td id=\"T_656cc_row8_col2\" class=\"data row8 col2\" >12.1575</td>\n",
       "      <td id=\"T_656cc_row8_col3\" class=\"data row8 col3\" >3.4789</td>\n",
       "      <td id=\"T_656cc_row8_col4\" class=\"data row8 col4\" >0.7822</td>\n",
       "      <td id=\"T_656cc_row8_col5\" class=\"data row8 col5\" >0.1706</td>\n",
       "      <td id=\"T_656cc_row8_col6\" class=\"data row8 col6\" >0.1489</td>\n",
       "      <td id=\"T_656cc_row8_col7\" class=\"data row8 col7\" >0.1480</td>\n",
       "    </tr>\n",
       "    <tr>\n",
       "      <th id=\"T_656cc_level0_row9\" class=\"row_heading level0 row9\" >dt</th>\n",
       "      <td id=\"T_656cc_row9_col0\" class=\"data row9 col0\" >Decision Tree Regressor</td>\n",
       "      <td id=\"T_656cc_row9_col1\" class=\"data row9 col1\" >2.8050</td>\n",
       "      <td id=\"T_656cc_row9_col2\" class=\"data row9 col2\" >14.8933</td>\n",
       "      <td id=\"T_656cc_row9_col3\" class=\"data row9 col3\" >3.8457</td>\n",
       "      <td id=\"T_656cc_row9_col4\" class=\"data row9 col4\" >0.7330</td>\n",
       "      <td id=\"T_656cc_row9_col5\" class=\"data row9 col5\" >0.1805</td>\n",
       "      <td id=\"T_656cc_row9_col6\" class=\"data row9 col6\" >0.1471</td>\n",
       "      <td id=\"T_656cc_row9_col7\" class=\"data row9 col7\" >0.1560</td>\n",
       "    </tr>\n",
       "    <tr>\n",
       "      <th id=\"T_656cc_level0_row10\" class=\"row_heading level0 row10\" >lasso</th>\n",
       "      <td id=\"T_656cc_row10_col0\" class=\"data row10 col0\" >Lasso Regression</td>\n",
       "      <td id=\"T_656cc_row10_col1\" class=\"data row10 col1\" >3.5127</td>\n",
       "      <td id=\"T_656cc_row10_col2\" class=\"data row10 col2\" >19.3690</td>\n",
       "      <td id=\"T_656cc_row10_col3\" class=\"data row10 col3\" >4.3541</td>\n",
       "      <td id=\"T_656cc_row10_col4\" class=\"data row10 col4\" >0.6627</td>\n",
       "      <td id=\"T_656cc_row10_col5\" class=\"data row10 col5\" >0.1974</td>\n",
       "      <td id=\"T_656cc_row10_col6\" class=\"data row10 col6\" >0.1769</td>\n",
       "      <td id=\"T_656cc_row10_col7\" class=\"data row10 col7\" >0.1600</td>\n",
       "    </tr>\n",
       "    <tr>\n",
       "      <th id=\"T_656cc_level0_row11\" class=\"row_heading level0 row11\" >llar</th>\n",
       "      <td id=\"T_656cc_row11_col0\" class=\"data row11 col0\" >Lasso Least Angle Regression</td>\n",
       "      <td id=\"T_656cc_row11_col1\" class=\"data row11 col1\" >3.5127</td>\n",
       "      <td id=\"T_656cc_row11_col2\" class=\"data row11 col2\" >19.3689</td>\n",
       "      <td id=\"T_656cc_row11_col3\" class=\"data row11 col3\" >4.3541</td>\n",
       "      <td id=\"T_656cc_row11_col4\" class=\"data row11 col4\" >0.6627</td>\n",
       "      <td id=\"T_656cc_row11_col5\" class=\"data row11 col5\" >0.1974</td>\n",
       "      <td id=\"T_656cc_row11_col6\" class=\"data row11 col6\" >0.1769</td>\n",
       "      <td id=\"T_656cc_row11_col7\" class=\"data row11 col7\" >0.1600</td>\n",
       "    </tr>\n",
       "    <tr>\n",
       "      <th id=\"T_656cc_level0_row12\" class=\"row_heading level0 row12\" >en</th>\n",
       "      <td id=\"T_656cc_row12_col0\" class=\"data row12 col0\" >Elastic Net</td>\n",
       "      <td id=\"T_656cc_row12_col1\" class=\"data row12 col1\" >3.9618</td>\n",
       "      <td id=\"T_656cc_row12_col2\" class=\"data row12 col2\" >26.0070</td>\n",
       "      <td id=\"T_656cc_row12_col3\" class=\"data row12 col3\" >5.0450</td>\n",
       "      <td id=\"T_656cc_row12_col4\" class=\"data row12 col4\" >0.5466</td>\n",
       "      <td id=\"T_656cc_row12_col5\" class=\"data row12 col5\" >0.2283</td>\n",
       "      <td id=\"T_656cc_row12_col6\" class=\"data row12 col6\" >0.2023</td>\n",
       "      <td id=\"T_656cc_row12_col7\" class=\"data row12 col7\" >0.1460</td>\n",
       "    </tr>\n",
       "    <tr>\n",
       "      <th id=\"T_656cc_level0_row13\" class=\"row_heading level0 row13\" >lr</th>\n",
       "      <td id=\"T_656cc_row13_col0\" class=\"data row13 col0\" >Linear Regression</td>\n",
       "      <td id=\"T_656cc_row13_col1\" class=\"data row13 col1\" >5.1659</td>\n",
       "      <td id=\"T_656cc_row13_col2\" class=\"data row13 col2\" >43.3184</td>\n",
       "      <td id=\"T_656cc_row13_col3\" class=\"data row13 col3\" >6.5105</td>\n",
       "      <td id=\"T_656cc_row13_col4\" class=\"data row13 col4\" >0.2487</td>\n",
       "      <td id=\"T_656cc_row13_col5\" class=\"data row13 col5\" >0.2960</td>\n",
       "      <td id=\"T_656cc_row13_col6\" class=\"data row13 col6\" >0.2766</td>\n",
       "      <td id=\"T_656cc_row13_col7\" class=\"data row13 col7\" >1.6740</td>\n",
       "    </tr>\n",
       "    <tr>\n",
       "      <th id=\"T_656cc_level0_row14\" class=\"row_heading level0 row14\" >omp</th>\n",
       "      <td id=\"T_656cc_row14_col0\" class=\"data row14 col0\" >Orthogonal Matching Pursuit</td>\n",
       "      <td id=\"T_656cc_row14_col1\" class=\"data row14 col1\" >5.5917</td>\n",
       "      <td id=\"T_656cc_row14_col2\" class=\"data row14 col2\" >51.3041</td>\n",
       "      <td id=\"T_656cc_row14_col3\" class=\"data row14 col3\" >7.1448</td>\n",
       "      <td id=\"T_656cc_row14_col4\" class=\"data row14 col4\" >0.0933</td>\n",
       "      <td id=\"T_656cc_row14_col5\" class=\"data row14 col5\" >0.3208</td>\n",
       "      <td id=\"T_656cc_row14_col6\" class=\"data row14 col6\" >0.2965</td>\n",
       "      <td id=\"T_656cc_row14_col7\" class=\"data row14 col7\" >0.1440</td>\n",
       "    </tr>\n",
       "    <tr>\n",
       "      <th id=\"T_656cc_level0_row15\" class=\"row_heading level0 row15\" >knn</th>\n",
       "      <td id=\"T_656cc_row15_col0\" class=\"data row15 col0\" >K Neighbors Regressor</td>\n",
       "      <td id=\"T_656cc_row15_col1\" class=\"data row15 col1\" >5.8787</td>\n",
       "      <td id=\"T_656cc_row15_col2\" class=\"data row15 col2\" >54.3041</td>\n",
       "      <td id=\"T_656cc_row15_col3\" class=\"data row15 col3\" >7.3390</td>\n",
       "      <td id=\"T_656cc_row15_col4\" class=\"data row15 col4\" >0.0353</td>\n",
       "      <td id=\"T_656cc_row15_col5\" class=\"data row15 col5\" >0.3131</td>\n",
       "      <td id=\"T_656cc_row15_col6\" class=\"data row15 col6\" >0.2844</td>\n",
       "      <td id=\"T_656cc_row15_col7\" class=\"data row15 col7\" >0.1720</td>\n",
       "    </tr>\n",
       "    <tr>\n",
       "      <th id=\"T_656cc_level0_row16\" class=\"row_heading level0 row16\" >dummy</th>\n",
       "      <td id=\"T_656cc_row16_col0\" class=\"data row16 col0\" >Dummy Regressor</td>\n",
       "      <td id=\"T_656cc_row16_col1\" class=\"data row16 col1\" >6.0183</td>\n",
       "      <td id=\"T_656cc_row16_col2\" class=\"data row16 col2\" >60.6775</td>\n",
       "      <td id=\"T_656cc_row16_col3\" class=\"data row16 col3\" >7.7486</td>\n",
       "      <td id=\"T_656cc_row16_col4\" class=\"data row16 col4\" >-0.0636</td>\n",
       "      <td id=\"T_656cc_row16_col5\" class=\"data row16 col5\" >0.3583</td>\n",
       "      <td id=\"T_656cc_row16_col6\" class=\"data row16 col6\" >0.3387</td>\n",
       "      <td id=\"T_656cc_row16_col7\" class=\"data row16 col7\" >0.1200</td>\n",
       "    </tr>\n",
       "    <tr>\n",
       "      <th id=\"T_656cc_level0_row17\" class=\"row_heading level0 row17\" >huber</th>\n",
       "      <td id=\"T_656cc_row17_col0\" class=\"data row17 col0\" >Huber Regressor</td>\n",
       "      <td id=\"T_656cc_row17_col1\" class=\"data row17 col1\" >6.6732</td>\n",
       "      <td id=\"T_656cc_row17_col2\" class=\"data row17 col2\" >73.2979</td>\n",
       "      <td id=\"T_656cc_row17_col3\" class=\"data row17 col3\" >8.5591</td>\n",
       "      <td id=\"T_656cc_row17_col4\" class=\"data row17 col4\" >-0.3251</td>\n",
       "      <td id=\"T_656cc_row17_col5\" class=\"data row17 col5\" >0.7573</td>\n",
       "      <td id=\"T_656cc_row17_col6\" class=\"data row17 col6\" >0.3447</td>\n",
       "      <td id=\"T_656cc_row17_col7\" class=\"data row17 col7\" >0.1460</td>\n",
       "    </tr>\n",
       "    <tr>\n",
       "      <th id=\"T_656cc_level0_row18\" class=\"row_heading level0 row18\" >br</th>\n",
       "      <td id=\"T_656cc_row18_col0\" class=\"data row18 col0\" >Bayesian Ridge</td>\n",
       "      <td id=\"T_656cc_row18_col1\" class=\"data row18 col1\" >55.3212</td>\n",
       "      <td id=\"T_656cc_row18_col2\" class=\"data row18 col2\" >5031.4920</td>\n",
       "      <td id=\"T_656cc_row18_col3\" class=\"data row18 col3\" >60.6120</td>\n",
       "      <td id=\"T_656cc_row18_col4\" class=\"data row18 col4\" >-98.0387</td>\n",
       "      <td id=\"T_656cc_row18_col5\" class=\"data row18 col5\" >1.0391</td>\n",
       "      <td id=\"T_656cc_row18_col6\" class=\"data row18 col6\" >2.7293</td>\n",
       "      <td id=\"T_656cc_row18_col7\" class=\"data row18 col7\" >0.1540</td>\n",
       "    </tr>\n",
       "    <tr>\n",
       "      <th id=\"T_656cc_level0_row19\" class=\"row_heading level0 row19\" >par</th>\n",
       "      <td id=\"T_656cc_row19_col0\" class=\"data row19 col0\" >Passive Aggressive Regressor</td>\n",
       "      <td id=\"T_656cc_row19_col1\" class=\"data row19 col1\" >50.1225</td>\n",
       "      <td id=\"T_656cc_row19_col2\" class=\"data row19 col2\" >9105.3784</td>\n",
       "      <td id=\"T_656cc_row19_col3\" class=\"data row19 col3\" >54.8105</td>\n",
       "      <td id=\"T_656cc_row19_col4\" class=\"data row19 col4\" >-162.4638</td>\n",
       "      <td id=\"T_656cc_row19_col5\" class=\"data row19 col5\" >0.9352</td>\n",
       "      <td id=\"T_656cc_row19_col6\" class=\"data row19 col6\" >2.4000</td>\n",
       "      <td id=\"T_656cc_row19_col7\" class=\"data row19 col7\" >0.1540</td>\n",
       "    </tr>\n",
       "  </tbody>\n",
       "</table>\n"
      ],
      "text/plain": [
       "<pandas.io.formats.style.Styler at 0x1675a69a8b0>"
      ]
     },
     "metadata": {},
     "output_type": "display_data"
    },
    {
     "data": {
      "text/html": [],
      "text/plain": [
       "<IPython.core.display.HTML object>"
      ]
     },
     "metadata": {},
     "output_type": "display_data"
    },
    {
     "data": {
      "text/html": [
       "<style>#sk-container-id-4 {\n",
       "  /* Definition of color scheme common for light and dark mode */\n",
       "  --sklearn-color-text: black;\n",
       "  --sklearn-color-line: gray;\n",
       "  /* Definition of color scheme for unfitted estimators */\n",
       "  --sklearn-color-unfitted-level-0: #fff5e6;\n",
       "  --sklearn-color-unfitted-level-1: #f6e4d2;\n",
       "  --sklearn-color-unfitted-level-2: #ffe0b3;\n",
       "  --sklearn-color-unfitted-level-3: chocolate;\n",
       "  /* Definition of color scheme for fitted estimators */\n",
       "  --sklearn-color-fitted-level-0: #f0f8ff;\n",
       "  --sklearn-color-fitted-level-1: #d4ebff;\n",
       "  --sklearn-color-fitted-level-2: #b3dbfd;\n",
       "  --sklearn-color-fitted-level-3: cornflowerblue;\n",
       "\n",
       "  /* Specific color for light theme */\n",
       "  --sklearn-color-text-on-default-background: var(--sg-text-color, var(--theme-code-foreground, var(--jp-content-font-color1, black)));\n",
       "  --sklearn-color-background: var(--sg-background-color, var(--theme-background, var(--jp-layout-color0, white)));\n",
       "  --sklearn-color-border-box: var(--sg-text-color, var(--theme-code-foreground, var(--jp-content-font-color1, black)));\n",
       "  --sklearn-color-icon: #696969;\n",
       "\n",
       "  @media (prefers-color-scheme: dark) {\n",
       "    /* Redefinition of color scheme for dark theme */\n",
       "    --sklearn-color-text-on-default-background: var(--sg-text-color, var(--theme-code-foreground, var(--jp-content-font-color1, white)));\n",
       "    --sklearn-color-background: var(--sg-background-color, var(--theme-background, var(--jp-layout-color0, #111)));\n",
       "    --sklearn-color-border-box: var(--sg-text-color, var(--theme-code-foreground, var(--jp-content-font-color1, white)));\n",
       "    --sklearn-color-icon: #878787;\n",
       "  }\n",
       "}\n",
       "\n",
       "#sk-container-id-4 {\n",
       "  color: var(--sklearn-color-text);\n",
       "}\n",
       "\n",
       "#sk-container-id-4 pre {\n",
       "  padding: 0;\n",
       "}\n",
       "\n",
       "#sk-container-id-4 input.sk-hidden--visually {\n",
       "  border: 0;\n",
       "  clip: rect(1px 1px 1px 1px);\n",
       "  clip: rect(1px, 1px, 1px, 1px);\n",
       "  height: 1px;\n",
       "  margin: -1px;\n",
       "  overflow: hidden;\n",
       "  padding: 0;\n",
       "  position: absolute;\n",
       "  width: 1px;\n",
       "}\n",
       "\n",
       "#sk-container-id-4 div.sk-dashed-wrapped {\n",
       "  border: 1px dashed var(--sklearn-color-line);\n",
       "  margin: 0 0.4em 0.5em 0.4em;\n",
       "  box-sizing: border-box;\n",
       "  padding-bottom: 0.4em;\n",
       "  background-color: var(--sklearn-color-background);\n",
       "}\n",
       "\n",
       "#sk-container-id-4 div.sk-container {\n",
       "  /* jupyter's `normalize.less` sets `[hidden] { display: none; }`\n",
       "     but bootstrap.min.css set `[hidden] { display: none !important; }`\n",
       "     so we also need the `!important` here to be able to override the\n",
       "     default hidden behavior on the sphinx rendered scikit-learn.org.\n",
       "     See: https://github.com/scikit-learn/scikit-learn/issues/21755 */\n",
       "  display: inline-block !important;\n",
       "  position: relative;\n",
       "}\n",
       "\n",
       "#sk-container-id-4 div.sk-text-repr-fallback {\n",
       "  display: none;\n",
       "}\n",
       "\n",
       "div.sk-parallel-item,\n",
       "div.sk-serial,\n",
       "div.sk-item {\n",
       "  /* draw centered vertical line to link estimators */\n",
       "  background-image: linear-gradient(var(--sklearn-color-text-on-default-background), var(--sklearn-color-text-on-default-background));\n",
       "  background-size: 2px 100%;\n",
       "  background-repeat: no-repeat;\n",
       "  background-position: center center;\n",
       "}\n",
       "\n",
       "/* Parallel-specific style estimator block */\n",
       "\n",
       "#sk-container-id-4 div.sk-parallel-item::after {\n",
       "  content: \"\";\n",
       "  width: 100%;\n",
       "  border-bottom: 2px solid var(--sklearn-color-text-on-default-background);\n",
       "  flex-grow: 1;\n",
       "}\n",
       "\n",
       "#sk-container-id-4 div.sk-parallel {\n",
       "  display: flex;\n",
       "  align-items: stretch;\n",
       "  justify-content: center;\n",
       "  background-color: var(--sklearn-color-background);\n",
       "  position: relative;\n",
       "}\n",
       "\n",
       "#sk-container-id-4 div.sk-parallel-item {\n",
       "  display: flex;\n",
       "  flex-direction: column;\n",
       "}\n",
       "\n",
       "#sk-container-id-4 div.sk-parallel-item:first-child::after {\n",
       "  align-self: flex-end;\n",
       "  width: 50%;\n",
       "}\n",
       "\n",
       "#sk-container-id-4 div.sk-parallel-item:last-child::after {\n",
       "  align-self: flex-start;\n",
       "  width: 50%;\n",
       "}\n",
       "\n",
       "#sk-container-id-4 div.sk-parallel-item:only-child::after {\n",
       "  width: 0;\n",
       "}\n",
       "\n",
       "/* Serial-specific style estimator block */\n",
       "\n",
       "#sk-container-id-4 div.sk-serial {\n",
       "  display: flex;\n",
       "  flex-direction: column;\n",
       "  align-items: center;\n",
       "  background-color: var(--sklearn-color-background);\n",
       "  padding-right: 1em;\n",
       "  padding-left: 1em;\n",
       "}\n",
       "\n",
       "\n",
       "/* Toggleable style: style used for estimator/Pipeline/ColumnTransformer box that is\n",
       "clickable and can be expanded/collapsed.\n",
       "- Pipeline and ColumnTransformer use this feature and define the default style\n",
       "- Estimators will overwrite some part of the style using the `sk-estimator` class\n",
       "*/\n",
       "\n",
       "/* Pipeline and ColumnTransformer style (default) */\n",
       "\n",
       "#sk-container-id-4 div.sk-toggleable {\n",
       "  /* Default theme specific background. It is overwritten whether we have a\n",
       "  specific estimator or a Pipeline/ColumnTransformer */\n",
       "  background-color: var(--sklearn-color-background);\n",
       "}\n",
       "\n",
       "/* Toggleable label */\n",
       "#sk-container-id-4 label.sk-toggleable__label {\n",
       "  cursor: pointer;\n",
       "  display: block;\n",
       "  width: 100%;\n",
       "  margin-bottom: 0;\n",
       "  padding: 0.5em;\n",
       "  box-sizing: border-box;\n",
       "  text-align: center;\n",
       "}\n",
       "\n",
       "#sk-container-id-4 label.sk-toggleable__label-arrow:before {\n",
       "  /* Arrow on the left of the label */\n",
       "  content: \"▸\";\n",
       "  float: left;\n",
       "  margin-right: 0.25em;\n",
       "  color: var(--sklearn-color-icon);\n",
       "}\n",
       "\n",
       "#sk-container-id-4 label.sk-toggleable__label-arrow:hover:before {\n",
       "  color: var(--sklearn-color-text);\n",
       "}\n",
       "\n",
       "/* Toggleable content - dropdown */\n",
       "\n",
       "#sk-container-id-4 div.sk-toggleable__content {\n",
       "  max-height: 0;\n",
       "  max-width: 0;\n",
       "  overflow: hidden;\n",
       "  text-align: left;\n",
       "  /* unfitted */\n",
       "  background-color: var(--sklearn-color-unfitted-level-0);\n",
       "}\n",
       "\n",
       "#sk-container-id-4 div.sk-toggleable__content.fitted {\n",
       "  /* fitted */\n",
       "  background-color: var(--sklearn-color-fitted-level-0);\n",
       "}\n",
       "\n",
       "#sk-container-id-4 div.sk-toggleable__content pre {\n",
       "  margin: 0.2em;\n",
       "  border-radius: 0.25em;\n",
       "  color: var(--sklearn-color-text);\n",
       "  /* unfitted */\n",
       "  background-color: var(--sklearn-color-unfitted-level-0);\n",
       "}\n",
       "\n",
       "#sk-container-id-4 div.sk-toggleable__content.fitted pre {\n",
       "  /* unfitted */\n",
       "  background-color: var(--sklearn-color-fitted-level-0);\n",
       "}\n",
       "\n",
       "#sk-container-id-4 input.sk-toggleable__control:checked~div.sk-toggleable__content {\n",
       "  /* Expand drop-down */\n",
       "  max-height: 200px;\n",
       "  max-width: 100%;\n",
       "  overflow: auto;\n",
       "}\n",
       "\n",
       "#sk-container-id-4 input.sk-toggleable__control:checked~label.sk-toggleable__label-arrow:before {\n",
       "  content: \"▾\";\n",
       "}\n",
       "\n",
       "/* Pipeline/ColumnTransformer-specific style */\n",
       "\n",
       "#sk-container-id-4 div.sk-label input.sk-toggleable__control:checked~label.sk-toggleable__label {\n",
       "  color: var(--sklearn-color-text);\n",
       "  background-color: var(--sklearn-color-unfitted-level-2);\n",
       "}\n",
       "\n",
       "#sk-container-id-4 div.sk-label.fitted input.sk-toggleable__control:checked~label.sk-toggleable__label {\n",
       "  background-color: var(--sklearn-color-fitted-level-2);\n",
       "}\n",
       "\n",
       "/* Estimator-specific style */\n",
       "\n",
       "/* Colorize estimator box */\n",
       "#sk-container-id-4 div.sk-estimator input.sk-toggleable__control:checked~label.sk-toggleable__label {\n",
       "  /* unfitted */\n",
       "  background-color: var(--sklearn-color-unfitted-level-2);\n",
       "}\n",
       "\n",
       "#sk-container-id-4 div.sk-estimator.fitted input.sk-toggleable__control:checked~label.sk-toggleable__label {\n",
       "  /* fitted */\n",
       "  background-color: var(--sklearn-color-fitted-level-2);\n",
       "}\n",
       "\n",
       "#sk-container-id-4 div.sk-label label.sk-toggleable__label,\n",
       "#sk-container-id-4 div.sk-label label {\n",
       "  /* The background is the default theme color */\n",
       "  color: var(--sklearn-color-text-on-default-background);\n",
       "}\n",
       "\n",
       "/* On hover, darken the color of the background */\n",
       "#sk-container-id-4 div.sk-label:hover label.sk-toggleable__label {\n",
       "  color: var(--sklearn-color-text);\n",
       "  background-color: var(--sklearn-color-unfitted-level-2);\n",
       "}\n",
       "\n",
       "/* Label box, darken color on hover, fitted */\n",
       "#sk-container-id-4 div.sk-label.fitted:hover label.sk-toggleable__label.fitted {\n",
       "  color: var(--sklearn-color-text);\n",
       "  background-color: var(--sklearn-color-fitted-level-2);\n",
       "}\n",
       "\n",
       "/* Estimator label */\n",
       "\n",
       "#sk-container-id-4 div.sk-label label {\n",
       "  font-family: monospace;\n",
       "  font-weight: bold;\n",
       "  display: inline-block;\n",
       "  line-height: 1.2em;\n",
       "}\n",
       "\n",
       "#sk-container-id-4 div.sk-label-container {\n",
       "  text-align: center;\n",
       "}\n",
       "\n",
       "/* Estimator-specific */\n",
       "#sk-container-id-4 div.sk-estimator {\n",
       "  font-family: monospace;\n",
       "  border: 1px dotted var(--sklearn-color-border-box);\n",
       "  border-radius: 0.25em;\n",
       "  box-sizing: border-box;\n",
       "  margin-bottom: 0.5em;\n",
       "  /* unfitted */\n",
       "  background-color: var(--sklearn-color-unfitted-level-0);\n",
       "}\n",
       "\n",
       "#sk-container-id-4 div.sk-estimator.fitted {\n",
       "  /* fitted */\n",
       "  background-color: var(--sklearn-color-fitted-level-0);\n",
       "}\n",
       "\n",
       "/* on hover */\n",
       "#sk-container-id-4 div.sk-estimator:hover {\n",
       "  /* unfitted */\n",
       "  background-color: var(--sklearn-color-unfitted-level-2);\n",
       "}\n",
       "\n",
       "#sk-container-id-4 div.sk-estimator.fitted:hover {\n",
       "  /* fitted */\n",
       "  background-color: var(--sklearn-color-fitted-level-2);\n",
       "}\n",
       "\n",
       "/* Specification for estimator info (e.g. \"i\" and \"?\") */\n",
       "\n",
       "/* Common style for \"i\" and \"?\" */\n",
       "\n",
       ".sk-estimator-doc-link,\n",
       "a:link.sk-estimator-doc-link,\n",
       "a:visited.sk-estimator-doc-link {\n",
       "  float: right;\n",
       "  font-size: smaller;\n",
       "  line-height: 1em;\n",
       "  font-family: monospace;\n",
       "  background-color: var(--sklearn-color-background);\n",
       "  border-radius: 1em;\n",
       "  height: 1em;\n",
       "  width: 1em;\n",
       "  text-decoration: none !important;\n",
       "  margin-left: 1ex;\n",
       "  /* unfitted */\n",
       "  border: var(--sklearn-color-unfitted-level-1) 1pt solid;\n",
       "  color: var(--sklearn-color-unfitted-level-1);\n",
       "}\n",
       "\n",
       ".sk-estimator-doc-link.fitted,\n",
       "a:link.sk-estimator-doc-link.fitted,\n",
       "a:visited.sk-estimator-doc-link.fitted {\n",
       "  /* fitted */\n",
       "  border: var(--sklearn-color-fitted-level-1) 1pt solid;\n",
       "  color: var(--sklearn-color-fitted-level-1);\n",
       "}\n",
       "\n",
       "/* On hover */\n",
       "div.sk-estimator:hover .sk-estimator-doc-link:hover,\n",
       ".sk-estimator-doc-link:hover,\n",
       "div.sk-label-container:hover .sk-estimator-doc-link:hover,\n",
       ".sk-estimator-doc-link:hover {\n",
       "  /* unfitted */\n",
       "  background-color: var(--sklearn-color-unfitted-level-3);\n",
       "  color: var(--sklearn-color-background);\n",
       "  text-decoration: none;\n",
       "}\n",
       "\n",
       "div.sk-estimator.fitted:hover .sk-estimator-doc-link.fitted:hover,\n",
       ".sk-estimator-doc-link.fitted:hover,\n",
       "div.sk-label-container:hover .sk-estimator-doc-link.fitted:hover,\n",
       ".sk-estimator-doc-link.fitted:hover {\n",
       "  /* fitted */\n",
       "  background-color: var(--sklearn-color-fitted-level-3);\n",
       "  color: var(--sklearn-color-background);\n",
       "  text-decoration: none;\n",
       "}\n",
       "\n",
       "/* Span, style for the box shown on hovering the info icon */\n",
       ".sk-estimator-doc-link span {\n",
       "  display: none;\n",
       "  z-index: 9999;\n",
       "  position: relative;\n",
       "  font-weight: normal;\n",
       "  right: .2ex;\n",
       "  padding: .5ex;\n",
       "  margin: .5ex;\n",
       "  width: min-content;\n",
       "  min-width: 20ex;\n",
       "  max-width: 50ex;\n",
       "  color: var(--sklearn-color-text);\n",
       "  box-shadow: 2pt 2pt 4pt #999;\n",
       "  /* unfitted */\n",
       "  background: var(--sklearn-color-unfitted-level-0);\n",
       "  border: .5pt solid var(--sklearn-color-unfitted-level-3);\n",
       "}\n",
       "\n",
       ".sk-estimator-doc-link.fitted span {\n",
       "  /* fitted */\n",
       "  background: var(--sklearn-color-fitted-level-0);\n",
       "  border: var(--sklearn-color-fitted-level-3);\n",
       "}\n",
       "\n",
       ".sk-estimator-doc-link:hover span {\n",
       "  display: block;\n",
       "}\n",
       "\n",
       "/* \"?\"-specific style due to the `<a>` HTML tag */\n",
       "\n",
       "#sk-container-id-4 a.estimator_doc_link {\n",
       "  float: right;\n",
       "  font-size: 1rem;\n",
       "  line-height: 1em;\n",
       "  font-family: monospace;\n",
       "  background-color: var(--sklearn-color-background);\n",
       "  border-radius: 1rem;\n",
       "  height: 1rem;\n",
       "  width: 1rem;\n",
       "  text-decoration: none;\n",
       "  /* unfitted */\n",
       "  color: var(--sklearn-color-unfitted-level-1);\n",
       "  border: var(--sklearn-color-unfitted-level-1) 1pt solid;\n",
       "}\n",
       "\n",
       "#sk-container-id-4 a.estimator_doc_link.fitted {\n",
       "  /* fitted */\n",
       "  border: var(--sklearn-color-fitted-level-1) 1pt solid;\n",
       "  color: var(--sklearn-color-fitted-level-1);\n",
       "}\n",
       "\n",
       "/* On hover */\n",
       "#sk-container-id-4 a.estimator_doc_link:hover {\n",
       "  /* unfitted */\n",
       "  background-color: var(--sklearn-color-unfitted-level-3);\n",
       "  color: var(--sklearn-color-background);\n",
       "  text-decoration: none;\n",
       "}\n",
       "\n",
       "#sk-container-id-4 a.estimator_doc_link.fitted:hover {\n",
       "  /* fitted */\n",
       "  background-color: var(--sklearn-color-fitted-level-3);\n",
       "}\n",
       "</style><div id=\"sk-container-id-4\" class=\"sk-top-container\"><div class=\"sk-text-repr-fallback\"><pre>GradientBoostingRegressor(random_state=42)</pre><b>In a Jupyter environment, please rerun this cell to show the HTML representation or trust the notebook. <br />On GitHub, the HTML representation is unable to render, please try loading this page with nbviewer.org.</b></div><div class=\"sk-container\" hidden><div class=\"sk-item\"><div class=\"sk-estimator fitted sk-toggleable\"><input class=\"sk-toggleable__control sk-hidden--visually\" id=\"sk-estimator-id-16\" type=\"checkbox\" checked><label for=\"sk-estimator-id-16\" class=\"sk-toggleable__label fitted sk-toggleable__label-arrow fitted\">&nbsp;&nbsp;GradientBoostingRegressor<a class=\"sk-estimator-doc-link fitted\" rel=\"noreferrer\" target=\"_blank\" href=\"https://scikit-learn.org/1.4/modules/generated/sklearn.ensemble.GradientBoostingRegressor.html\">?<span>Documentation for GradientBoostingRegressor</span></a><span class=\"sk-estimator-doc-link fitted\">i<span>Fitted</span></span></label><div class=\"sk-toggleable__content fitted\"><pre>GradientBoostingRegressor(random_state=42)</pre></div> </div></div></div></div>"
      ],
      "text/plain": [
       "GradientBoostingRegressor(random_state=42)"
      ]
     },
     "execution_count": 23,
     "metadata": {},
     "output_type": "execute_result"
    }
   ],
   "source": [
    "compare_models(sort='R2', budget_time=1)"
   ]
  },
  {
   "cell_type": "markdown",
   "id": "a86c56a0",
   "metadata": {
    "ExecuteTime": {
     "end_time": "2024-06-25T06:59:48.074128Z",
     "start_time": "2024-06-25T06:59:48.064597Z"
    },
    "deletable": false,
    "editable": false,
    "run_control": {
     "frozen": true
    }
   },
   "source": [
    "### Model Testing and Validation"
   ]
  },
  {
   "cell_type": "markdown",
   "id": "61d18a50",
   "metadata": {
    "ExecuteTime": {
     "end_time": "2024-06-25T07:22:12.419507Z",
     "start_time": "2024-06-25T07:22:12.409938Z"
    },
    "deletable": false,
    "editable": false,
    "run_control": {
     "frozen": true
    }
   },
   "source": [
    "#### Gradient Boosting Regression"
   ]
  },
  {
   "cell_type": "code",
   "execution_count": 24,
   "id": "d53227f9",
   "metadata": {
    "ExecuteTime": {
     "end_time": "2024-06-25T09:37:49.059568Z",
     "start_time": "2024-06-25T09:37:36.009652Z"
    },
    "collapsed": true,
    "deletable": false,
    "editable": false
   },
   "outputs": [
    {
     "data": {
      "text/html": [],
      "text/plain": [
       "<IPython.core.display.HTML object>"
      ]
     },
     "metadata": {},
     "output_type": "display_data"
    },
    {
     "data": {
      "text/html": [
       "<style type=\"text/css\">\n",
       "#T_0c04b_row5_col0, #T_0c04b_row5_col1, #T_0c04b_row5_col2, #T_0c04b_row5_col3, #T_0c04b_row5_col4, #T_0c04b_row5_col5 {\n",
       "  background: yellow;\n",
       "}\n",
       "</style>\n",
       "<table id=\"T_0c04b\">\n",
       "  <thead>\n",
       "    <tr>\n",
       "      <th class=\"blank level0\" >&nbsp;</th>\n",
       "      <th id=\"T_0c04b_level0_col0\" class=\"col_heading level0 col0\" >MAE</th>\n",
       "      <th id=\"T_0c04b_level0_col1\" class=\"col_heading level0 col1\" >MSE</th>\n",
       "      <th id=\"T_0c04b_level0_col2\" class=\"col_heading level0 col2\" >RMSE</th>\n",
       "      <th id=\"T_0c04b_level0_col3\" class=\"col_heading level0 col3\" >R2</th>\n",
       "      <th id=\"T_0c04b_level0_col4\" class=\"col_heading level0 col4\" >RMSLE</th>\n",
       "      <th id=\"T_0c04b_level0_col5\" class=\"col_heading level0 col5\" >MAPE</th>\n",
       "    </tr>\n",
       "    <tr>\n",
       "      <th class=\"index_name level0\" >Fold</th>\n",
       "      <th class=\"blank col0\" >&nbsp;</th>\n",
       "      <th class=\"blank col1\" >&nbsp;</th>\n",
       "      <th class=\"blank col2\" >&nbsp;</th>\n",
       "      <th class=\"blank col3\" >&nbsp;</th>\n",
       "      <th class=\"blank col4\" >&nbsp;</th>\n",
       "      <th class=\"blank col5\" >&nbsp;</th>\n",
       "    </tr>\n",
       "  </thead>\n",
       "  <tbody>\n",
       "    <tr>\n",
       "      <th id=\"T_0c04b_level0_row0\" class=\"row_heading level0 row0\" >0</th>\n",
       "      <td id=\"T_0c04b_row0_col0\" class=\"data row0 col0\" >1.9009</td>\n",
       "      <td id=\"T_0c04b_row0_col1\" class=\"data row0 col1\" >7.6503</td>\n",
       "      <td id=\"T_0c04b_row0_col2\" class=\"data row0 col2\" >2.7659</td>\n",
       "      <td id=\"T_0c04b_row0_col3\" class=\"data row0 col3\" >0.8706</td>\n",
       "      <td id=\"T_0c04b_row0_col4\" class=\"data row0 col4\" >0.1141</td>\n",
       "      <td id=\"T_0c04b_row0_col5\" class=\"data row0 col5\" >0.0853</td>\n",
       "    </tr>\n",
       "    <tr>\n",
       "      <th id=\"T_0c04b_level0_row1\" class=\"row_heading level0 row1\" >1</th>\n",
       "      <td id=\"T_0c04b_row1_col0\" class=\"data row1 col0\" >2.1258</td>\n",
       "      <td id=\"T_0c04b_row1_col1\" class=\"data row1 col1\" >7.7753</td>\n",
       "      <td id=\"T_0c04b_row1_col2\" class=\"data row1 col2\" >2.7884</td>\n",
       "      <td id=\"T_0c04b_row1_col3\" class=\"data row1 col3\" >0.8789</td>\n",
       "      <td id=\"T_0c04b_row1_col4\" class=\"data row1 col4\" >0.1733</td>\n",
       "      <td id=\"T_0c04b_row1_col5\" class=\"data row1 col5\" >0.1399</td>\n",
       "    </tr>\n",
       "    <tr>\n",
       "      <th id=\"T_0c04b_level0_row2\" class=\"row_heading level0 row2\" >2</th>\n",
       "      <td id=\"T_0c04b_row2_col0\" class=\"data row2 col0\" >1.8826</td>\n",
       "      <td id=\"T_0c04b_row2_col1\" class=\"data row2 col1\" >6.3779</td>\n",
       "      <td id=\"T_0c04b_row2_col2\" class=\"data row2 col2\" >2.5254</td>\n",
       "      <td id=\"T_0c04b_row2_col3\" class=\"data row2 col3\" >0.8983</td>\n",
       "      <td id=\"T_0c04b_row2_col4\" class=\"data row2 col4\" >0.1141</td>\n",
       "      <td id=\"T_0c04b_row2_col5\" class=\"data row2 col5\" >0.0873</td>\n",
       "    </tr>\n",
       "    <tr>\n",
       "      <th id=\"T_0c04b_level0_row3\" class=\"row_heading level0 row3\" >3</th>\n",
       "      <td id=\"T_0c04b_row3_col0\" class=\"data row3 col0\" >1.6861</td>\n",
       "      <td id=\"T_0c04b_row3_col1\" class=\"data row3 col1\" >5.3743</td>\n",
       "      <td id=\"T_0c04b_row3_col2\" class=\"data row3 col2\" >2.3183</td>\n",
       "      <td id=\"T_0c04b_row3_col3\" class=\"data row3 col3\" >0.9037</td>\n",
       "      <td id=\"T_0c04b_row3_col4\" class=\"data row3 col4\" >0.1105</td>\n",
       "      <td id=\"T_0c04b_row3_col5\" class=\"data row3 col5\" >0.0862</td>\n",
       "    </tr>\n",
       "    <tr>\n",
       "      <th id=\"T_0c04b_level0_row4\" class=\"row_heading level0 row4\" >4</th>\n",
       "      <td id=\"T_0c04b_row4_col0\" class=\"data row4 col0\" >1.8680</td>\n",
       "      <td id=\"T_0c04b_row4_col1\" class=\"data row4 col1\" >7.5376</td>\n",
       "      <td id=\"T_0c04b_row4_col2\" class=\"data row4 col2\" >2.7455</td>\n",
       "      <td id=\"T_0c04b_row4_col3\" class=\"data row4 col3\" >0.8184</td>\n",
       "      <td id=\"T_0c04b_row4_col4\" class=\"data row4 col4\" >0.1117</td>\n",
       "      <td id=\"T_0c04b_row4_col5\" class=\"data row4 col5\" >0.0870</td>\n",
       "    </tr>\n",
       "    <tr>\n",
       "      <th id=\"T_0c04b_level0_row5\" class=\"row_heading level0 row5\" >Mean</th>\n",
       "      <td id=\"T_0c04b_row5_col0\" class=\"data row5 col0\" >1.8927</td>\n",
       "      <td id=\"T_0c04b_row5_col1\" class=\"data row5 col1\" >6.9431</td>\n",
       "      <td id=\"T_0c04b_row5_col2\" class=\"data row5 col2\" >2.6287</td>\n",
       "      <td id=\"T_0c04b_row5_col3\" class=\"data row5 col3\" >0.8740</td>\n",
       "      <td id=\"T_0c04b_row5_col4\" class=\"data row5 col4\" >0.1247</td>\n",
       "      <td id=\"T_0c04b_row5_col5\" class=\"data row5 col5\" >0.0971</td>\n",
       "    </tr>\n",
       "    <tr>\n",
       "      <th id=\"T_0c04b_level0_row6\" class=\"row_heading level0 row6\" >Std</th>\n",
       "      <td id=\"T_0c04b_row6_col0\" class=\"data row6 col0\" >0.1399</td>\n",
       "      <td id=\"T_0c04b_row6_col1\" class=\"data row6 col1\" >0.9302</td>\n",
       "      <td id=\"T_0c04b_row6_col2\" class=\"data row6 col2\" >0.1817</td>\n",
       "      <td id=\"T_0c04b_row6_col3\" class=\"data row6 col3\" >0.0303</td>\n",
       "      <td id=\"T_0c04b_row6_col4\" class=\"data row6 col4\" >0.0243</td>\n",
       "      <td id=\"T_0c04b_row6_col5\" class=\"data row6 col5\" >0.0214</td>\n",
       "    </tr>\n",
       "  </tbody>\n",
       "</table>\n"
      ],
      "text/plain": [
       "<pandas.io.formats.style.Styler at 0x1675ac8d6a0>"
      ]
     },
     "metadata": {},
     "output_type": "display_data"
    },
    {
     "data": {
      "text/html": [],
      "text/plain": [
       "<IPython.core.display.HTML object>"
      ]
     },
     "metadata": {},
     "output_type": "display_data"
    },
    {
     "data": {
      "text/html": [],
      "text/plain": [
       "<IPython.core.display.HTML object>"
      ]
     },
     "metadata": {},
     "output_type": "display_data"
    },
    {
     "data": {
      "text/html": [
       "<style type=\"text/css\">\n",
       "#T_f1ee8_row5_col0, #T_f1ee8_row5_col1, #T_f1ee8_row5_col2, #T_f1ee8_row5_col3, #T_f1ee8_row5_col4, #T_f1ee8_row5_col5 {\n",
       "  background: yellow;\n",
       "}\n",
       "</style>\n",
       "<table id=\"T_f1ee8\">\n",
       "  <thead>\n",
       "    <tr>\n",
       "      <th class=\"blank level0\" >&nbsp;</th>\n",
       "      <th id=\"T_f1ee8_level0_col0\" class=\"col_heading level0 col0\" >MAE</th>\n",
       "      <th id=\"T_f1ee8_level0_col1\" class=\"col_heading level0 col1\" >MSE</th>\n",
       "      <th id=\"T_f1ee8_level0_col2\" class=\"col_heading level0 col2\" >RMSE</th>\n",
       "      <th id=\"T_f1ee8_level0_col3\" class=\"col_heading level0 col3\" >R2</th>\n",
       "      <th id=\"T_f1ee8_level0_col4\" class=\"col_heading level0 col4\" >RMSLE</th>\n",
       "      <th id=\"T_f1ee8_level0_col5\" class=\"col_heading level0 col5\" >MAPE</th>\n",
       "    </tr>\n",
       "    <tr>\n",
       "      <th class=\"index_name level0\" >Fold</th>\n",
       "      <th class=\"blank col0\" >&nbsp;</th>\n",
       "      <th class=\"blank col1\" >&nbsp;</th>\n",
       "      <th class=\"blank col2\" >&nbsp;</th>\n",
       "      <th class=\"blank col3\" >&nbsp;</th>\n",
       "      <th class=\"blank col4\" >&nbsp;</th>\n",
       "      <th class=\"blank col5\" >&nbsp;</th>\n",
       "    </tr>\n",
       "  </thead>\n",
       "  <tbody>\n",
       "    <tr>\n",
       "      <th id=\"T_f1ee8_level0_row0\" class=\"row_heading level0 row0\" >0</th>\n",
       "      <td id=\"T_f1ee8_row0_col0\" class=\"data row0 col0\" >1.9034</td>\n",
       "      <td id=\"T_f1ee8_row0_col1\" class=\"data row0 col1\" >10.7503</td>\n",
       "      <td id=\"T_f1ee8_row0_col2\" class=\"data row0 col2\" >3.2788</td>\n",
       "      <td id=\"T_f1ee8_row0_col3\" class=\"data row0 col3\" >0.8182</td>\n",
       "      <td id=\"T_f1ee8_row0_col4\" class=\"data row0 col4\" >0.1246</td>\n",
       "      <td id=\"T_f1ee8_row0_col5\" class=\"data row0 col5\" >0.0809</td>\n",
       "    </tr>\n",
       "    <tr>\n",
       "      <th id=\"T_f1ee8_level0_row1\" class=\"row_heading level0 row1\" >1</th>\n",
       "      <td id=\"T_f1ee8_row1_col0\" class=\"data row1 col0\" >2.1755</td>\n",
       "      <td id=\"T_f1ee8_row1_col1\" class=\"data row1 col1\" >7.6955</td>\n",
       "      <td id=\"T_f1ee8_row1_col2\" class=\"data row1 col2\" >2.7741</td>\n",
       "      <td id=\"T_f1ee8_row1_col3\" class=\"data row1 col3\" >0.8802</td>\n",
       "      <td id=\"T_f1ee8_row1_col4\" class=\"data row1 col4\" >0.1734</td>\n",
       "      <td id=\"T_f1ee8_row1_col5\" class=\"data row1 col5\" >0.1457</td>\n",
       "    </tr>\n",
       "    <tr>\n",
       "      <th id=\"T_f1ee8_level0_row2\" class=\"row_heading level0 row2\" >2</th>\n",
       "      <td id=\"T_f1ee8_row2_col0\" class=\"data row2 col0\" >2.0070</td>\n",
       "      <td id=\"T_f1ee8_row2_col1\" class=\"data row2 col1\" >7.2373</td>\n",
       "      <td id=\"T_f1ee8_row2_col2\" class=\"data row2 col2\" >2.6902</td>\n",
       "      <td id=\"T_f1ee8_row2_col3\" class=\"data row2 col3\" >0.8846</td>\n",
       "      <td id=\"T_f1ee8_row2_col4\" class=\"data row2 col4\" >0.1146</td>\n",
       "      <td id=\"T_f1ee8_row2_col5\" class=\"data row2 col5\" >0.0905</td>\n",
       "    </tr>\n",
       "    <tr>\n",
       "      <th id=\"T_f1ee8_level0_row3\" class=\"row_heading level0 row3\" >3</th>\n",
       "      <td id=\"T_f1ee8_row3_col0\" class=\"data row3 col0\" >1.7655</td>\n",
       "      <td id=\"T_f1ee8_row3_col1\" class=\"data row3 col1\" >5.6842</td>\n",
       "      <td id=\"T_f1ee8_row3_col2\" class=\"data row3 col2\" >2.3842</td>\n",
       "      <td id=\"T_f1ee8_row3_col3\" class=\"data row3 col3\" >0.8981</td>\n",
       "      <td id=\"T_f1ee8_row3_col4\" class=\"data row3 col4\" >0.1217</td>\n",
       "      <td id=\"T_f1ee8_row3_col5\" class=\"data row3 col5\" >0.0955</td>\n",
       "    </tr>\n",
       "    <tr>\n",
       "      <th id=\"T_f1ee8_level0_row4\" class=\"row_heading level0 row4\" >4</th>\n",
       "      <td id=\"T_f1ee8_row4_col0\" class=\"data row4 col0\" >1.5962</td>\n",
       "      <td id=\"T_f1ee8_row4_col1\" class=\"data row4 col1\" >5.2891</td>\n",
       "      <td id=\"T_f1ee8_row4_col2\" class=\"data row4 col2\" >2.2998</td>\n",
       "      <td id=\"T_f1ee8_row4_col3\" class=\"data row4 col3\" >0.8726</td>\n",
       "      <td id=\"T_f1ee8_row4_col4\" class=\"data row4 col4\" >0.1028</td>\n",
       "      <td id=\"T_f1ee8_row4_col5\" class=\"data row4 col5\" >0.0796</td>\n",
       "    </tr>\n",
       "    <tr>\n",
       "      <th id=\"T_f1ee8_level0_row5\" class=\"row_heading level0 row5\" >Mean</th>\n",
       "      <td id=\"T_f1ee8_row5_col0\" class=\"data row5 col0\" >1.8895</td>\n",
       "      <td id=\"T_f1ee8_row5_col1\" class=\"data row5 col1\" >7.3313</td>\n",
       "      <td id=\"T_f1ee8_row5_col2\" class=\"data row5 col2\" >2.6854</td>\n",
       "      <td id=\"T_f1ee8_row5_col3\" class=\"data row5 col3\" >0.8707</td>\n",
       "      <td id=\"T_f1ee8_row5_col4\" class=\"data row5 col4\" >0.1274</td>\n",
       "      <td id=\"T_f1ee8_row5_col5\" class=\"data row5 col5\" >0.0985</td>\n",
       "    </tr>\n",
       "    <tr>\n",
       "      <th id=\"T_f1ee8_level0_row6\" class=\"row_heading level0 row6\" >Std</th>\n",
       "      <td id=\"T_f1ee8_row6_col0\" class=\"data row6 col0\" >0.1986</td>\n",
       "      <td id=\"T_f1ee8_row6_col1\" class=\"data row6 col1\" >1.9347</td>\n",
       "      <td id=\"T_f1ee8_row6_col2\" class=\"data row6 col2\" >0.3462</td>\n",
       "      <td id=\"T_f1ee8_row6_col3\" class=\"data row6 col3\" >0.0275</td>\n",
       "      <td id=\"T_f1ee8_row6_col4\" class=\"data row6 col4\" >0.0242</td>\n",
       "      <td id=\"T_f1ee8_row6_col5\" class=\"data row6 col5\" >0.0244</td>\n",
       "    </tr>\n",
       "  </tbody>\n",
       "</table>\n"
      ],
      "text/plain": [
       "<pandas.io.formats.style.Styler at 0x1675ac65400>"
      ]
     },
     "metadata": {},
     "output_type": "display_data"
    },
    {
     "data": {
      "text/html": [],
      "text/plain": [
       "<IPython.core.display.HTML object>"
      ]
     },
     "metadata": {},
     "output_type": "display_data"
    },
    {
     "name": "stdout",
     "output_type": "stream",
     "text": [
      "Fitting 5 folds for each of 10 candidates, totalling 50 fits\n",
      "Original model was better than the tuned model, hence it will be returned. NOTE: The display metrics are for the tuned model (not the original one).\n"
     ]
    }
   ],
   "source": [
    "gbr_model = create_model('gbr')\n",
    "gbr_model = tune_model(gbr_model, optimize=\"R2\")"
   ]
  },
  {
   "cell_type": "code",
   "execution_count": 25,
   "id": "8faf0d28",
   "metadata": {
    "ExecuteTime": {
     "end_time": "2024-06-25T09:37:56.590046Z",
     "start_time": "2024-06-25T09:37:56.493683Z"
    },
    "deletable": false,
    "editable": false,
    "scrolled": true
   },
   "outputs": [
    {
     "name": "stdout",
     "output_type": "stream",
     "text": [
      "test score r2: 0.8271024540591156\n",
      "validation score r2: 0.7940454312678453\n"
     ]
    }
   ],
   "source": [
    "test_score = gbr_model.score(get_config('X_test_transformed'), get_config('y_test_transformed'))\n",
    "validation_score = gbr_model.score(X_test_transformed, y_test_transformed)\n",
    "print(\"test score r2:\", test_score)\n",
    "print(\"validation score r2:\", validation_score)"
   ]
  },
  {
   "cell_type": "markdown",
   "id": "36f3fb0c",
   "metadata": {
    "ExecuteTime": {
     "end_time": "2024-06-25T07:22:20.890964Z",
     "start_time": "2024-06-25T07:22:20.885979Z"
    },
    "deletable": false,
    "editable": false,
    "run_control": {
     "frozen": true
    }
   },
   "source": [
    "#### XGBoost"
   ]
  },
  {
   "cell_type": "code",
   "execution_count": 26,
   "id": "24b22c21",
   "metadata": {
    "ExecuteTime": {
     "end_time": "2024-06-25T09:38:12.506278Z",
     "start_time": "2024-06-25T09:37:59.071640Z"
    },
    "collapsed": true,
    "deletable": false,
    "editable": false
   },
   "outputs": [
    {
     "data": {
      "text/html": [],
      "text/plain": [
       "<IPython.core.display.HTML object>"
      ]
     },
     "metadata": {},
     "output_type": "display_data"
    },
    {
     "data": {
      "text/html": [
       "<style type=\"text/css\">\n",
       "#T_85ee1_row5_col0, #T_85ee1_row5_col1, #T_85ee1_row5_col2, #T_85ee1_row5_col3, #T_85ee1_row5_col4, #T_85ee1_row5_col5 {\n",
       "  background: yellow;\n",
       "}\n",
       "</style>\n",
       "<table id=\"T_85ee1\">\n",
       "  <thead>\n",
       "    <tr>\n",
       "      <th class=\"blank level0\" >&nbsp;</th>\n",
       "      <th id=\"T_85ee1_level0_col0\" class=\"col_heading level0 col0\" >MAE</th>\n",
       "      <th id=\"T_85ee1_level0_col1\" class=\"col_heading level0 col1\" >MSE</th>\n",
       "      <th id=\"T_85ee1_level0_col2\" class=\"col_heading level0 col2\" >RMSE</th>\n",
       "      <th id=\"T_85ee1_level0_col3\" class=\"col_heading level0 col3\" >R2</th>\n",
       "      <th id=\"T_85ee1_level0_col4\" class=\"col_heading level0 col4\" >RMSLE</th>\n",
       "      <th id=\"T_85ee1_level0_col5\" class=\"col_heading level0 col5\" >MAPE</th>\n",
       "    </tr>\n",
       "    <tr>\n",
       "      <th class=\"index_name level0\" >Fold</th>\n",
       "      <th class=\"blank col0\" >&nbsp;</th>\n",
       "      <th class=\"blank col1\" >&nbsp;</th>\n",
       "      <th class=\"blank col2\" >&nbsp;</th>\n",
       "      <th class=\"blank col3\" >&nbsp;</th>\n",
       "      <th class=\"blank col4\" >&nbsp;</th>\n",
       "      <th class=\"blank col5\" >&nbsp;</th>\n",
       "    </tr>\n",
       "  </thead>\n",
       "  <tbody>\n",
       "    <tr>\n",
       "      <th id=\"T_85ee1_level0_row0\" class=\"row_heading level0 row0\" >0</th>\n",
       "      <td id=\"T_85ee1_row0_col0\" class=\"data row0 col0\" >1.9810</td>\n",
       "      <td id=\"T_85ee1_row0_col1\" class=\"data row0 col1\" >8.0197</td>\n",
       "      <td id=\"T_85ee1_row0_col2\" class=\"data row0 col2\" >2.8319</td>\n",
       "      <td id=\"T_85ee1_row0_col3\" class=\"data row0 col3\" >0.8644</td>\n",
       "      <td id=\"T_85ee1_row0_col4\" class=\"data row0 col4\" >0.1233</td>\n",
       "      <td id=\"T_85ee1_row0_col5\" class=\"data row0 col5\" >0.0918</td>\n",
       "    </tr>\n",
       "    <tr>\n",
       "      <th id=\"T_85ee1_level0_row1\" class=\"row_heading level0 row1\" >1</th>\n",
       "      <td id=\"T_85ee1_row1_col0\" class=\"data row1 col0\" >2.8149</td>\n",
       "      <td id=\"T_85ee1_row1_col1\" class=\"data row1 col1\" >13.9915</td>\n",
       "      <td id=\"T_85ee1_row1_col2\" class=\"data row1 col2\" >3.7405</td>\n",
       "      <td id=\"T_85ee1_row1_col3\" class=\"data row1 col3\" >0.7821</td>\n",
       "      <td id=\"T_85ee1_row1_col4\" class=\"data row1 col4\" >0.2110</td>\n",
       "      <td id=\"T_85ee1_row1_col5\" class=\"data row1 col5\" >0.1804</td>\n",
       "    </tr>\n",
       "    <tr>\n",
       "      <th id=\"T_85ee1_level0_row2\" class=\"row_heading level0 row2\" >2</th>\n",
       "      <td id=\"T_85ee1_row2_col0\" class=\"data row2 col0\" >2.4267</td>\n",
       "      <td id=\"T_85ee1_row2_col1\" class=\"data row2 col1\" >9.1917</td>\n",
       "      <td id=\"T_85ee1_row2_col2\" class=\"data row2 col2\" >3.0318</td>\n",
       "      <td id=\"T_85ee1_row2_col3\" class=\"data row2 col3\" >0.8534</td>\n",
       "      <td id=\"T_85ee1_row2_col4\" class=\"data row2 col4\" >0.1355</td>\n",
       "      <td id=\"T_85ee1_row2_col5\" class=\"data row2 col5\" >0.1169</td>\n",
       "    </tr>\n",
       "    <tr>\n",
       "      <th id=\"T_85ee1_level0_row3\" class=\"row_heading level0 row3\" >3</th>\n",
       "      <td id=\"T_85ee1_row3_col0\" class=\"data row3 col0\" >1.9980</td>\n",
       "      <td id=\"T_85ee1_row3_col1\" class=\"data row3 col1\" >6.8500</td>\n",
       "      <td id=\"T_85ee1_row3_col2\" class=\"data row3 col2\" >2.6173</td>\n",
       "      <td id=\"T_85ee1_row3_col3\" class=\"data row3 col3\" >0.8772</td>\n",
       "      <td id=\"T_85ee1_row3_col4\" class=\"data row3 col4\" >0.1216</td>\n",
       "      <td id=\"T_85ee1_row3_col5\" class=\"data row3 col5\" >0.0989</td>\n",
       "    </tr>\n",
       "    <tr>\n",
       "      <th id=\"T_85ee1_level0_row4\" class=\"row_heading level0 row4\" >4</th>\n",
       "      <td id=\"T_85ee1_row4_col0\" class=\"data row4 col0\" >1.8155</td>\n",
       "      <td id=\"T_85ee1_row4_col1\" class=\"data row4 col1\" >7.2962</td>\n",
       "      <td id=\"T_85ee1_row4_col2\" class=\"data row4 col2\" >2.7012</td>\n",
       "      <td id=\"T_85ee1_row4_col3\" class=\"data row4 col3\" >0.8242</td>\n",
       "      <td id=\"T_85ee1_row4_col4\" class=\"data row4 col4\" >0.1146</td>\n",
       "      <td id=\"T_85ee1_row4_col5\" class=\"data row4 col5\" >0.0849</td>\n",
       "    </tr>\n",
       "    <tr>\n",
       "      <th id=\"T_85ee1_level0_row5\" class=\"row_heading level0 row5\" >Mean</th>\n",
       "      <td id=\"T_85ee1_row5_col0\" class=\"data row5 col0\" >2.2072</td>\n",
       "      <td id=\"T_85ee1_row5_col1\" class=\"data row5 col1\" >9.0698</td>\n",
       "      <td id=\"T_85ee1_row5_col2\" class=\"data row5 col2\" >2.9845</td>\n",
       "      <td id=\"T_85ee1_row5_col3\" class=\"data row5 col3\" >0.8403</td>\n",
       "      <td id=\"T_85ee1_row5_col4\" class=\"data row5 col4\" >0.1412</td>\n",
       "      <td id=\"T_85ee1_row5_col5\" class=\"data row5 col5\" >0.1146</td>\n",
       "    </tr>\n",
       "    <tr>\n",
       "      <th id=\"T_85ee1_level0_row6\" class=\"row_heading level0 row6\" >Std</th>\n",
       "      <td id=\"T_85ee1_row6_col0\" class=\"data row6 col0\" >0.3649</td>\n",
       "      <td id=\"T_85ee1_row6_col1\" class=\"data row6 col1\" >2.5851</td>\n",
       "      <td id=\"T_85ee1_row6_col2\" class=\"data row6 col2\" >0.4030</td>\n",
       "      <td id=\"T_85ee1_row6_col3\" class=\"data row6 col3\" >0.0339</td>\n",
       "      <td id=\"T_85ee1_row6_col4\" class=\"data row6 col4\" >0.0356</td>\n",
       "      <td id=\"T_85ee1_row6_col5\" class=\"data row6 col5\" >0.0346</td>\n",
       "    </tr>\n",
       "  </tbody>\n",
       "</table>\n"
      ],
      "text/plain": [
       "<pandas.io.formats.style.Styler at 0x1675ac8d7f0>"
      ]
     },
     "metadata": {},
     "output_type": "display_data"
    },
    {
     "data": {
      "text/html": [],
      "text/plain": [
       "<IPython.core.display.HTML object>"
      ]
     },
     "metadata": {},
     "output_type": "display_data"
    },
    {
     "data": {
      "text/html": [],
      "text/plain": [
       "<IPython.core.display.HTML object>"
      ]
     },
     "metadata": {},
     "output_type": "display_data"
    },
    {
     "data": {
      "text/html": [
       "<style type=\"text/css\">\n",
       "#T_58ec6_row5_col0, #T_58ec6_row5_col1, #T_58ec6_row5_col2, #T_58ec6_row5_col3, #T_58ec6_row5_col4, #T_58ec6_row5_col5 {\n",
       "  background: yellow;\n",
       "}\n",
       "</style>\n",
       "<table id=\"T_58ec6\">\n",
       "  <thead>\n",
       "    <tr>\n",
       "      <th class=\"blank level0\" >&nbsp;</th>\n",
       "      <th id=\"T_58ec6_level0_col0\" class=\"col_heading level0 col0\" >MAE</th>\n",
       "      <th id=\"T_58ec6_level0_col1\" class=\"col_heading level0 col1\" >MSE</th>\n",
       "      <th id=\"T_58ec6_level0_col2\" class=\"col_heading level0 col2\" >RMSE</th>\n",
       "      <th id=\"T_58ec6_level0_col3\" class=\"col_heading level0 col3\" >R2</th>\n",
       "      <th id=\"T_58ec6_level0_col4\" class=\"col_heading level0 col4\" >RMSLE</th>\n",
       "      <th id=\"T_58ec6_level0_col5\" class=\"col_heading level0 col5\" >MAPE</th>\n",
       "    </tr>\n",
       "    <tr>\n",
       "      <th class=\"index_name level0\" >Fold</th>\n",
       "      <th class=\"blank col0\" >&nbsp;</th>\n",
       "      <th class=\"blank col1\" >&nbsp;</th>\n",
       "      <th class=\"blank col2\" >&nbsp;</th>\n",
       "      <th class=\"blank col3\" >&nbsp;</th>\n",
       "      <th class=\"blank col4\" >&nbsp;</th>\n",
       "      <th class=\"blank col5\" >&nbsp;</th>\n",
       "    </tr>\n",
       "  </thead>\n",
       "  <tbody>\n",
       "    <tr>\n",
       "      <th id=\"T_58ec6_level0_row0\" class=\"row_heading level0 row0\" >0</th>\n",
       "      <td id=\"T_58ec6_row0_col0\" class=\"data row0 col0\" >2.0022</td>\n",
       "      <td id=\"T_58ec6_row0_col1\" class=\"data row0 col1\" >8.8593</td>\n",
       "      <td id=\"T_58ec6_row0_col2\" class=\"data row0 col2\" >2.9765</td>\n",
       "      <td id=\"T_58ec6_row0_col3\" class=\"data row0 col3\" >0.8502</td>\n",
       "      <td id=\"T_58ec6_row0_col4\" class=\"data row0 col4\" >0.1206</td>\n",
       "      <td id=\"T_58ec6_row0_col5\" class=\"data row0 col5\" >0.0881</td>\n",
       "    </tr>\n",
       "    <tr>\n",
       "      <th id=\"T_58ec6_level0_row1\" class=\"row_heading level0 row1\" >1</th>\n",
       "      <td id=\"T_58ec6_row1_col0\" class=\"data row1 col0\" >2.2596</td>\n",
       "      <td id=\"T_58ec6_row1_col1\" class=\"data row1 col1\" >8.3685</td>\n",
       "      <td id=\"T_58ec6_row1_col2\" class=\"data row1 col2\" >2.8928</td>\n",
       "      <td id=\"T_58ec6_row1_col3\" class=\"data row1 col3\" >0.8697</td>\n",
       "      <td id=\"T_58ec6_row1_col4\" class=\"data row1 col4\" >0.1856</td>\n",
       "      <td id=\"T_58ec6_row1_col5\" class=\"data row1 col5\" >0.1559</td>\n",
       "    </tr>\n",
       "    <tr>\n",
       "      <th id=\"T_58ec6_level0_row2\" class=\"row_heading level0 row2\" >2</th>\n",
       "      <td id=\"T_58ec6_row2_col0\" class=\"data row2 col0\" >2.3456</td>\n",
       "      <td id=\"T_58ec6_row2_col1\" class=\"data row2 col1\" >9.3289</td>\n",
       "      <td id=\"T_58ec6_row2_col2\" class=\"data row2 col2\" >3.0543</td>\n",
       "      <td id=\"T_58ec6_row2_col3\" class=\"data row2 col3\" >0.8513</td>\n",
       "      <td id=\"T_58ec6_row2_col4\" class=\"data row2 col4\" >0.1277</td>\n",
       "      <td id=\"T_58ec6_row2_col5\" class=\"data row2 col5\" >0.1068</td>\n",
       "    </tr>\n",
       "    <tr>\n",
       "      <th id=\"T_58ec6_level0_row3\" class=\"row_heading level0 row3\" >3</th>\n",
       "      <td id=\"T_58ec6_row3_col0\" class=\"data row3 col0\" >2.2026</td>\n",
       "      <td id=\"T_58ec6_row3_col1\" class=\"data row3 col1\" >8.3765</td>\n",
       "      <td id=\"T_58ec6_row3_col2\" class=\"data row3 col2\" >2.8942</td>\n",
       "      <td id=\"T_58ec6_row3_col3\" class=\"data row3 col3\" >0.8499</td>\n",
       "      <td id=\"T_58ec6_row3_col4\" class=\"data row3 col4\" >0.1487</td>\n",
       "      <td id=\"T_58ec6_row3_col5\" class=\"data row3 col5\" >0.1211</td>\n",
       "    </tr>\n",
       "    <tr>\n",
       "      <th id=\"T_58ec6_level0_row4\" class=\"row_heading level0 row4\" >4</th>\n",
       "      <td id=\"T_58ec6_row4_col0\" class=\"data row4 col0\" >1.8517</td>\n",
       "      <td id=\"T_58ec6_row4_col1\" class=\"data row4 col1\" >6.3796</td>\n",
       "      <td id=\"T_58ec6_row4_col2\" class=\"data row4 col2\" >2.5258</td>\n",
       "      <td id=\"T_58ec6_row4_col3\" class=\"data row4 col3\" >0.8463</td>\n",
       "      <td id=\"T_58ec6_row4_col4\" class=\"data row4 col4\" >0.1230</td>\n",
       "      <td id=\"T_58ec6_row4_col5\" class=\"data row4 col5\" >0.0961</td>\n",
       "    </tr>\n",
       "    <tr>\n",
       "      <th id=\"T_58ec6_level0_row5\" class=\"row_heading level0 row5\" >Mean</th>\n",
       "      <td id=\"T_58ec6_row5_col0\" class=\"data row5 col0\" >2.1324</td>\n",
       "      <td id=\"T_58ec6_row5_col1\" class=\"data row5 col1\" >8.2626</td>\n",
       "      <td id=\"T_58ec6_row5_col2\" class=\"data row5 col2\" >2.8687</td>\n",
       "      <td id=\"T_58ec6_row5_col3\" class=\"data row5 col3\" >0.8535</td>\n",
       "      <td id=\"T_58ec6_row5_col4\" class=\"data row5 col4\" >0.1411</td>\n",
       "      <td id=\"T_58ec6_row5_col5\" class=\"data row5 col5\" >0.1136</td>\n",
       "    </tr>\n",
       "    <tr>\n",
       "      <th id=\"T_58ec6_level0_row6\" class=\"row_heading level0 row6\" >Std</th>\n",
       "      <td id=\"T_58ec6_row6_col0\" class=\"data row6 col0\" >0.1802</td>\n",
       "      <td id=\"T_58ec6_row6_col1\" class=\"data row6 col1\" >1.0063</td>\n",
       "      <td id=\"T_58ec6_row6_col2\" class=\"data row6 col2\" >0.1816</td>\n",
       "      <td id=\"T_58ec6_row6_col3\" class=\"data row6 col3\" >0.0083</td>\n",
       "      <td id=\"T_58ec6_row6_col4\" class=\"data row6 col4\" >0.0243</td>\n",
       "      <td id=\"T_58ec6_row6_col5\" class=\"data row6 col5\" >0.0239</td>\n",
       "    </tr>\n",
       "  </tbody>\n",
       "</table>\n"
      ],
      "text/plain": [
       "<pandas.io.formats.style.Styler at 0x1675af96460>"
      ]
     },
     "metadata": {},
     "output_type": "display_data"
    },
    {
     "data": {
      "text/html": [],
      "text/plain": [
       "<IPython.core.display.HTML object>"
      ]
     },
     "metadata": {},
     "output_type": "display_data"
    },
    {
     "name": "stdout",
     "output_type": "stream",
     "text": [
      "Fitting 5 folds for each of 10 candidates, totalling 50 fits\n"
     ]
    }
   ],
   "source": [
    "xgb_model = create_model('xgboost')\n",
    "xgb_model = tune_model(xgb_model, optimize=\"R2\")"
   ]
  },
  {
   "cell_type": "code",
   "execution_count": 27,
   "id": "19c6bf2f",
   "metadata": {
    "ExecuteTime": {
     "end_time": "2024-06-25T09:38:24.875623Z",
     "start_time": "2024-06-25T09:38:24.776151Z"
    },
    "deletable": false,
    "editable": false
   },
   "outputs": [
    {
     "name": "stdout",
     "output_type": "stream",
     "text": [
      "test score r2: 0.782863421018545\n",
      "validation score r2: 0.8184502079149905\n"
     ]
    }
   ],
   "source": [
    "test_score = xgb_model.score(get_config('X_test_transformed'), get_config('y_test_transformed'))\n",
    "validation_score = xgb_model.score(X_test_transformed, y_test_transformed)\n",
    "print(\"test score r2:\", test_score)\n",
    "print(\"validation score r2:\", validation_score)"
   ]
  },
  {
   "cell_type": "markdown",
   "id": "f43e03d0",
   "metadata": {
    "ExecuteTime": {
     "end_time": "2024-06-25T07:22:29.027418Z",
     "start_time": "2024-06-25T07:22:29.013058Z"
    },
    "deletable": false,
    "editable": false,
    "run_control": {
     "frozen": true
    }
   },
   "source": [
    "#### Catboost"
   ]
  },
  {
   "cell_type": "code",
   "execution_count": 28,
   "id": "a17b2e7f",
   "metadata": {
    "ExecuteTime": {
     "end_time": "2024-06-25T09:39:21.806979Z",
     "start_time": "2024-06-25T09:38:28.265213Z"
    },
    "deletable": false,
    "editable": false
   },
   "outputs": [
    {
     "data": {
      "text/html": [],
      "text/plain": [
       "<IPython.core.display.HTML object>"
      ]
     },
     "metadata": {},
     "output_type": "display_data"
    },
    {
     "data": {
      "text/html": [
       "<style type=\"text/css\">\n",
       "#T_0e98f_row5_col0, #T_0e98f_row5_col1, #T_0e98f_row5_col2, #T_0e98f_row5_col3, #T_0e98f_row5_col4, #T_0e98f_row5_col5 {\n",
       "  background: yellow;\n",
       "}\n",
       "</style>\n",
       "<table id=\"T_0e98f\">\n",
       "  <thead>\n",
       "    <tr>\n",
       "      <th class=\"blank level0\" >&nbsp;</th>\n",
       "      <th id=\"T_0e98f_level0_col0\" class=\"col_heading level0 col0\" >MAE</th>\n",
       "      <th id=\"T_0e98f_level0_col1\" class=\"col_heading level0 col1\" >MSE</th>\n",
       "      <th id=\"T_0e98f_level0_col2\" class=\"col_heading level0 col2\" >RMSE</th>\n",
       "      <th id=\"T_0e98f_level0_col3\" class=\"col_heading level0 col3\" >R2</th>\n",
       "      <th id=\"T_0e98f_level0_col4\" class=\"col_heading level0 col4\" >RMSLE</th>\n",
       "      <th id=\"T_0e98f_level0_col5\" class=\"col_heading level0 col5\" >MAPE</th>\n",
       "    </tr>\n",
       "    <tr>\n",
       "      <th class=\"index_name level0\" >Fold</th>\n",
       "      <th class=\"blank col0\" >&nbsp;</th>\n",
       "      <th class=\"blank col1\" >&nbsp;</th>\n",
       "      <th class=\"blank col2\" >&nbsp;</th>\n",
       "      <th class=\"blank col3\" >&nbsp;</th>\n",
       "      <th class=\"blank col4\" >&nbsp;</th>\n",
       "      <th class=\"blank col5\" >&nbsp;</th>\n",
       "    </tr>\n",
       "  </thead>\n",
       "  <tbody>\n",
       "    <tr>\n",
       "      <th id=\"T_0e98f_level0_row0\" class=\"row_heading level0 row0\" >0</th>\n",
       "      <td id=\"T_0e98f_row0_col0\" class=\"data row0 col0\" >1.9538</td>\n",
       "      <td id=\"T_0e98f_row0_col1\" class=\"data row0 col1\" >9.6064</td>\n",
       "      <td id=\"T_0e98f_row0_col2\" class=\"data row0 col2\" >3.0994</td>\n",
       "      <td id=\"T_0e98f_row0_col3\" class=\"data row0 col3\" >0.8376</td>\n",
       "      <td id=\"T_0e98f_row0_col4\" class=\"data row0 col4\" >0.1211</td>\n",
       "      <td id=\"T_0e98f_row0_col5\" class=\"data row0 col5\" >0.0849</td>\n",
       "    </tr>\n",
       "    <tr>\n",
       "      <th id=\"T_0e98f_level0_row1\" class=\"row_heading level0 row1\" >1</th>\n",
       "      <td id=\"T_0e98f_row1_col0\" class=\"data row1 col0\" >2.3523</td>\n",
       "      <td id=\"T_0e98f_row1_col1\" class=\"data row1 col1\" >8.6878</td>\n",
       "      <td id=\"T_0e98f_row1_col2\" class=\"data row1 col2\" >2.9475</td>\n",
       "      <td id=\"T_0e98f_row1_col3\" class=\"data row1 col3\" >0.8647</td>\n",
       "      <td id=\"T_0e98f_row1_col4\" class=\"data row1 col4\" >0.1854</td>\n",
       "      <td id=\"T_0e98f_row1_col5\" class=\"data row1 col5\" >0.1578</td>\n",
       "    </tr>\n",
       "    <tr>\n",
       "      <th id=\"T_0e98f_level0_row2\" class=\"row_heading level0 row2\" >2</th>\n",
       "      <td id=\"T_0e98f_row2_col0\" class=\"data row2 col0\" >2.0775</td>\n",
       "      <td id=\"T_0e98f_row2_col1\" class=\"data row2 col1\" >7.5772</td>\n",
       "      <td id=\"T_0e98f_row2_col2\" class=\"data row2 col2\" >2.7527</td>\n",
       "      <td id=\"T_0e98f_row2_col3\" class=\"data row2 col3\" >0.8792</td>\n",
       "      <td id=\"T_0e98f_row2_col4\" class=\"data row2 col4\" >0.1256</td>\n",
       "      <td id=\"T_0e98f_row2_col5\" class=\"data row2 col5\" >0.0987</td>\n",
       "    </tr>\n",
       "    <tr>\n",
       "      <th id=\"T_0e98f_level0_row3\" class=\"row_heading level0 row3\" >3</th>\n",
       "      <td id=\"T_0e98f_row3_col0\" class=\"data row3 col0\" >1.9103</td>\n",
       "      <td id=\"T_0e98f_row3_col1\" class=\"data row3 col1\" >6.4998</td>\n",
       "      <td id=\"T_0e98f_row3_col2\" class=\"data row3 col2\" >2.5495</td>\n",
       "      <td id=\"T_0e98f_row3_col3\" class=\"data row3 col3\" >0.8835</td>\n",
       "      <td id=\"T_0e98f_row3_col4\" class=\"data row3 col4\" >0.1286</td>\n",
       "      <td id=\"T_0e98f_row3_col5\" class=\"data row3 col5\" >0.1003</td>\n",
       "    </tr>\n",
       "    <tr>\n",
       "      <th id=\"T_0e98f_level0_row4\" class=\"row_heading level0 row4\" >4</th>\n",
       "      <td id=\"T_0e98f_row4_col0\" class=\"data row4 col0\" >1.6464</td>\n",
       "      <td id=\"T_0e98f_row4_col1\" class=\"data row4 col1\" >6.1076</td>\n",
       "      <td id=\"T_0e98f_row4_col2\" class=\"data row4 col2\" >2.4714</td>\n",
       "      <td id=\"T_0e98f_row4_col3\" class=\"data row4 col3\" >0.8529</td>\n",
       "      <td id=\"T_0e98f_row4_col4\" class=\"data row4 col4\" >0.1136</td>\n",
       "      <td id=\"T_0e98f_row4_col5\" class=\"data row4 col5\" >0.0836</td>\n",
       "    </tr>\n",
       "    <tr>\n",
       "      <th id=\"T_0e98f_level0_row5\" class=\"row_heading level0 row5\" >Mean</th>\n",
       "      <td id=\"T_0e98f_row5_col0\" class=\"data row5 col0\" >1.9880</td>\n",
       "      <td id=\"T_0e98f_row5_col1\" class=\"data row5 col1\" >7.6957</td>\n",
       "      <td id=\"T_0e98f_row5_col2\" class=\"data row5 col2\" >2.7641</td>\n",
       "      <td id=\"T_0e98f_row5_col3\" class=\"data row5 col3\" >0.8636</td>\n",
       "      <td id=\"T_0e98f_row5_col4\" class=\"data row5 col4\" >0.1349</td>\n",
       "      <td id=\"T_0e98f_row5_col5\" class=\"data row5 col5\" >0.1051</td>\n",
       "    </tr>\n",
       "    <tr>\n",
       "      <th id=\"T_0e98f_level0_row6\" class=\"row_heading level0 row6\" >Std</th>\n",
       "      <td id=\"T_0e98f_row6_col0\" class=\"data row6 col0\" >0.2300</td>\n",
       "      <td id=\"T_0e98f_row6_col1\" class=\"data row6 col1\" >1.3116</td>\n",
       "      <td id=\"T_0e98f_row6_col2\" class=\"data row6 col2\" >0.2358</td>\n",
       "      <td id=\"T_0e98f_row6_col3\" class=\"data row6 col3\" >0.0169</td>\n",
       "      <td id=\"T_0e98f_row6_col4\" class=\"data row6 col4\" >0.0258</td>\n",
       "      <td id=\"T_0e98f_row6_col5\" class=\"data row6 col5\" >0.0272</td>\n",
       "    </tr>\n",
       "  </tbody>\n",
       "</table>\n"
      ],
      "text/plain": [
       "<pandas.io.formats.style.Styler at 0x1675a690790>"
      ]
     },
     "metadata": {},
     "output_type": "display_data"
    },
    {
     "data": {
      "text/html": [],
      "text/plain": [
       "<IPython.core.display.HTML object>"
      ]
     },
     "metadata": {},
     "output_type": "display_data"
    },
    {
     "data": {
      "text/html": [],
      "text/plain": [
       "<IPython.core.display.HTML object>"
      ]
     },
     "metadata": {},
     "output_type": "display_data"
    },
    {
     "data": {
      "text/html": [
       "<style type=\"text/css\">\n",
       "#T_5114b_row5_col0, #T_5114b_row5_col1, #T_5114b_row5_col2, #T_5114b_row5_col3, #T_5114b_row5_col4, #T_5114b_row5_col5 {\n",
       "  background: yellow;\n",
       "}\n",
       "</style>\n",
       "<table id=\"T_5114b\">\n",
       "  <thead>\n",
       "    <tr>\n",
       "      <th class=\"blank level0\" >&nbsp;</th>\n",
       "      <th id=\"T_5114b_level0_col0\" class=\"col_heading level0 col0\" >MAE</th>\n",
       "      <th id=\"T_5114b_level0_col1\" class=\"col_heading level0 col1\" >MSE</th>\n",
       "      <th id=\"T_5114b_level0_col2\" class=\"col_heading level0 col2\" >RMSE</th>\n",
       "      <th id=\"T_5114b_level0_col3\" class=\"col_heading level0 col3\" >R2</th>\n",
       "      <th id=\"T_5114b_level0_col4\" class=\"col_heading level0 col4\" >RMSLE</th>\n",
       "      <th id=\"T_5114b_level0_col5\" class=\"col_heading level0 col5\" >MAPE</th>\n",
       "    </tr>\n",
       "    <tr>\n",
       "      <th class=\"index_name level0\" >Fold</th>\n",
       "      <th class=\"blank col0\" >&nbsp;</th>\n",
       "      <th class=\"blank col1\" >&nbsp;</th>\n",
       "      <th class=\"blank col2\" >&nbsp;</th>\n",
       "      <th class=\"blank col3\" >&nbsp;</th>\n",
       "      <th class=\"blank col4\" >&nbsp;</th>\n",
       "      <th class=\"blank col5\" >&nbsp;</th>\n",
       "    </tr>\n",
       "  </thead>\n",
       "  <tbody>\n",
       "    <tr>\n",
       "      <th id=\"T_5114b_level0_row0\" class=\"row_heading level0 row0\" >0</th>\n",
       "      <td id=\"T_5114b_row0_col0\" class=\"data row0 col0\" >2.1853</td>\n",
       "      <td id=\"T_5114b_row0_col1\" class=\"data row0 col1\" >9.5254</td>\n",
       "      <td id=\"T_5114b_row0_col2\" class=\"data row0 col2\" >3.0863</td>\n",
       "      <td id=\"T_5114b_row0_col3\" class=\"data row0 col3\" >0.8389</td>\n",
       "      <td id=\"T_5114b_row0_col4\" class=\"data row0 col4\" >0.1412</td>\n",
       "      <td id=\"T_5114b_row0_col5\" class=\"data row0 col5\" >0.0973</td>\n",
       "    </tr>\n",
       "    <tr>\n",
       "      <th id=\"T_5114b_level0_row1\" class=\"row_heading level0 row1\" >1</th>\n",
       "      <td id=\"T_5114b_row1_col0\" class=\"data row1 col0\" >2.2080</td>\n",
       "      <td id=\"T_5114b_row1_col1\" class=\"data row1 col1\" >7.8028</td>\n",
       "      <td id=\"T_5114b_row1_col2\" class=\"data row1 col2\" >2.7933</td>\n",
       "      <td id=\"T_5114b_row1_col3\" class=\"data row1 col3\" >0.8785</td>\n",
       "      <td id=\"T_5114b_row1_col4\" class=\"data row1 col4\" >0.1750</td>\n",
       "      <td id=\"T_5114b_row1_col5\" class=\"data row1 col5\" >0.1486</td>\n",
       "    </tr>\n",
       "    <tr>\n",
       "      <th id=\"T_5114b_level0_row2\" class=\"row_heading level0 row2\" >2</th>\n",
       "      <td id=\"T_5114b_row2_col0\" class=\"data row2 col0\" >2.4153</td>\n",
       "      <td id=\"T_5114b_row2_col1\" class=\"data row2 col1\" >10.1643</td>\n",
       "      <td id=\"T_5114b_row2_col2\" class=\"data row2 col2\" >3.1882</td>\n",
       "      <td id=\"T_5114b_row2_col3\" class=\"data row2 col3\" >0.8379</td>\n",
       "      <td id=\"T_5114b_row2_col4\" class=\"data row2 col4\" >0.1551</td>\n",
       "      <td id=\"T_5114b_row2_col5\" class=\"data row2 col5\" >0.1209</td>\n",
       "    </tr>\n",
       "    <tr>\n",
       "      <th id=\"T_5114b_level0_row3\" class=\"row_heading level0 row3\" >3</th>\n",
       "      <td id=\"T_5114b_row3_col0\" class=\"data row3 col0\" >2.2003</td>\n",
       "      <td id=\"T_5114b_row3_col1\" class=\"data row3 col1\" >7.4692</td>\n",
       "      <td id=\"T_5114b_row3_col2\" class=\"data row3 col2\" >2.7330</td>\n",
       "      <td id=\"T_5114b_row3_col3\" class=\"data row3 col3\" >0.8661</td>\n",
       "      <td id=\"T_5114b_row3_col4\" class=\"data row3 col4\" >0.1343</td>\n",
       "      <td id=\"T_5114b_row3_col5\" class=\"data row3 col5\" >0.1147</td>\n",
       "    </tr>\n",
       "    <tr>\n",
       "      <th id=\"T_5114b_level0_row4\" class=\"row_heading level0 row4\" >4</th>\n",
       "      <td id=\"T_5114b_row4_col0\" class=\"data row4 col0\" >2.2646</td>\n",
       "      <td id=\"T_5114b_row4_col1\" class=\"data row4 col1\" >8.3362</td>\n",
       "      <td id=\"T_5114b_row4_col2\" class=\"data row4 col2\" >2.8872</td>\n",
       "      <td id=\"T_5114b_row4_col3\" class=\"data row4 col3\" >0.7992</td>\n",
       "      <td id=\"T_5114b_row4_col4\" class=\"data row4 col4\" >0.1327</td>\n",
       "      <td id=\"T_5114b_row4_col5\" class=\"data row4 col5\" >0.1115</td>\n",
       "    </tr>\n",
       "    <tr>\n",
       "      <th id=\"T_5114b_level0_row5\" class=\"row_heading level0 row5\" >Mean</th>\n",
       "      <td id=\"T_5114b_row5_col0\" class=\"data row5 col0\" >2.2547</td>\n",
       "      <td id=\"T_5114b_row5_col1\" class=\"data row5 col1\" >8.6596</td>\n",
       "      <td id=\"T_5114b_row5_col2\" class=\"data row5 col2\" >2.9376</td>\n",
       "      <td id=\"T_5114b_row5_col3\" class=\"data row5 col3\" >0.8441</td>\n",
       "      <td id=\"T_5114b_row5_col4\" class=\"data row5 col4\" >0.1476</td>\n",
       "      <td id=\"T_5114b_row5_col5\" class=\"data row5 col5\" >0.1186</td>\n",
       "    </tr>\n",
       "    <tr>\n",
       "      <th id=\"T_5114b_level0_row6\" class=\"row_heading level0 row6\" >Std</th>\n",
       "      <td id=\"T_5114b_row6_col0\" class=\"data row6 col0\" >0.0847</td>\n",
       "      <td id=\"T_5114b_row6_col1\" class=\"data row6 col1\" >1.0266</td>\n",
       "      <td id=\"T_5114b_row6_col2\" class=\"data row6 col2\" >0.1733</td>\n",
       "      <td id=\"T_5114b_row6_col3\" class=\"data row6 col3\" >0.0274</td>\n",
       "      <td id=\"T_5114b_row6_col4\" class=\"data row6 col4\" >0.0158</td>\n",
       "      <td id=\"T_5114b_row6_col5\" class=\"data row6 col5\" >0.0169</td>\n",
       "    </tr>\n",
       "  </tbody>\n",
       "</table>\n"
      ],
      "text/plain": [
       "<pandas.io.formats.style.Styler at 0x1675a44d400>"
      ]
     },
     "metadata": {},
     "output_type": "display_data"
    },
    {
     "data": {
      "text/html": [],
      "text/plain": [
       "<IPython.core.display.HTML object>"
      ]
     },
     "metadata": {},
     "output_type": "display_data"
    },
    {
     "name": "stdout",
     "output_type": "stream",
     "text": [
      "Fitting 5 folds for each of 10 candidates, totalling 50 fits\n",
      "Original model was better than the tuned model, hence it will be returned. NOTE: The display metrics are for the tuned model (not the original one).\n"
     ]
    }
   ],
   "source": [
    "catboost_model = create_model('catboost')\n",
    "catboost_model = tune_model(catboost_model, optimize=\"R2\")"
   ]
  },
  {
   "cell_type": "code",
   "execution_count": 71,
   "id": "f108f8ee",
   "metadata": {
    "ExecuteTime": {
     "end_time": "2024-06-25T09:55:15.569629Z",
     "start_time": "2024-06-25T09:55:15.484268Z"
    },
    "deletable": false,
    "editable": false
   },
   "outputs": [
    {
     "name": "stdout",
     "output_type": "stream",
     "text": [
      "data-test r2: 0.8491550291630193\n",
      "data-unseen r2: 0.8288589952599161\n"
     ]
    }
   ],
   "source": [
    "test_score = catboost_model.score(get_config('X_test_transformed'), get_config('y_test_transformed'))\n",
    "validation_score = catboost_model.score(X_test_transformed, y_test_transformed)\n",
    "print(\"data-test r2:\", test_score)\n",
    "print(\"data-unseen r2:\", validation_score)"
   ]
  },
  {
   "cell_type": "code",
   "execution_count": 61,
   "id": "fe2bc9b3",
   "metadata": {
    "ExecuteTime": {
     "end_time": "2024-06-25T09:50:27.659265Z",
     "start_time": "2024-06-25T09:50:27.590772Z"
    },
    "deletable": false,
    "editable": false
   },
   "outputs": [],
   "source": [
    "y_pred_test = catboost_model.predict(get_config('X_test_transformed'))\n",
    "y_pred_unseen = catboost_model.predict(X_test_transformed)"
   ]
  },
  {
   "cell_type": "code",
   "execution_count": 70,
   "id": "ed3f8c46",
   "metadata": {
    "ExecuteTime": {
     "end_time": "2024-06-25T09:55:02.980342Z",
     "start_time": "2024-06-25T09:55:02.930842Z"
    },
    "deletable": false,
    "editable": false
   },
   "outputs": [
    {
     "name": "stdout",
     "output_type": "stream",
     "text": [
      "data-test mean absolute error: 2.12846779049372\n",
      "data-unseen mean absolute error: 1.9143312380010808\n"
     ]
    }
   ],
   "source": [
    "mae_test = mean_absolute_error(get_config('y_test_transformed'), y_pred_test)\n",
    "mae_unseen = mean_absolute_error(y_test_transformed, y_pred_unseen)\n",
    "print(\"data-test mean absolute error:\", mae_test)\n",
    "print(\"data-unseen mean absolute error:\", mae_unseen)"
   ]
  },
  {
   "cell_type": "markdown",
   "id": "c4fe524a",
   "metadata": {
    "ExecuteTime": {
     "end_time": "2024-06-25T06:54:15.072479Z",
     "start_time": "2024-06-25T06:54:15.064923Z"
    },
    "deletable": false,
    "editable": false,
    "run_control": {
     "frozen": true
    }
   },
   "source": [
    "### Catboost Model Evaluation (The best model)"
   ]
  },
  {
   "cell_type": "code",
   "execution_count": 30,
   "id": "5ec54a9c",
   "metadata": {
    "ExecuteTime": {
     "end_time": "2024-06-25T09:40:30.514676Z",
     "start_time": "2024-06-25T09:40:30.342650Z"
    },
    "deletable": false,
    "editable": false,
    "scrolled": false
   },
   "outputs": [
    {
     "data": {
      "text/html": [
       "<style type=\"text/css\">\n",
       "</style>\n",
       "<table id=\"T_8aaa9\">\n",
       "  <thead>\n",
       "    <tr>\n",
       "      <th class=\"blank level0\" >&nbsp;</th>\n",
       "      <th id=\"T_8aaa9_level0_col0\" class=\"col_heading level0 col0\" >Model</th>\n",
       "      <th id=\"T_8aaa9_level0_col1\" class=\"col_heading level0 col1\" >MAE</th>\n",
       "      <th id=\"T_8aaa9_level0_col2\" class=\"col_heading level0 col2\" >MSE</th>\n",
       "      <th id=\"T_8aaa9_level0_col3\" class=\"col_heading level0 col3\" >RMSE</th>\n",
       "      <th id=\"T_8aaa9_level0_col4\" class=\"col_heading level0 col4\" >R2</th>\n",
       "      <th id=\"T_8aaa9_level0_col5\" class=\"col_heading level0 col5\" >RMSLE</th>\n",
       "      <th id=\"T_8aaa9_level0_col6\" class=\"col_heading level0 col6\" >MAPE</th>\n",
       "    </tr>\n",
       "  </thead>\n",
       "  <tbody>\n",
       "    <tr>\n",
       "      <th id=\"T_8aaa9_level0_row0\" class=\"row_heading level0 row0\" >0</th>\n",
       "      <td id=\"T_8aaa9_row0_col0\" class=\"data row0 col0\" >CatBoost Regressor</td>\n",
       "      <td id=\"T_8aaa9_row0_col1\" class=\"data row0 col1\" >2.1285</td>\n",
       "      <td id=\"T_8aaa9_row0_col2\" class=\"data row0 col2\" >9.2472</td>\n",
       "      <td id=\"T_8aaa9_row0_col3\" class=\"data row0 col3\" >3.0409</td>\n",
       "      <td id=\"T_8aaa9_row0_col4\" class=\"data row0 col4\" >0.8492</td>\n",
       "      <td id=\"T_8aaa9_row0_col5\" class=\"data row0 col5\" >0.1598</td>\n",
       "      <td id=\"T_8aaa9_row0_col6\" class=\"data row0 col6\" >0.1178</td>\n",
       "    </tr>\n",
       "  </tbody>\n",
       "</table>\n"
      ],
      "text/plain": [
       "<pandas.io.formats.style.Styler at 0x1675ac6b4f0>"
      ]
     },
     "metadata": {},
     "output_type": "display_data"
    }
   ],
   "source": [
    "predictions = predict_model(catboost_model)"
   ]
  },
  {
   "cell_type": "code",
   "execution_count": 46,
   "id": "6aae7f54",
   "metadata": {
    "ExecuteTime": {
     "end_time": "2024-06-25T09:45:22.689633Z",
     "start_time": "2024-06-25T09:45:22.607934Z"
    },
    "deletable": false,
    "editable": false
   },
   "outputs": [],
   "source": [
    "fig_error = error_scatter(predictions['MEDV'], predictions['prediction_label'])"
   ]
  },
  {
   "cell_type": "code",
   "execution_count": 56,
   "id": "f634a789",
   "metadata": {
    "ExecuteTime": {
     "end_time": "2024-06-25T09:47:04.383880Z",
     "start_time": "2024-06-25T09:47:04.368281Z"
    },
    "deletable": false,
    "editable": false
   },
   "outputs": [
    {
     "data": {
      "application/vnd.plotly.v1+json": {
       "config": {
        "plotlyServerURL": "https://plot.ly"
       },
       "data": [
        {
         "hovertemplate": "y_true=%{x}<br>y_pred=%{y}<extra></extra>",
         "legendgroup": "",
         "marker": {
          "color": "#636efa",
          "symbol": "circle"
         },
         "mode": "markers",
         "name": "Actual vs Predict",
         "showlegend": true,
         "type": "scattergl",
         "x": [
          32.9,
          5.6,
          21.4,
          23.3,
          34.9,
          21.6,
          14.6,
          31.7,
          22.7,
          19.6,
          28.7,
          20.4,
          21.1,
          16.8,
          20.5,
          22.8,
          24.4,
          18.8,
          36.9625,
          21.2,
          15,
          28.6,
          33,
          26.7,
          36.9625,
          31,
          28,
          29.6,
          29.4,
          20,
          28.1,
          18.7,
          19.8,
          16.1,
          23,
          23.8,
          23.2,
          13.9,
          15,
          24.6,
          26.6,
          12.3,
          19.1,
          24.8,
          11.9,
          23.1,
          36.9625,
          25,
          19.4,
          14.8,
          19.4,
          18.1,
          12.8,
          23.2,
          7.2,
          33.8,
          23.1,
          18.9,
          36.9625,
          27.9,
          32.2,
          16.7,
          19,
          20.5,
          16.7,
          22.9,
          23.7,
          29.9,
          10.2,
          23.1,
          17.4,
          13.4,
          36.2,
          19,
          21.7,
          17.8,
          36.9625,
          11.9,
          16.6,
          21.7,
          36.9625,
          5.0625,
          8.3,
          15.6,
          22.3,
          34.9,
          13.8,
          36,
          14.6,
          7.2,
          14.1,
          21.4,
          16.3,
          11,
          36.5,
          17.1,
          27.1,
          17.4,
          18.5,
          13.3,
          20.6,
          32,
          25,
          11.3,
          25.1,
          19.5,
          16.2
         ],
         "xaxis": "x",
         "y": [
          32.83928148589884,
          9.413475567233824,
          19.460486485181903,
          26.07941148141353,
          31.60841780821974,
          20.24808216467691,
          16.87246494376755,
          34.04424052640593,
          22.172064321541235,
          19.691363841251118,
          28.753939778307334,
          20.595152701232,
          21.153618848321194,
          20.099515300122544,
          20.111235698768418,
          29.283903199798026,
          22.62311471689154,
          18.731583447239014,
          24.368630037240525,
          21.826317438255373,
          15.5711681351358,
          27.3288041344085,
          30.018524900029,
          28.96560812486083,
          36.25490224866059,
          30.75791459741648,
          26.957227173198138,
          31.603382303915495,
          27.41967838291341,
          22.100798125435034,
          24.138274056074966,
          18.611112381194225,
          21.207626595603465,
          22.77804360608784,
          21.555368504069477,
          23.132529254461524,
          20.245357178713384,
          13.984545675507281,
          17.857674936201377,
          23.600108145298382,
          26.06447245148585,
          10.28286642762896,
          19.714086303686553,
          27.693176226121423,
          19.981966743563675,
          18.02371630654565,
          35.79223148556394,
          22.562430689729897,
          18.872853212316,
          16.113306135528056,
          17.97153702498296,
          17.17592891999502,
          10.622334668145445,
          22.91395204017642,
          9.036767460959506,
          33.33587476818543,
          21.795995944666007,
          21.938160483292236,
          29.258225070162716,
          20.17298716656135,
          29.860680605050845,
          15.141416833082232,
          20.04010119883436,
          22.075984881681137,
          16.748649298747992,
          21.31045832377793,
          17.57944342848876,
          28.90778183055961,
          12.171166667905142,
          21.886491845854987,
          20.667825744132717,
          12.42357022814635,
          34.148024234355844,
          13.799425730857589,
          22.13798449310492,
          15.568350014701284,
          37.83677405706185,
          12.713841667234151,
          17.57900307474608,
          21.461996508505162,
          34.98579864557567,
          10.169361953936923,
          7.6487827823491426,
          15.664130860935183,
          23.15533905574031,
          34.426134042220895,
          15.717599916934256,
          32.50442942458279,
          16.043273325494408,
          10.978493322340402,
          14.761606747825605,
          23.378237079717458,
          9.232818745351482,
          10.251426496039564,
          33.3228245068933,
          20.414312377045118,
          18.56990170764695,
          16.778667464114566,
          21.65317899040241,
          12.849737451086913,
          19.873925471019938,
          32.17765058079207,
          27.237184260328277,
          10.341427688588132,
          26.36277658846712,
          17.88153600470887,
          20.097503585345418
         ],
         "yaxis": "y"
        },
        {
         "hovertemplate": "<b>OLS trendline</b><br>y = 0.830222 * x + 3.43479<br>R<sup>2</sup>=0.850988<br><br>x=%{x}<br>y=%{y} <b>(trend)</b><extra></extra>",
         "legendgroup": "",
         "line": {
          "color": "blue"
         },
         "marker": {
          "color": "#636efa",
          "symbol": "circle"
         },
         "mode": "lines",
         "name": "OLS",
         "showlegend": true,
         "type": "scattergl",
         "x": [
          5.0625,
          5.6,
          7.2,
          7.2,
          8.3,
          10.2,
          11,
          11.3,
          11.9,
          11.9,
          12.3,
          12.8,
          13.3,
          13.4,
          13.8,
          13.9,
          14.1,
          14.6,
          14.6,
          14.8,
          15,
          15,
          15.6,
          16.1,
          16.2,
          16.3,
          16.6,
          16.7,
          16.7,
          16.8,
          17.1,
          17.4,
          17.4,
          17.8,
          18.1,
          18.5,
          18.7,
          18.8,
          18.9,
          19,
          19,
          19.1,
          19.4,
          19.4,
          19.5,
          19.6,
          19.8,
          20,
          20.4,
          20.5,
          20.5,
          20.6,
          21.1,
          21.2,
          21.4,
          21.4,
          21.6,
          21.7,
          21.7,
          22.3,
          22.7,
          22.8,
          22.9,
          23,
          23.1,
          23.1,
          23.1,
          23.2,
          23.2,
          23.3,
          23.7,
          23.8,
          24.4,
          24.6,
          24.8,
          25,
          25,
          25.1,
          26.6,
          26.7,
          27.1,
          27.9,
          28,
          28.1,
          28.6,
          28.7,
          29.4,
          29.6,
          29.9,
          31,
          31.7,
          32,
          32.2,
          32.9,
          33,
          33.8,
          34.9,
          34.9,
          36,
          36.2,
          36.5,
          36.9625,
          36.9625,
          36.9625,
          36.9625,
          36.9625,
          36.9625
         ],
         "xaxis": "x",
         "y": [
          7.637782910987415,
          8.084026962570109,
          9.412381505187636,
          9.412381505187636,
          10.325625624375181,
          11.903046421050698,
          12.567223890299726,
          12.816290540238242,
          13.314423048354222,
          13.314423048354222,
          13.646512178859263,
          14.061622998169772,
          14.476733817480284,
          14.559755506285754,
          14.891844636790793,
          14.974866325596263,
          15.14091128672931,
          15.556022106039821,
          15.556022106039821,
          15.722066275411814,
          15.888110444783807,
          15.888110444783807,
          16.38624374466084,
          16.80135456397135,
          16.884377044537874,
          16.96739794158229,
          17.216465383281864,
          17.299487863848384,
          17.299487863848384,
          17.3825087608928,
          17.63157620259237,
          17.880642060769837,
          17.880642060769837,
          18.212730399513823,
          18.461797841213393,
          18.79388617995738,
          18.95993114109043,
          19.042952038134842,
          19.125974518701366,
          19.20899699926789,
          19.20899699926789,
          19.292019479834416,
          19.541085338011875,
          19.541085338011875,
          19.624107818578402,
          19.707130299144925,
          19.873173676755865,
          20.03921863788891,
          20.371306976632898,
          20.45432945719942,
          20.45432945719942,
          20.537351937765944,
          20.952462757076454,
          21.035485237642977,
          21.201528615253917,
          21.201528615253917,
          21.367573576386967,
          21.45059605695349,
          21.45059605695349,
          21.948727773308416,
          22.28081769557451,
          22.363838592618926,
          22.44686107318545,
          22.529883553751972,
          22.612906034318495,
          22.612906034318495,
          22.612906034318495,
          22.69592851488502,
          22.69592851488502,
          22.778949411929435,
          23.111039334195528,
          23.194060231239945,
          23.69219353111698,
          23.858238492250027,
          24.024281869860967,
          24.190326830994014,
          24.190326830994014,
          24.273349311560537,
          25.51868176949207,
          25.601704250058592,
          25.93379258880258,
          26.59796926629055,
          26.680991746857075,
          26.764014227423598,
          27.17912504673411,
          27.262147527300634,
          27.843301724222083,
          28.00934668535513,
          28.258412543532593,
          29.17165666272014,
          29.752812443163695,
          30.001878301341158,
          30.167923262474204,
          30.749079042917764,
          30.832099939962177,
          31.496276617450153,
          32.4095223201598,
          32.4095223201598,
          33.32276485582524,
          33.48880981695829,
          33.737875675135754,
          34.12185444981566,
          34.12185444981566,
          34.12185444981566,
          34.12185444981566,
          34.12185444981566,
          34.12185444981566
         ],
         "yaxis": "y"
        }
       ],
       "layout": {
        "legend": {
         "tracegroupgap": 0
        },
        "margin": {
         "t": 60
        },
        "shapes": [
         {
          "line": {
           "color": "tomato",
           "width": 3
          },
          "name": "Perfect Line",
          "showlegend": true,
          "type": "line",
          "x0": 5.0625,
          "x1": 36.9625,
          "xref": "x",
          "y0": 5.0625,
          "y1": 36.9625,
          "yref": "y"
         }
        ],
        "showlegend": true,
        "template": {
         "data": {
          "bar": [
           {
            "error_x": {
             "color": "#2a3f5f"
            },
            "error_y": {
             "color": "#2a3f5f"
            },
            "marker": {
             "line": {
              "color": "white",
              "width": 0.5
             },
             "pattern": {
              "fillmode": "overlay",
              "size": 10,
              "solidity": 0.2
             }
            },
            "type": "bar"
           }
          ],
          "barpolar": [
           {
            "marker": {
             "line": {
              "color": "white",
              "width": 0.5
             },
             "pattern": {
              "fillmode": "overlay",
              "size": 10,
              "solidity": 0.2
             }
            },
            "type": "barpolar"
           }
          ],
          "carpet": [
           {
            "aaxis": {
             "endlinecolor": "#2a3f5f",
             "gridcolor": "#C8D4E3",
             "linecolor": "#C8D4E3",
             "minorgridcolor": "#C8D4E3",
             "startlinecolor": "#2a3f5f"
            },
            "baxis": {
             "endlinecolor": "#2a3f5f",
             "gridcolor": "#C8D4E3",
             "linecolor": "#C8D4E3",
             "minorgridcolor": "#C8D4E3",
             "startlinecolor": "#2a3f5f"
            },
            "type": "carpet"
           }
          ],
          "choropleth": [
           {
            "colorbar": {
             "outlinewidth": 0,
             "ticks": ""
            },
            "type": "choropleth"
           }
          ],
          "contour": [
           {
            "colorbar": {
             "outlinewidth": 0,
             "ticks": ""
            },
            "colorscale": [
             [
              0,
              "#0d0887"
             ],
             [
              0.1111111111111111,
              "#46039f"
             ],
             [
              0.2222222222222222,
              "#7201a8"
             ],
             [
              0.3333333333333333,
              "#9c179e"
             ],
             [
              0.4444444444444444,
              "#bd3786"
             ],
             [
              0.5555555555555556,
              "#d8576b"
             ],
             [
              0.6666666666666666,
              "#ed7953"
             ],
             [
              0.7777777777777778,
              "#fb9f3a"
             ],
             [
              0.8888888888888888,
              "#fdca26"
             ],
             [
              1,
              "#f0f921"
             ]
            ],
            "type": "contour"
           }
          ],
          "contourcarpet": [
           {
            "colorbar": {
             "outlinewidth": 0,
             "ticks": ""
            },
            "type": "contourcarpet"
           }
          ],
          "heatmap": [
           {
            "colorbar": {
             "outlinewidth": 0,
             "ticks": ""
            },
            "colorscale": [
             [
              0,
              "#0d0887"
             ],
             [
              0.1111111111111111,
              "#46039f"
             ],
             [
              0.2222222222222222,
              "#7201a8"
             ],
             [
              0.3333333333333333,
              "#9c179e"
             ],
             [
              0.4444444444444444,
              "#bd3786"
             ],
             [
              0.5555555555555556,
              "#d8576b"
             ],
             [
              0.6666666666666666,
              "#ed7953"
             ],
             [
              0.7777777777777778,
              "#fb9f3a"
             ],
             [
              0.8888888888888888,
              "#fdca26"
             ],
             [
              1,
              "#f0f921"
             ]
            ],
            "type": "heatmap"
           }
          ],
          "heatmapgl": [
           {
            "colorbar": {
             "outlinewidth": 0,
             "ticks": ""
            },
            "colorscale": [
             [
              0,
              "#0d0887"
             ],
             [
              0.1111111111111111,
              "#46039f"
             ],
             [
              0.2222222222222222,
              "#7201a8"
             ],
             [
              0.3333333333333333,
              "#9c179e"
             ],
             [
              0.4444444444444444,
              "#bd3786"
             ],
             [
              0.5555555555555556,
              "#d8576b"
             ],
             [
              0.6666666666666666,
              "#ed7953"
             ],
             [
              0.7777777777777778,
              "#fb9f3a"
             ],
             [
              0.8888888888888888,
              "#fdca26"
             ],
             [
              1,
              "#f0f921"
             ]
            ],
            "type": "heatmapgl"
           }
          ],
          "histogram": [
           {
            "marker": {
             "pattern": {
              "fillmode": "overlay",
              "size": 10,
              "solidity": 0.2
             }
            },
            "type": "histogram"
           }
          ],
          "histogram2d": [
           {
            "colorbar": {
             "outlinewidth": 0,
             "ticks": ""
            },
            "colorscale": [
             [
              0,
              "#0d0887"
             ],
             [
              0.1111111111111111,
              "#46039f"
             ],
             [
              0.2222222222222222,
              "#7201a8"
             ],
             [
              0.3333333333333333,
              "#9c179e"
             ],
             [
              0.4444444444444444,
              "#bd3786"
             ],
             [
              0.5555555555555556,
              "#d8576b"
             ],
             [
              0.6666666666666666,
              "#ed7953"
             ],
             [
              0.7777777777777778,
              "#fb9f3a"
             ],
             [
              0.8888888888888888,
              "#fdca26"
             ],
             [
              1,
              "#f0f921"
             ]
            ],
            "type": "histogram2d"
           }
          ],
          "histogram2dcontour": [
           {
            "colorbar": {
             "outlinewidth": 0,
             "ticks": ""
            },
            "colorscale": [
             [
              0,
              "#0d0887"
             ],
             [
              0.1111111111111111,
              "#46039f"
             ],
             [
              0.2222222222222222,
              "#7201a8"
             ],
             [
              0.3333333333333333,
              "#9c179e"
             ],
             [
              0.4444444444444444,
              "#bd3786"
             ],
             [
              0.5555555555555556,
              "#d8576b"
             ],
             [
              0.6666666666666666,
              "#ed7953"
             ],
             [
              0.7777777777777778,
              "#fb9f3a"
             ],
             [
              0.8888888888888888,
              "#fdca26"
             ],
             [
              1,
              "#f0f921"
             ]
            ],
            "type": "histogram2dcontour"
           }
          ],
          "mesh3d": [
           {
            "colorbar": {
             "outlinewidth": 0,
             "ticks": ""
            },
            "type": "mesh3d"
           }
          ],
          "parcoords": [
           {
            "line": {
             "colorbar": {
              "outlinewidth": 0,
              "ticks": ""
             }
            },
            "type": "parcoords"
           }
          ],
          "pie": [
           {
            "automargin": true,
            "type": "pie"
           }
          ],
          "scatter": [
           {
            "fillpattern": {
             "fillmode": "overlay",
             "size": 10,
             "solidity": 0.2
            },
            "type": "scatter"
           }
          ],
          "scatter3d": [
           {
            "line": {
             "colorbar": {
              "outlinewidth": 0,
              "ticks": ""
             }
            },
            "marker": {
             "colorbar": {
              "outlinewidth": 0,
              "ticks": ""
             }
            },
            "type": "scatter3d"
           }
          ],
          "scattercarpet": [
           {
            "marker": {
             "colorbar": {
              "outlinewidth": 0,
              "ticks": ""
             }
            },
            "type": "scattercarpet"
           }
          ],
          "scattergeo": [
           {
            "marker": {
             "colorbar": {
              "outlinewidth": 0,
              "ticks": ""
             }
            },
            "type": "scattergeo"
           }
          ],
          "scattergl": [
           {
            "marker": {
             "colorbar": {
              "outlinewidth": 0,
              "ticks": ""
             }
            },
            "type": "scattergl"
           }
          ],
          "scattermapbox": [
           {
            "marker": {
             "colorbar": {
              "outlinewidth": 0,
              "ticks": ""
             }
            },
            "type": "scattermapbox"
           }
          ],
          "scatterpolar": [
           {
            "marker": {
             "colorbar": {
              "outlinewidth": 0,
              "ticks": ""
             }
            },
            "type": "scatterpolar"
           }
          ],
          "scatterpolargl": [
           {
            "marker": {
             "colorbar": {
              "outlinewidth": 0,
              "ticks": ""
             }
            },
            "type": "scatterpolargl"
           }
          ],
          "scatterternary": [
           {
            "marker": {
             "colorbar": {
              "outlinewidth": 0,
              "ticks": ""
             }
            },
            "type": "scatterternary"
           }
          ],
          "surface": [
           {
            "colorbar": {
             "outlinewidth": 0,
             "ticks": ""
            },
            "colorscale": [
             [
              0,
              "#0d0887"
             ],
             [
              0.1111111111111111,
              "#46039f"
             ],
             [
              0.2222222222222222,
              "#7201a8"
             ],
             [
              0.3333333333333333,
              "#9c179e"
             ],
             [
              0.4444444444444444,
              "#bd3786"
             ],
             [
              0.5555555555555556,
              "#d8576b"
             ],
             [
              0.6666666666666666,
              "#ed7953"
             ],
             [
              0.7777777777777778,
              "#fb9f3a"
             ],
             [
              0.8888888888888888,
              "#fdca26"
             ],
             [
              1,
              "#f0f921"
             ]
            ],
            "type": "surface"
           }
          ],
          "table": [
           {
            "cells": {
             "fill": {
              "color": "#EBF0F8"
             },
             "line": {
              "color": "white"
             }
            },
            "header": {
             "fill": {
              "color": "#C8D4E3"
             },
             "line": {
              "color": "white"
             }
            },
            "type": "table"
           }
          ]
         },
         "layout": {
          "annotationdefaults": {
           "arrowcolor": "#2a3f5f",
           "arrowhead": 0,
           "arrowwidth": 1
          },
          "autotypenumbers": "strict",
          "coloraxis": {
           "colorbar": {
            "outlinewidth": 0,
            "ticks": ""
           }
          },
          "colorscale": {
           "diverging": [
            [
             0,
             "#8e0152"
            ],
            [
             0.1,
             "#c51b7d"
            ],
            [
             0.2,
             "#de77ae"
            ],
            [
             0.3,
             "#f1b6da"
            ],
            [
             0.4,
             "#fde0ef"
            ],
            [
             0.5,
             "#f7f7f7"
            ],
            [
             0.6,
             "#e6f5d0"
            ],
            [
             0.7,
             "#b8e186"
            ],
            [
             0.8,
             "#7fbc41"
            ],
            [
             0.9,
             "#4d9221"
            ],
            [
             1,
             "#276419"
            ]
           ],
           "sequential": [
            [
             0,
             "#0d0887"
            ],
            [
             0.1111111111111111,
             "#46039f"
            ],
            [
             0.2222222222222222,
             "#7201a8"
            ],
            [
             0.3333333333333333,
             "#9c179e"
            ],
            [
             0.4444444444444444,
             "#bd3786"
            ],
            [
             0.5555555555555556,
             "#d8576b"
            ],
            [
             0.6666666666666666,
             "#ed7953"
            ],
            [
             0.7777777777777778,
             "#fb9f3a"
            ],
            [
             0.8888888888888888,
             "#fdca26"
            ],
            [
             1,
             "#f0f921"
            ]
           ],
           "sequentialminus": [
            [
             0,
             "#0d0887"
            ],
            [
             0.1111111111111111,
             "#46039f"
            ],
            [
             0.2222222222222222,
             "#7201a8"
            ],
            [
             0.3333333333333333,
             "#9c179e"
            ],
            [
             0.4444444444444444,
             "#bd3786"
            ],
            [
             0.5555555555555556,
             "#d8576b"
            ],
            [
             0.6666666666666666,
             "#ed7953"
            ],
            [
             0.7777777777777778,
             "#fb9f3a"
            ],
            [
             0.8888888888888888,
             "#fdca26"
            ],
            [
             1,
             "#f0f921"
            ]
           ]
          },
          "colorway": [
           "#636efa",
           "#EF553B",
           "#00cc96",
           "#ab63fa",
           "#FFA15A",
           "#19d3f3",
           "#FF6692",
           "#B6E880",
           "#FF97FF",
           "#FECB52"
          ],
          "font": {
           "color": "#2a3f5f"
          },
          "geo": {
           "bgcolor": "white",
           "lakecolor": "white",
           "landcolor": "white",
           "showlakes": true,
           "showland": true,
           "subunitcolor": "#C8D4E3"
          },
          "hoverlabel": {
           "align": "left"
          },
          "hovermode": "closest",
          "mapbox": {
           "style": "light"
          },
          "paper_bgcolor": "white",
          "plot_bgcolor": "white",
          "polar": {
           "angularaxis": {
            "gridcolor": "#EBF0F8",
            "linecolor": "#EBF0F8",
            "ticks": ""
           },
           "bgcolor": "white",
           "radialaxis": {
            "gridcolor": "#EBF0F8",
            "linecolor": "#EBF0F8",
            "ticks": ""
           }
          },
          "scene": {
           "xaxis": {
            "backgroundcolor": "white",
            "gridcolor": "#DFE8F3",
            "gridwidth": 2,
            "linecolor": "#EBF0F8",
            "showbackground": true,
            "ticks": "",
            "zerolinecolor": "#EBF0F8"
           },
           "yaxis": {
            "backgroundcolor": "white",
            "gridcolor": "#DFE8F3",
            "gridwidth": 2,
            "linecolor": "#EBF0F8",
            "showbackground": true,
            "ticks": "",
            "zerolinecolor": "#EBF0F8"
           },
           "zaxis": {
            "backgroundcolor": "white",
            "gridcolor": "#DFE8F3",
            "gridwidth": 2,
            "linecolor": "#EBF0F8",
            "showbackground": true,
            "ticks": "",
            "zerolinecolor": "#EBF0F8"
           }
          },
          "shapedefaults": {
           "line": {
            "color": "#2a3f5f"
           }
          },
          "ternary": {
           "aaxis": {
            "gridcolor": "#DFE8F3",
            "linecolor": "#A2B1C6",
            "ticks": ""
           },
           "baxis": {
            "gridcolor": "#DFE8F3",
            "linecolor": "#A2B1C6",
            "ticks": ""
           },
           "bgcolor": "white",
           "caxis": {
            "gridcolor": "#DFE8F3",
            "linecolor": "#A2B1C6",
            "ticks": ""
           }
          },
          "title": {
           "x": 0.05
          },
          "xaxis": {
           "automargin": true,
           "gridcolor": "#EBF0F8",
           "linecolor": "#EBF0F8",
           "ticks": "",
           "title": {
            "standoff": 15
           },
           "zerolinecolor": "#EBF0F8",
           "zerolinewidth": 2
          },
          "yaxis": {
           "automargin": true,
           "gridcolor": "#EBF0F8",
           "linecolor": "#EBF0F8",
           "ticks": "",
           "title": {
            "standoff": 15
           },
           "zerolinecolor": "#EBF0F8",
           "zerolinewidth": 2
          }
         }
        },
        "title": {
         "text": "Actual VS Prediction",
         "x": 0.5
        },
        "xaxis": {
         "anchor": "y",
         "domain": [
          0,
          1
         ],
         "title": {
          "text": "y_true"
         }
        },
        "yaxis": {
         "anchor": "x",
         "domain": [
          0,
          1
         ],
         "title": {
          "text": "y_pred"
         }
        }
       }
      },
      "text/html": [
       "<div>                            <div id=\"dbb64835-6422-4cf3-8eba-9ff797e71f65\" class=\"plotly-graph-div\" style=\"height:525px; width:100%;\"></div>            <script type=\"text/javascript\">                require([\"plotly\"], function(Plotly) {                    window.PLOTLYENV=window.PLOTLYENV || {};                                    if (document.getElementById(\"dbb64835-6422-4cf3-8eba-9ff797e71f65\")) {                    Plotly.newPlot(                        \"dbb64835-6422-4cf3-8eba-9ff797e71f65\",                        [{\"hovertemplate\":\"y_true=%{x}\\u003cbr\\u003ey_pred=%{y}\\u003cextra\\u003e\\u003c\\u002fextra\\u003e\",\"legendgroup\":\"\",\"marker\":{\"color\":\"#636efa\",\"symbol\":\"circle\"},\"mode\":\"markers\",\"name\":\"Actual vs Predict\",\"showlegend\":true,\"x\":[32.9,5.6,21.4,23.3,34.9,21.6,14.6,31.7,22.7,19.6,28.7,20.4,21.1,16.8,20.5,22.8,24.4,18.8,36.9625,21.2,15.0,28.6,33.0,26.7,36.9625,31.0,28.0,29.6,29.4,20.0,28.1,18.7,19.8,16.1,23.0,23.8,23.2,13.9,15.0,24.6,26.6,12.3,19.1,24.8,11.9,23.1,36.9625,25.0,19.4,14.8,19.4,18.1,12.8,23.2,7.2,33.8,23.1,18.9,36.9625,27.9,32.2,16.7,19.0,20.5,16.7,22.9,23.7,29.9,10.2,23.1,17.4,13.4,36.2,19.0,21.7,17.8,36.9625,11.9,16.6,21.7,36.9625,5.0625,8.3,15.6,22.3,34.9,13.8,36.0,14.6,7.2,14.1,21.4,16.3,11.0,36.5,17.1,27.1,17.4,18.5,13.3,20.6,32.0,25.0,11.3,25.1,19.5,16.2],\"xaxis\":\"x\",\"y\":[32.83928148589884,9.413475567233824,19.460486485181903,26.07941148141353,31.60841780821974,20.24808216467691,16.87246494376755,34.04424052640593,22.172064321541235,19.691363841251118,28.753939778307334,20.595152701232,21.153618848321194,20.099515300122544,20.111235698768418,29.283903199798026,22.62311471689154,18.731583447239014,24.368630037240525,21.826317438255373,15.5711681351358,27.3288041344085,30.018524900029,28.96560812486083,36.25490224866059,30.75791459741648,26.957227173198138,31.603382303915495,27.41967838291341,22.100798125435034,24.138274056074966,18.611112381194225,21.207626595603465,22.77804360608784,21.555368504069477,23.132529254461524,20.245357178713384,13.984545675507281,17.857674936201377,23.600108145298382,26.06447245148585,10.28286642762896,19.714086303686553,27.693176226121423,19.981966743563675,18.02371630654565,35.79223148556394,22.562430689729897,18.872853212316,16.113306135528056,17.97153702498296,17.17592891999502,10.622334668145445,22.91395204017642,9.036767460959506,33.33587476818543,21.795995944666007,21.938160483292236,29.258225070162716,20.17298716656135,29.860680605050845,15.141416833082232,20.04010119883436,22.075984881681137,16.748649298747992,21.31045832377793,17.57944342848876,28.90778183055961,12.171166667905142,21.886491845854987,20.667825744132717,12.42357022814635,34.148024234355844,13.799425730857589,22.13798449310492,15.568350014701284,37.83677405706185,12.713841667234151,17.57900307474608,21.461996508505162,34.98579864557567,10.169361953936923,7.6487827823491426,15.664130860935183,23.15533905574031,34.426134042220895,15.717599916934256,32.50442942458279,16.043273325494408,10.978493322340402,14.761606747825605,23.378237079717458,9.232818745351482,10.251426496039564,33.3228245068933,20.414312377045118,18.56990170764695,16.778667464114566,21.65317899040241,12.849737451086913,19.873925471019938,32.17765058079207,27.237184260328277,10.341427688588132,26.36277658846712,17.88153600470887,20.097503585345418],\"yaxis\":\"y\",\"type\":\"scattergl\"},{\"hovertemplate\":\"\\u003cb\\u003eOLS trendline\\u003c\\u002fb\\u003e\\u003cbr\\u003ey = 0.830222 * x + 3.43479\\u003cbr\\u003eR\\u003csup\\u003e2\\u003c\\u002fsup\\u003e=0.850988\\u003cbr\\u003e\\u003cbr\\u003ex=%{x}\\u003cbr\\u003ey=%{y} \\u003cb\\u003e(trend)\\u003c\\u002fb\\u003e\\u003cextra\\u003e\\u003c\\u002fextra\\u003e\",\"legendgroup\":\"\",\"line\":{\"color\":\"blue\"},\"marker\":{\"color\":\"#636efa\",\"symbol\":\"circle\"},\"mode\":\"lines\",\"name\":\"OLS\",\"showlegend\":true,\"x\":[5.0625,5.6,7.2,7.2,8.3,10.2,11.0,11.3,11.9,11.9,12.3,12.8,13.3,13.4,13.8,13.9,14.1,14.6,14.6,14.8,15.0,15.0,15.6,16.1,16.2,16.3,16.6,16.7,16.7,16.8,17.1,17.4,17.4,17.8,18.1,18.5,18.7,18.8,18.9,19.0,19.0,19.1,19.4,19.4,19.5,19.6,19.8,20.0,20.4,20.5,20.5,20.6,21.1,21.2,21.4,21.4,21.6,21.7,21.7,22.3,22.7,22.8,22.9,23.0,23.1,23.1,23.1,23.2,23.2,23.3,23.7,23.8,24.4,24.6,24.8,25.0,25.0,25.1,26.6,26.7,27.1,27.9,28.0,28.1,28.6,28.7,29.4,29.6,29.9,31.0,31.7,32.0,32.2,32.9,33.0,33.8,34.9,34.9,36.0,36.2,36.5,36.9625,36.9625,36.9625,36.9625,36.9625,36.9625],\"xaxis\":\"x\",\"y\":[7.637782910987415,8.084026962570109,9.412381505187636,9.412381505187636,10.325625624375181,11.903046421050698,12.567223890299726,12.816290540238242,13.314423048354222,13.314423048354222,13.646512178859263,14.061622998169772,14.476733817480284,14.559755506285754,14.891844636790793,14.974866325596263,15.14091128672931,15.556022106039821,15.556022106039821,15.722066275411814,15.888110444783807,15.888110444783807,16.38624374466084,16.80135456397135,16.884377044537874,16.96739794158229,17.216465383281864,17.299487863848384,17.299487863848384,17.3825087608928,17.63157620259237,17.880642060769837,17.880642060769837,18.212730399513823,18.461797841213393,18.79388617995738,18.95993114109043,19.042952038134842,19.125974518701366,19.20899699926789,19.20899699926789,19.292019479834416,19.541085338011875,19.541085338011875,19.624107818578402,19.707130299144925,19.873173676755865,20.03921863788891,20.371306976632898,20.45432945719942,20.45432945719942,20.537351937765944,20.952462757076454,21.035485237642977,21.201528615253917,21.201528615253917,21.367573576386967,21.45059605695349,21.45059605695349,21.948727773308416,22.28081769557451,22.363838592618926,22.44686107318545,22.529883553751972,22.612906034318495,22.612906034318495,22.612906034318495,22.69592851488502,22.69592851488502,22.778949411929435,23.111039334195528,23.194060231239945,23.69219353111698,23.858238492250027,24.024281869860967,24.190326830994014,24.190326830994014,24.273349311560537,25.51868176949207,25.601704250058592,25.93379258880258,26.59796926629055,26.680991746857075,26.764014227423598,27.17912504673411,27.262147527300634,27.843301724222083,28.00934668535513,28.258412543532593,29.17165666272014,29.752812443163695,30.001878301341158,30.167923262474204,30.749079042917764,30.832099939962177,31.496276617450153,32.4095223201598,32.4095223201598,33.32276485582524,33.48880981695829,33.737875675135754,34.12185444981566,34.12185444981566,34.12185444981566,34.12185444981566,34.12185444981566,34.12185444981566],\"yaxis\":\"y\",\"type\":\"scattergl\"}],                        {\"template\":{\"data\":{\"barpolar\":[{\"marker\":{\"line\":{\"color\":\"white\",\"width\":0.5},\"pattern\":{\"fillmode\":\"overlay\",\"size\":10,\"solidity\":0.2}},\"type\":\"barpolar\"}],\"bar\":[{\"error_x\":{\"color\":\"#2a3f5f\"},\"error_y\":{\"color\":\"#2a3f5f\"},\"marker\":{\"line\":{\"color\":\"white\",\"width\":0.5},\"pattern\":{\"fillmode\":\"overlay\",\"size\":10,\"solidity\":0.2}},\"type\":\"bar\"}],\"carpet\":[{\"aaxis\":{\"endlinecolor\":\"#2a3f5f\",\"gridcolor\":\"#C8D4E3\",\"linecolor\":\"#C8D4E3\",\"minorgridcolor\":\"#C8D4E3\",\"startlinecolor\":\"#2a3f5f\"},\"baxis\":{\"endlinecolor\":\"#2a3f5f\",\"gridcolor\":\"#C8D4E3\",\"linecolor\":\"#C8D4E3\",\"minorgridcolor\":\"#C8D4E3\",\"startlinecolor\":\"#2a3f5f\"},\"type\":\"carpet\"}],\"choropleth\":[{\"colorbar\":{\"outlinewidth\":0,\"ticks\":\"\"},\"type\":\"choropleth\"}],\"contourcarpet\":[{\"colorbar\":{\"outlinewidth\":0,\"ticks\":\"\"},\"type\":\"contourcarpet\"}],\"contour\":[{\"colorbar\":{\"outlinewidth\":0,\"ticks\":\"\"},\"colorscale\":[[0.0,\"#0d0887\"],[0.1111111111111111,\"#46039f\"],[0.2222222222222222,\"#7201a8\"],[0.3333333333333333,\"#9c179e\"],[0.4444444444444444,\"#bd3786\"],[0.5555555555555556,\"#d8576b\"],[0.6666666666666666,\"#ed7953\"],[0.7777777777777778,\"#fb9f3a\"],[0.8888888888888888,\"#fdca26\"],[1.0,\"#f0f921\"]],\"type\":\"contour\"}],\"heatmapgl\":[{\"colorbar\":{\"outlinewidth\":0,\"ticks\":\"\"},\"colorscale\":[[0.0,\"#0d0887\"],[0.1111111111111111,\"#46039f\"],[0.2222222222222222,\"#7201a8\"],[0.3333333333333333,\"#9c179e\"],[0.4444444444444444,\"#bd3786\"],[0.5555555555555556,\"#d8576b\"],[0.6666666666666666,\"#ed7953\"],[0.7777777777777778,\"#fb9f3a\"],[0.8888888888888888,\"#fdca26\"],[1.0,\"#f0f921\"]],\"type\":\"heatmapgl\"}],\"heatmap\":[{\"colorbar\":{\"outlinewidth\":0,\"ticks\":\"\"},\"colorscale\":[[0.0,\"#0d0887\"],[0.1111111111111111,\"#46039f\"],[0.2222222222222222,\"#7201a8\"],[0.3333333333333333,\"#9c179e\"],[0.4444444444444444,\"#bd3786\"],[0.5555555555555556,\"#d8576b\"],[0.6666666666666666,\"#ed7953\"],[0.7777777777777778,\"#fb9f3a\"],[0.8888888888888888,\"#fdca26\"],[1.0,\"#f0f921\"]],\"type\":\"heatmap\"}],\"histogram2dcontour\":[{\"colorbar\":{\"outlinewidth\":0,\"ticks\":\"\"},\"colorscale\":[[0.0,\"#0d0887\"],[0.1111111111111111,\"#46039f\"],[0.2222222222222222,\"#7201a8\"],[0.3333333333333333,\"#9c179e\"],[0.4444444444444444,\"#bd3786\"],[0.5555555555555556,\"#d8576b\"],[0.6666666666666666,\"#ed7953\"],[0.7777777777777778,\"#fb9f3a\"],[0.8888888888888888,\"#fdca26\"],[1.0,\"#f0f921\"]],\"type\":\"histogram2dcontour\"}],\"histogram2d\":[{\"colorbar\":{\"outlinewidth\":0,\"ticks\":\"\"},\"colorscale\":[[0.0,\"#0d0887\"],[0.1111111111111111,\"#46039f\"],[0.2222222222222222,\"#7201a8\"],[0.3333333333333333,\"#9c179e\"],[0.4444444444444444,\"#bd3786\"],[0.5555555555555556,\"#d8576b\"],[0.6666666666666666,\"#ed7953\"],[0.7777777777777778,\"#fb9f3a\"],[0.8888888888888888,\"#fdca26\"],[1.0,\"#f0f921\"]],\"type\":\"histogram2d\"}],\"histogram\":[{\"marker\":{\"pattern\":{\"fillmode\":\"overlay\",\"size\":10,\"solidity\":0.2}},\"type\":\"histogram\"}],\"mesh3d\":[{\"colorbar\":{\"outlinewidth\":0,\"ticks\":\"\"},\"type\":\"mesh3d\"}],\"parcoords\":[{\"line\":{\"colorbar\":{\"outlinewidth\":0,\"ticks\":\"\"}},\"type\":\"parcoords\"}],\"pie\":[{\"automargin\":true,\"type\":\"pie\"}],\"scatter3d\":[{\"line\":{\"colorbar\":{\"outlinewidth\":0,\"ticks\":\"\"}},\"marker\":{\"colorbar\":{\"outlinewidth\":0,\"ticks\":\"\"}},\"type\":\"scatter3d\"}],\"scattercarpet\":[{\"marker\":{\"colorbar\":{\"outlinewidth\":0,\"ticks\":\"\"}},\"type\":\"scattercarpet\"}],\"scattergeo\":[{\"marker\":{\"colorbar\":{\"outlinewidth\":0,\"ticks\":\"\"}},\"type\":\"scattergeo\"}],\"scattergl\":[{\"marker\":{\"colorbar\":{\"outlinewidth\":0,\"ticks\":\"\"}},\"type\":\"scattergl\"}],\"scattermapbox\":[{\"marker\":{\"colorbar\":{\"outlinewidth\":0,\"ticks\":\"\"}},\"type\":\"scattermapbox\"}],\"scatterpolargl\":[{\"marker\":{\"colorbar\":{\"outlinewidth\":0,\"ticks\":\"\"}},\"type\":\"scatterpolargl\"}],\"scatterpolar\":[{\"marker\":{\"colorbar\":{\"outlinewidth\":0,\"ticks\":\"\"}},\"type\":\"scatterpolar\"}],\"scatter\":[{\"fillpattern\":{\"fillmode\":\"overlay\",\"size\":10,\"solidity\":0.2},\"type\":\"scatter\"}],\"scatterternary\":[{\"marker\":{\"colorbar\":{\"outlinewidth\":0,\"ticks\":\"\"}},\"type\":\"scatterternary\"}],\"surface\":[{\"colorbar\":{\"outlinewidth\":0,\"ticks\":\"\"},\"colorscale\":[[0.0,\"#0d0887\"],[0.1111111111111111,\"#46039f\"],[0.2222222222222222,\"#7201a8\"],[0.3333333333333333,\"#9c179e\"],[0.4444444444444444,\"#bd3786\"],[0.5555555555555556,\"#d8576b\"],[0.6666666666666666,\"#ed7953\"],[0.7777777777777778,\"#fb9f3a\"],[0.8888888888888888,\"#fdca26\"],[1.0,\"#f0f921\"]],\"type\":\"surface\"}],\"table\":[{\"cells\":{\"fill\":{\"color\":\"#EBF0F8\"},\"line\":{\"color\":\"white\"}},\"header\":{\"fill\":{\"color\":\"#C8D4E3\"},\"line\":{\"color\":\"white\"}},\"type\":\"table\"}]},\"layout\":{\"annotationdefaults\":{\"arrowcolor\":\"#2a3f5f\",\"arrowhead\":0,\"arrowwidth\":1},\"autotypenumbers\":\"strict\",\"coloraxis\":{\"colorbar\":{\"outlinewidth\":0,\"ticks\":\"\"}},\"colorscale\":{\"diverging\":[[0,\"#8e0152\"],[0.1,\"#c51b7d\"],[0.2,\"#de77ae\"],[0.3,\"#f1b6da\"],[0.4,\"#fde0ef\"],[0.5,\"#f7f7f7\"],[0.6,\"#e6f5d0\"],[0.7,\"#b8e186\"],[0.8,\"#7fbc41\"],[0.9,\"#4d9221\"],[1,\"#276419\"]],\"sequential\":[[0.0,\"#0d0887\"],[0.1111111111111111,\"#46039f\"],[0.2222222222222222,\"#7201a8\"],[0.3333333333333333,\"#9c179e\"],[0.4444444444444444,\"#bd3786\"],[0.5555555555555556,\"#d8576b\"],[0.6666666666666666,\"#ed7953\"],[0.7777777777777778,\"#fb9f3a\"],[0.8888888888888888,\"#fdca26\"],[1.0,\"#f0f921\"]],\"sequentialminus\":[[0.0,\"#0d0887\"],[0.1111111111111111,\"#46039f\"],[0.2222222222222222,\"#7201a8\"],[0.3333333333333333,\"#9c179e\"],[0.4444444444444444,\"#bd3786\"],[0.5555555555555556,\"#d8576b\"],[0.6666666666666666,\"#ed7953\"],[0.7777777777777778,\"#fb9f3a\"],[0.8888888888888888,\"#fdca26\"],[1.0,\"#f0f921\"]]},\"colorway\":[\"#636efa\",\"#EF553B\",\"#00cc96\",\"#ab63fa\",\"#FFA15A\",\"#19d3f3\",\"#FF6692\",\"#B6E880\",\"#FF97FF\",\"#FECB52\"],\"font\":{\"color\":\"#2a3f5f\"},\"geo\":{\"bgcolor\":\"white\",\"lakecolor\":\"white\",\"landcolor\":\"white\",\"showlakes\":true,\"showland\":true,\"subunitcolor\":\"#C8D4E3\"},\"hoverlabel\":{\"align\":\"left\"},\"hovermode\":\"closest\",\"mapbox\":{\"style\":\"light\"},\"paper_bgcolor\":\"white\",\"plot_bgcolor\":\"white\",\"polar\":{\"angularaxis\":{\"gridcolor\":\"#EBF0F8\",\"linecolor\":\"#EBF0F8\",\"ticks\":\"\"},\"bgcolor\":\"white\",\"radialaxis\":{\"gridcolor\":\"#EBF0F8\",\"linecolor\":\"#EBF0F8\",\"ticks\":\"\"}},\"scene\":{\"xaxis\":{\"backgroundcolor\":\"white\",\"gridcolor\":\"#DFE8F3\",\"gridwidth\":2,\"linecolor\":\"#EBF0F8\",\"showbackground\":true,\"ticks\":\"\",\"zerolinecolor\":\"#EBF0F8\"},\"yaxis\":{\"backgroundcolor\":\"white\",\"gridcolor\":\"#DFE8F3\",\"gridwidth\":2,\"linecolor\":\"#EBF0F8\",\"showbackground\":true,\"ticks\":\"\",\"zerolinecolor\":\"#EBF0F8\"},\"zaxis\":{\"backgroundcolor\":\"white\",\"gridcolor\":\"#DFE8F3\",\"gridwidth\":2,\"linecolor\":\"#EBF0F8\",\"showbackground\":true,\"ticks\":\"\",\"zerolinecolor\":\"#EBF0F8\"}},\"shapedefaults\":{\"line\":{\"color\":\"#2a3f5f\"}},\"ternary\":{\"aaxis\":{\"gridcolor\":\"#DFE8F3\",\"linecolor\":\"#A2B1C6\",\"ticks\":\"\"},\"baxis\":{\"gridcolor\":\"#DFE8F3\",\"linecolor\":\"#A2B1C6\",\"ticks\":\"\"},\"bgcolor\":\"white\",\"caxis\":{\"gridcolor\":\"#DFE8F3\",\"linecolor\":\"#A2B1C6\",\"ticks\":\"\"}},\"title\":{\"x\":0.05},\"xaxis\":{\"automargin\":true,\"gridcolor\":\"#EBF0F8\",\"linecolor\":\"#EBF0F8\",\"ticks\":\"\",\"title\":{\"standoff\":15},\"zerolinecolor\":\"#EBF0F8\",\"zerolinewidth\":2},\"yaxis\":{\"automargin\":true,\"gridcolor\":\"#EBF0F8\",\"linecolor\":\"#EBF0F8\",\"ticks\":\"\",\"title\":{\"standoff\":15},\"zerolinecolor\":\"#EBF0F8\",\"zerolinewidth\":2}}},\"xaxis\":{\"anchor\":\"y\",\"domain\":[0.0,1.0],\"title\":{\"text\":\"y_true\"}},\"yaxis\":{\"anchor\":\"x\",\"domain\":[0.0,1.0],\"title\":{\"text\":\"y_pred\"}},\"legend\":{\"tracegroupgap\":0},\"margin\":{\"t\":60},\"shapes\":[{\"line\":{\"color\":\"tomato\",\"width\":3},\"name\":\"Perfect Line\",\"showlegend\":true,\"type\":\"line\",\"x0\":5.0625,\"x1\":36.9625,\"xref\":\"x\",\"y0\":5.0625,\"y1\":36.9625,\"yref\":\"y\"}],\"title\":{\"text\":\"Actual VS Prediction\",\"x\":0.5},\"showlegend\":true},                        {\"responsive\": true}                    ).then(function(){\n",
       "                            \n",
       "var gd = document.getElementById('dbb64835-6422-4cf3-8eba-9ff797e71f65');\n",
       "var x = new MutationObserver(function (mutations, observer) {{\n",
       "        var display = window.getComputedStyle(gd).display;\n",
       "        if (!display || display === 'none') {{\n",
       "            console.log([gd, 'removed!']);\n",
       "            Plotly.purge(gd);\n",
       "            observer.disconnect();\n",
       "        }}\n",
       "}});\n",
       "\n",
       "// Listen for the removal of the full notebook cells\n",
       "var notebookContainer = gd.closest('#notebook-container');\n",
       "if (notebookContainer) {{\n",
       "    x.observe(notebookContainer, {childList: true});\n",
       "}}\n",
       "\n",
       "// Listen for the clearing of the current output cell\n",
       "var outputEl = gd.closest('.output');\n",
       "if (outputEl) {{\n",
       "    x.observe(outputEl, {childList: true});\n",
       "}}\n",
       "\n",
       "                        })                };                });            </script>        </div>"
      ]
     },
     "metadata": {},
     "output_type": "display_data"
    }
   ],
   "source": [
    "fig_error"
   ]
  },
  {
   "cell_type": "code",
   "execution_count": 57,
   "id": "7e9f62c6",
   "metadata": {
    "ExecuteTime": {
     "end_time": "2024-06-25T09:48:02.049853Z",
     "start_time": "2024-06-25T09:48:01.117495Z"
    },
    "deletable": false,
    "editable": false
   },
   "outputs": [
    {
     "data": {
      "application/vnd.jupyter.widget-view+json": {
       "model_id": "5699aadc6fc84c5cbbd5f77d2b14e3c4",
       "version_major": 2,
       "version_minor": 0
      },
      "text/plain": [
       "interactive(children=(ToggleButtons(description='Plot Type:', icons=('',), options=(('Pipeline Plot', 'pipelin…"
      ]
     },
     "metadata": {},
     "output_type": "display_data"
    }
   ],
   "source": [
    "evaluate_model(catboost_model)"
   ]
  }
 ],
 "metadata": {
  "kernelspec": {
   "display_name": "Python 3 (ipykernel)",
   "language": "python",
   "name": "python3"
  },
  "language_info": {
   "codemirror_mode": {
    "name": "ipython",
    "version": 3
   },
   "file_extension": ".py",
   "mimetype": "text/x-python",
   "name": "python",
   "nbconvert_exporter": "python",
   "pygments_lexer": "ipython3",
   "version": "3.9.12"
  },
  "toc": {
   "base_numbering": 1,
   "nav_menu": {},
   "number_sections": true,
   "sideBar": true,
   "skip_h1_title": false,
   "title_cell": "Table of Contents",
   "title_sidebar": "Contents",
   "toc_cell": false,
   "toc_position": {},
   "toc_section_display": true,
   "toc_window_display": false
  },
  "varInspector": {
   "cols": {
    "lenName": 16,
    "lenType": 16,
    "lenVar": 40
   },
   "kernels_config": {
    "python": {
     "delete_cmd_postfix": "",
     "delete_cmd_prefix": "del ",
     "library": "var_list.py",
     "varRefreshCmd": "print(var_dic_list())"
    },
    "r": {
     "delete_cmd_postfix": ") ",
     "delete_cmd_prefix": "rm(",
     "library": "var_list.r",
     "varRefreshCmd": "cat(var_dic_list()) "
    }
   },
   "types_to_exclude": [
    "module",
    "function",
    "builtin_function_or_method",
    "instance",
    "_Feature"
   ],
   "window_display": false
  }
 },
 "nbformat": 4,
 "nbformat_minor": 5
}
